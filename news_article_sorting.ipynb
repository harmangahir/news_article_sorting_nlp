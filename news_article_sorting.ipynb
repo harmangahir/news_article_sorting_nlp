{
 "cells": [
  {
   "attachments": {},
   "cell_type": "markdown",
   "metadata": {},
   "source": [
    "### Import Libraries"
   ]
  },
  {
   "cell_type": "code",
   "execution_count": 1,
   "metadata": {},
   "outputs": [],
   "source": [
    "# Load, explore, process and plot data\n",
    "import re\n",
    "import numpy as np\n",
    "import pandas as pd\n",
    "import matplotlib.pyplot as plt\n",
    "import seaborn as sns\n",
    "import pickle as pk\n",
    "\n",
    "# Train Test Split\n",
    "from sklearn.model_selection import train_test_split,cross_val_score\n",
    "\n",
    "#Text Preprocessing\n",
    "import nltk\n",
    "from nltk.corpus import stopwords\n",
    "from nltk.stem import PorterStemmer\n",
    "from nltk.stem import WordNetLemmatizer\n",
    "from nltk.tokenize import sent_tokenize, word_tokenize\n",
    "from keras.preprocessing.text import Tokenizer\n",
    "from sklearn.feature_extraction.text import CountVectorizer,TfidfTransformer\n",
    "from sklearn.preprocessing import LabelEncoder\n",
    "from tensorflow.keras.preprocessing.text import one_hot\n",
    "from tensorflow.keras.preprocessing.sequence import pad_sequences\n",
    "\n",
    "#Machine Larning Modeling\n",
    "import sklearn\n",
    "from sklearn.naive_bayes import GaussianNB, MultinomialNB, BernoulliNB, ComplementNB\n",
    "from sklearn.neighbors import KNeighborsClassifier\n",
    "from sklearn.linear_model import LogisticRegression\n",
    "from sklearn.linear_model import SGDClassifier\n",
    "from sklearn.ensemble import RandomForestClassifier\n",
    "from sklearn.calibration import CalibratedClassifierCV\n",
    "\n",
    "\n",
    "# Deep Learning Modeling\n",
    "import tensorflow\n",
    "from tensorflow.keras.models import Sequential\n",
    "from tensorflow.keras.layers import Dense, LSTM, Bidirectional, GRU, Embedding,SpatialDropout1D, Dropout, Activation\n",
    "from keras.callbacks import ModelCheckpoint, EarlyStopping\n",
    "from tensorflow.keras.preprocessing.sequence import pad_sequences\n",
    "\n",
    "\n",
    "\n",
    "# Performance metrices\n",
    "from sklearn.metrics import accuracy_score, confusion_matrix, classification_report\n",
    "from keras.utils.np_utils import to_categorical\n",
    "\n",
    "\n",
    "#Logging\n",
    "import logging\n",
    "logging.basicConfig(format='%(asctime)s : %(levelname)s : %(message)s', level=logging.INFO)\n",
    "logging.root.level = logging.INFO"
   ]
  },
  {
   "attachments": {},
   "cell_type": "markdown",
   "metadata": {},
   "source": [
    "## Load Datasets"
   ]
  },
  {
   "cell_type": "code",
   "execution_count": 2,
   "metadata": {},
   "outputs": [
    {
     "name": "stdout",
     "output_type": "stream",
     "text": [
      "(1490, 3)\n",
      "(735, 2)\n"
     ]
    }
   ],
   "source": [
    "data_frame_train = pd.read_csv('dataset/BBC News Train.csv')\n",
    "data_frame_test = pd.read_csv('dataset/BBC News Test.csv')\n",
    "print(data_frame_train.shape)\n",
    "print(data_frame_test.shape)"
   ]
  },
  {
   "cell_type": "code",
   "execution_count": 4,
   "metadata": {},
   "outputs": [
    {
     "data": {
      "text/html": [
       "<div>\n",
       "<style scoped>\n",
       "    .dataframe tbody tr th:only-of-type {\n",
       "        vertical-align: middle;\n",
       "    }\n",
       "\n",
       "    .dataframe tbody tr th {\n",
       "        vertical-align: top;\n",
       "    }\n",
       "\n",
       "    .dataframe thead th {\n",
       "        text-align: right;\n",
       "    }\n",
       "</style>\n",
       "<table border=\"1\" class=\"dataframe\">\n",
       "  <thead>\n",
       "    <tr style=\"text-align: right;\">\n",
       "      <th></th>\n",
       "      <th>ArticleId</th>\n",
       "      <th>Text</th>\n",
       "      <th>Category</th>\n",
       "    </tr>\n",
       "  </thead>\n",
       "  <tbody>\n",
       "    <tr>\n",
       "      <th>0</th>\n",
       "      <td>1833</td>\n",
       "      <td>worldcom ex-boss launches defence lawyers defe...</td>\n",
       "      <td>business</td>\n",
       "    </tr>\n",
       "    <tr>\n",
       "      <th>1</th>\n",
       "      <td>154</td>\n",
       "      <td>german business confidence slides german busin...</td>\n",
       "      <td>business</td>\n",
       "    </tr>\n",
       "    <tr>\n",
       "      <th>2</th>\n",
       "      <td>1101</td>\n",
       "      <td>bbc poll indicates economic gloom citizens in ...</td>\n",
       "      <td>business</td>\n",
       "    </tr>\n",
       "    <tr>\n",
       "      <th>3</th>\n",
       "      <td>1976</td>\n",
       "      <td>lifestyle  governs mobile choice  faster  bett...</td>\n",
       "      <td>tech</td>\n",
       "    </tr>\n",
       "    <tr>\n",
       "      <th>4</th>\n",
       "      <td>917</td>\n",
       "      <td>enron bosses in $168m payout eighteen former e...</td>\n",
       "      <td>business</td>\n",
       "    </tr>\n",
       "    <tr>\n",
       "      <th>...</th>\n",
       "      <td>...</td>\n",
       "      <td>...</td>\n",
       "      <td>...</td>\n",
       "    </tr>\n",
       "    <tr>\n",
       "      <th>1485</th>\n",
       "      <td>857</td>\n",
       "      <td>double eviction from big brother model caprice...</td>\n",
       "      <td>entertainment</td>\n",
       "    </tr>\n",
       "    <tr>\n",
       "      <th>1486</th>\n",
       "      <td>325</td>\n",
       "      <td>dj double act revamp chart show dj duo jk and ...</td>\n",
       "      <td>entertainment</td>\n",
       "    </tr>\n",
       "    <tr>\n",
       "      <th>1487</th>\n",
       "      <td>1590</td>\n",
       "      <td>weak dollar hits reuters revenues at media gro...</td>\n",
       "      <td>business</td>\n",
       "    </tr>\n",
       "    <tr>\n",
       "      <th>1488</th>\n",
       "      <td>1587</td>\n",
       "      <td>apple ipod family expands market apple has exp...</td>\n",
       "      <td>tech</td>\n",
       "    </tr>\n",
       "    <tr>\n",
       "      <th>1489</th>\n",
       "      <td>538</td>\n",
       "      <td>santy worm makes unwelcome visit thousands of ...</td>\n",
       "      <td>tech</td>\n",
       "    </tr>\n",
       "  </tbody>\n",
       "</table>\n",
       "<p>1490 rows × 3 columns</p>\n",
       "</div>"
      ],
      "text/plain": [
       "      ArticleId                                               Text  \\\n",
       "0          1833  worldcom ex-boss launches defence lawyers defe...   \n",
       "1           154  german business confidence slides german busin...   \n",
       "2          1101  bbc poll indicates economic gloom citizens in ...   \n",
       "3          1976  lifestyle  governs mobile choice  faster  bett...   \n",
       "4           917  enron bosses in $168m payout eighteen former e...   \n",
       "...         ...                                                ...   \n",
       "1485        857  double eviction from big brother model caprice...   \n",
       "1486        325  dj double act revamp chart show dj duo jk and ...   \n",
       "1487       1590  weak dollar hits reuters revenues at media gro...   \n",
       "1488       1587  apple ipod family expands market apple has exp...   \n",
       "1489        538  santy worm makes unwelcome visit thousands of ...   \n",
       "\n",
       "           Category  \n",
       "0          business  \n",
       "1          business  \n",
       "2          business  \n",
       "3              tech  \n",
       "4          business  \n",
       "...             ...  \n",
       "1485  entertainment  \n",
       "1486  entertainment  \n",
       "1487       business  \n",
       "1488           tech  \n",
       "1489           tech  \n",
       "\n",
       "[1490 rows x 3 columns]"
      ]
     },
     "execution_count": 4,
     "metadata": {},
     "output_type": "execute_result"
    }
   ],
   "source": [
    "data_frame_train"
   ]
  },
  {
   "cell_type": "code",
   "execution_count": 3,
   "metadata": {},
   "outputs": [
    {
     "data": {
      "text/html": [
       "<div>\n",
       "<style scoped>\n",
       "    .dataframe tbody tr th:only-of-type {\n",
       "        vertical-align: middle;\n",
       "    }\n",
       "\n",
       "    .dataframe tbody tr th {\n",
       "        vertical-align: top;\n",
       "    }\n",
       "\n",
       "    .dataframe thead th {\n",
       "        text-align: right;\n",
       "    }\n",
       "</style>\n",
       "<table border=\"1\" class=\"dataframe\">\n",
       "  <thead>\n",
       "    <tr style=\"text-align: right;\">\n",
       "      <th></th>\n",
       "      <th>ArticleId</th>\n",
       "      <th>Text</th>\n",
       "    </tr>\n",
       "  </thead>\n",
       "  <tbody>\n",
       "    <tr>\n",
       "      <th>0</th>\n",
       "      <td>1018</td>\n",
       "      <td>qpr keeper day heads for preston queens park r...</td>\n",
       "    </tr>\n",
       "    <tr>\n",
       "      <th>1</th>\n",
       "      <td>1319</td>\n",
       "      <td>software watching while you work software that...</td>\n",
       "    </tr>\n",
       "    <tr>\n",
       "      <th>2</th>\n",
       "      <td>1138</td>\n",
       "      <td>d arcy injury adds to ireland woe gordon d arc...</td>\n",
       "    </tr>\n",
       "    <tr>\n",
       "      <th>3</th>\n",
       "      <td>459</td>\n",
       "      <td>india s reliance family feud heats up the ongo...</td>\n",
       "    </tr>\n",
       "    <tr>\n",
       "      <th>4</th>\n",
       "      <td>1020</td>\n",
       "      <td>boro suffer morrison injury blow middlesbrough...</td>\n",
       "    </tr>\n",
       "    <tr>\n",
       "      <th>...</th>\n",
       "      <td>...</td>\n",
       "      <td>...</td>\n",
       "    </tr>\n",
       "    <tr>\n",
       "      <th>730</th>\n",
       "      <td>1923</td>\n",
       "      <td>eu to probe alitalia  state aid  the european ...</td>\n",
       "    </tr>\n",
       "    <tr>\n",
       "      <th>731</th>\n",
       "      <td>373</td>\n",
       "      <td>u2 to play at grammy awards show irish rock ba...</td>\n",
       "    </tr>\n",
       "    <tr>\n",
       "      <th>732</th>\n",
       "      <td>1704</td>\n",
       "      <td>sport betting rules in spotlight a group of mp...</td>\n",
       "    </tr>\n",
       "    <tr>\n",
       "      <th>733</th>\n",
       "      <td>206</td>\n",
       "      <td>alfa romeos  to get gm engines  fiat is to sto...</td>\n",
       "    </tr>\n",
       "    <tr>\n",
       "      <th>734</th>\n",
       "      <td>471</td>\n",
       "      <td>citizenship event for 18s touted citizenship c...</td>\n",
       "    </tr>\n",
       "  </tbody>\n",
       "</table>\n",
       "<p>735 rows × 2 columns</p>\n",
       "</div>"
      ],
      "text/plain": [
       "     ArticleId                                               Text\n",
       "0         1018  qpr keeper day heads for preston queens park r...\n",
       "1         1319  software watching while you work software that...\n",
       "2         1138  d arcy injury adds to ireland woe gordon d arc...\n",
       "3          459  india s reliance family feud heats up the ongo...\n",
       "4         1020  boro suffer morrison injury blow middlesbrough...\n",
       "..         ...                                                ...\n",
       "730       1923  eu to probe alitalia  state aid  the european ...\n",
       "731        373  u2 to play at grammy awards show irish rock ba...\n",
       "732       1704  sport betting rules in spotlight a group of mp...\n",
       "733        206  alfa romeos  to get gm engines  fiat is to sto...\n",
       "734        471  citizenship event for 18s touted citizenship c...\n",
       "\n",
       "[735 rows x 2 columns]"
      ]
     },
     "execution_count": 3,
     "metadata": {},
     "output_type": "execute_result"
    }
   ],
   "source": [
    "data_frame_test"
   ]
  },
  {
   "cell_type": "code",
   "execution_count": 4,
   "metadata": {},
   "outputs": [
    {
     "data": {
      "text/plain": [
       "array(['business', 'tech', 'politics', 'sport', 'entertainment'],\n",
       "      dtype=object)"
      ]
     },
     "execution_count": 4,
     "metadata": {},
     "output_type": "execute_result"
    }
   ],
   "source": [
    "data_frame_train.Category.unique()"
   ]
  },
  {
   "cell_type": "code",
   "execution_count": 5,
   "metadata": {},
   "outputs": [
    {
     "name": "stdout",
     "output_type": "stream",
     "text": [
      "<class 'pandas.core.frame.DataFrame'>\n",
      "RangeIndex: 1490 entries, 0 to 1489\n",
      "Data columns (total 3 columns):\n",
      " #   Column     Non-Null Count  Dtype \n",
      "---  ------     --------------  ----- \n",
      " 0   ArticleId  1490 non-null   int64 \n",
      " 1   Text       1490 non-null   object\n",
      " 2   Category   1490 non-null   object\n",
      "dtypes: int64(1), object(2)\n",
      "memory usage: 35.0+ KB\n"
     ]
    }
   ],
   "source": [
    "data_frame_train.info()"
   ]
  },
  {
   "cell_type": "code",
   "execution_count": 6,
   "metadata": {},
   "outputs": [
    {
     "data": {
      "text/plain": [
       "sport            346\n",
       "business         336\n",
       "politics         274\n",
       "entertainment    273\n",
       "tech             261\n",
       "Name: Category, dtype: int64"
      ]
     },
     "execution_count": 6,
     "metadata": {},
     "output_type": "execute_result"
    }
   ],
   "source": [
    "data_frame_train['Category'].value_counts()"
   ]
  },
  {
   "cell_type": "code",
   "execution_count": 7,
   "metadata": {},
   "outputs": [
    {
     "data": {
      "text/plain": [
       "ArticleId    False\n",
       "Text         False\n",
       "Category     False\n",
       "dtype: bool"
      ]
     },
     "execution_count": 7,
     "metadata": {},
     "output_type": "execute_result"
    }
   ],
   "source": [
    "data_frame_train.isnull().any()"
   ]
  },
  {
   "cell_type": "code",
   "execution_count": 8,
   "metadata": {},
   "outputs": [
    {
     "data": {
      "text/plain": [
       "Index(['sport', 'business', 'politics', 'entertainment', 'tech'], dtype='object')"
      ]
     },
     "execution_count": 8,
     "metadata": {},
     "output_type": "execute_result"
    }
   ],
   "source": [
    "category_count = data_frame_train['Category'].value_counts()\n",
    "categories = category_count.index\n",
    "categories"
   ]
  },
  {
   "attachments": {},
   "cell_type": "markdown",
   "metadata": {},
   "source": [
    "## Exploratory Data Analysis"
   ]
  },
  {
   "cell_type": "code",
   "execution_count": 9,
   "metadata": {},
   "outputs": [
    {
     "data": {
      "image/png": "[encoded data removed]",
      "text/plain": [
       "<Figure size 1200x500 with 1 Axes>"
      ]
     },
     "metadata": {},
     "output_type": "display_data"
    }
   ],
   "source": [
    "fig = plt.figure(figsize= (12, 5))\n",
    "\n",
    "ax = fig.add_subplot(111)\n",
    "\n",
    "sns.barplot(x = category_count.index, y = category_count )\n",
    "\n",
    "for a, p in enumerate(ax.patches):\n",
    "    ax.annotate(f'{categories[a]}\\n' + format(p.get_height(), '.0f'), xy = (p.get_x() + p.get_width() / 2.0, p.get_height()), xytext = (0,-25), size = 13, color = 'white' , ha = 'center', va = 'center', textcoords = 'offset points', bbox = dict(boxstyle = 'round', facecolor='none',edgecolor='white', alpha = 0.5) )\n",
    "    \n",
    "plt.xlabel('Categories', size = 15)\n",
    "\n",
    "plt.ylabel('News frequency', size= 15)\n",
    "\n",
    "plt.xticks(size = 12)\n",
    "\n",
    "plt.title(\"News by categories\" , size = 18)\n",
    "\n",
    "plt.show()"
   ]
  },
  {
   "attachments": {},
   "cell_type": "markdown",
   "metadata": {},
   "source": [
    "## Text Preprocessing"
   ]
  },
  {
   "cell_type": "code",
   "execution_count": 10,
   "metadata": {},
   "outputs": [],
   "source": [
    "def preprocessing(sentence):\n",
    "  sentence = re.sub(r\"n\\'t\", \" not\", sentence)\n",
    "  sentence = re.sub(r\"\\'re\", \" are\", sentence)\n",
    "  sentence = re.sub(r\"\\'s\", \" is\", sentence)\n",
    "  sentence = re.sub(r\"\\'d\", \" would\", sentence)\n",
    "  sentence = re.sub(r\"\\'ll\", \" will\", sentence)\n",
    "  sentence = re.sub(r\"\\'t\", \" not\", sentence)\n",
    "  sentence = re.sub(r\"\\'ve\", \" have\", sentence)\n",
    "  sentence = re.sub(r\"\\'m\", \" am\", sentence)\n",
    "  sentence = re.sub(r\"wont\", \"will not\", sentence)\n",
    "  sentence = re.sub(r\"wouldnt\", \"would not\", sentence)\n",
    "  sentence = re.sub(r\"shouldnt\", \"should not\", sentence)\n",
    "  sentence = re.sub(r\"couldnt\", \"could not\", sentence)\n",
    "  sentence = re.sub(r\"cudnt\", \"could not\", sentence)\n",
    "  sentence = re.sub(r\"cant\", \"can not\", sentence)\n",
    "  sentence = re.sub(r\"dont\", \"do not\", sentence)\n",
    "  sentence = re.sub(r\"doesnt\", \"does not\", sentence)\n",
    "  sentence = re.sub(r\"didnt\", \"did not\", sentence)\n",
    "  sentence = re.sub(r\"wasnt\", \"was not\", sentence)\n",
    "  sentence = re.sub(r\"werent\", \"were not\", sentence)\n",
    "  sentence = re.sub(r\"havent\", \"have not\", sentence)\n",
    "  sentence = re.sub(r\"hadnt\", \"had not\", sentence)\n",
    "  sentence = re.sub(r\"ain't\", \"am not\",sentence)\n",
    "  sentence = re.sub(r\"aren't\", \"are not\",sentence)\n",
    "  sentence = re.sub(r\"can't\", \"cannot\",sentence)\n",
    "  sentence = re.sub(r\"can't've\", \"cannot have\",sentence)\n",
    "  sentence = re.sub(r\"'cause\", \"because\",sentence)\n",
    "  sentence = re.sub(r\"could've\", \"could have\",sentence)\n",
    "  sentence = re.sub(r\"couldn't\", \"could not\",sentence)\n",
    "  sentence = re.sub(r\"couldn't've\", \"could not have\",sentence)\n",
    "  sentence = re.sub(r\"didn't\", \"did not\",sentence)\n",
    "  sentence = re.sub(r\"doesn't\", \"does not\",sentence)\n",
    "  sentence = re.sub(r\"don't\", \"do not\",sentence)\n",
    "  sentence = re.sub(r\"hadn't\", \"had not\",sentence)\n",
    "  sentence = re.sub(r\"hadn't've\", \"had not have\",sentence)\n",
    "  sentence = re.sub(r\"hasn't\", \"has not\",sentence)\n",
    "  sentence = re.sub(r\"haven't\", \"have not\",sentence)\n",
    "  sentence = re.sub(r\"he'd\", \"he would\",sentence)\n",
    "  sentence = re.sub(r\"he'd've\", \"he would have\",sentence)\n",
    "  sentence = re.sub(r\"he'll\", \"he will\",sentence)\n",
    "  sentence = re.sub(r\"he'll've\", \"he will have\",sentence)\n",
    "  sentence = re.sub(r\"he's\", \"he is\",sentence)\n",
    "  sentence = re.sub(r\"how'd\", \"how did\",sentence)\n",
    "  sentence = re.sub(r\"how'd'y\", \"how do you\",sentence)\n",
    "  sentence = re.sub(r\"how'll\", \"how will\",sentence)\n",
    "  sentence = re.sub(r\"how's\", \"how is\",sentence)\n",
    "  sentence = re.sub(r\"i'd\", \"I would\",sentence)\n",
    "  sentence = re.sub(r\"i'd've\", \"I would have\",sentence)\n",
    "  sentence = re.sub(r\"i'll\", \"I will\",sentence)\n",
    "  sentence = re.sub(r\"i'll've\", \"I will have\",sentence)\n",
    "  sentence = re.sub(r\"i'm\", \"I am\",sentence)\n",
    "  sentence = re.sub(r\"i've\", \"I have\",sentence)\n",
    "  sentence = re.sub(r\"isn't\", \"is not\",sentence)\n",
    "  sentence = re.sub(r\"it'd\", \"it had\",sentence)\n",
    "  sentence = re.sub(r\"it'd've\", \"it would have\",sentence)\n",
    "  sentence = re.sub(r\"it'll\", \"it will\",sentence)\n",
    "  sentence = re.sub(r\"it'll've\", \"it will have\",sentence)\n",
    "  sentence = re.sub(r\"it's\", \"it is\",sentence)\n",
    "  sentence = re.sub(r\"let's\", \"let us\",sentence)\n",
    "  sentence = re.sub(r\"ma'am\", \"madam\",sentence)\n",
    "  sentence = re.sub(r\"mayn't\", \"may not\",sentence)\n",
    "  sentence = re.sub(r\"might've\", \"might have\",sentence)\n",
    "  sentence = re.sub(r\"mightn't\", \"might not\",sentence)\n",
    "  sentence = re.sub(r\"mightn't've\", \"might not have\",sentence)\n",
    "  sentence = re.sub(r\"must've\", \"must have\",sentence)\n",
    "  sentence = re.sub(r\"mustn't\", \"must not\",sentence)\n",
    "  sentence = re.sub(r\"mustn't've\", \"must not have\",sentence)\n",
    "  sentence = re.sub(r\"needn't\", \"need not\",sentence)\n",
    "  sentence = re.sub(r\"needn't've\", \"need not have\",sentence)\n",
    "  sentence = re.sub(r\"o'clock\", \"of the clock\",sentence)\n",
    "  sentence = re.sub(r\"oughtn't\", \"ought not\",sentence)\n",
    "  sentence = re.sub(r\"oughtn't've\", \"ought not have\",sentence)\n",
    "  sentence = re.sub(r\"shan't\", \"shall not\",sentence)\n",
    "  sentence = re.sub(r\"sha'n't\", \"shall not\",sentence)\n",
    "  sentence = re.sub(r\"shan't've\", \"shall not have\",sentence)\n",
    "  sentence = re.sub(r\"she'd\", \"she would\",sentence)\n",
    "  sentence = re.sub(r\"she'd've\", \"she would have\",sentence)\n",
    "  sentence = re.sub(r\"she'll\", \"she will\",sentence)\n",
    "  sentence = re.sub(r\"she'll've\", \"she will have\",sentence)\n",
    "  sentence = re.sub(r\"she's\", \"she is\",sentence)\n",
    "  sentence = re.sub(r\"should've\", \"should have\",sentence)\n",
    "  sentence = re.sub(r\"shouldn't\", \"should not\",sentence)\n",
    "  sentence = re.sub(r\"shouldn't've\", \"should not have\",sentence)\n",
    "  sentence = re.sub(r\"so've\", \"so have\",sentence)\n",
    "  sentence = re.sub(r\"so's\", \"so is\",sentence)\n",
    "  sentence = re.sub(r\"that'd\", \"that would\",sentence)\n",
    "  sentence = re.sub(r\"that'd've\", \"that would have\",sentence)\n",
    "  sentence = re.sub(r\"that's\", \"that is\",sentence)\n",
    "  sentence = re.sub(r\"there'd\", \"there had\",sentence)\n",
    "  sentence = re.sub(r\"there'd've\", \"there would have\",sentence)\n",
    "  sentence = re.sub(r\"there's\", \"there is\",sentence)\n",
    "  sentence = re.sub(r\"they'd\", \"they would\",sentence)\n",
    "  sentence = re.sub(r\"they'd've\", \"they would have\",sentence)\n",
    "  sentence = re.sub(r\"they'll\", \"they will\",sentence)\n",
    "  sentence = re.sub(r\"they'll've\", \"they will have\",sentence)\n",
    "  sentence = re.sub(r\"they're\", \"they are\",sentence)\n",
    "  sentence = re.sub(r\"they've\", \"they have\",sentence)\n",
    "  sentence = re.sub(r\"to've\", \"to have\",sentence)\n",
    "  sentence = re.sub(r\"wasn't\", \"was not\",sentence)\n",
    "  sentence = re.sub(r\"we'd\", \"we had\",sentence)\n",
    "  sentence = re.sub(r\"we'd've\", \"we would have\",sentence)\n",
    "  sentence = re.sub(r\"we'll\", \"we will\",sentence)\n",
    "  sentence = re.sub(r\"we'll've\", \"we will have\",sentence)\n",
    "  sentence = re.sub(r\"we're\", \"we are\",sentence)\n",
    "  sentence = re.sub(r\"we've\", \"we have\",sentence)\n",
    "  sentence = re.sub(r\"weren't\", \"were not\",sentence)\n",
    "  sentence = re.sub(r\"what'll\", \"what will\",sentence)\n",
    "  sentence = re.sub(r\"what'll've\", \"what will have\",sentence)\n",
    "  sentence = re.sub(r\"what're\", \"what are\",sentence)\n",
    "  sentence = re.sub(r\"what's\", \"what is\",sentence)\n",
    "  sentence = re.sub(r\"what've\", \"what have\",sentence)\n",
    "  sentence = re.sub(r\"when's\", \"when is\",sentence)\n",
    "  sentence = re.sub(r\"when've\", \"when have\",sentence)\n",
    "  sentence = re.sub(r\"where'd\", \"where did\",sentence)\n",
    "  sentence = re.sub(r\"where's\", \"where is\",sentence)\n",
    "  sentence = re.sub(r\"where've\", \"where have\",sentence)\n",
    "  sentence = re.sub(r\"who'll\", \"who will\",sentence)\n",
    "  sentence = re.sub(r\"who'll've\", \"who will have\",sentence)\n",
    "  sentence = re.sub(r\"who's\", \"who is\",sentence)\n",
    "  sentence = re.sub(r\"who've\", \"who have\",sentence)\n",
    "  sentence = re.sub(r\"why's\", \"why is\",sentence)\n",
    "  sentence = re.sub(r\"why've\", \"why have\",sentence)\n",
    "  sentence = re.sub(r\"will've\", \"will have\",sentence)\n",
    "  sentence = re.sub(r\"won't\", \"will not\",sentence)\n",
    "  sentence = re.sub(r\"won't've\", \"will not have\",sentence)\n",
    "  sentence = re.sub(r\"would've\", \"would have\",sentence)\n",
    "  sentence = re.sub(r\"wouldn't\", \"would not\",sentence)\n",
    "  sentence = re.sub(r\"wouldn't've\", \"would not have\",sentence)\n",
    "  sentence = re.sub(r\"y'all\", \"you all\",sentence)\n",
    "  sentence = re.sub(r\"y'alls\", \"you alls\",sentence)\n",
    "  sentence = re.sub(r\"y'all'd\", \"you all would\",sentence)\n",
    "  sentence = re.sub(r\"y'all'd've\", \"you all would have\",sentence)\n",
    "  sentence = re.sub(r\"y'all're\", \"you all are\",sentence)\n",
    "  sentence = re.sub(r\"y'all've\", \"you all have\",sentence)\n",
    "  sentence = re.sub(r\"you'd\", \"you had\",sentence)\n",
    "  sentence = re.sub(r\"you'd've\", \"you would have\",sentence)\n",
    "  sentence = re.sub(r\"you'll\", \"you you will\",sentence)\n",
    "  sentence = re.sub(r\"you'll've\", \"you you will have\",sentence)\n",
    "  sentence = re.sub(r\"you're\", \"you are\",sentence)\n",
    "  sentence = re.sub(r\"you've\", \"you have\",sentence)\n",
    "\n",
    "  \n",
    "  sentence = re.sub(r'[^\\w\\s]','',sentence) # Remove Punctutation\n",
    "  \n",
    "  sentence = sentence.lower() # Lower case\n",
    "  \n",
    "  CLEANR = re.compile('<.*?>|&([a-z0-9]+|#[0-9]{1,6}|#x[0-9a-f]{1,6});')\n",
    "  sentence = re.sub(CLEANR, '', sentence)# Remove HTML\n",
    "  \n",
    "  sentence = re.sub('[^A-Za-z]',' ',sentence)# Remove Digits\n",
    " \n",
    "  sentence = re.sub(r'[\\w._%+-]{1,20}@[\\w.-]{1,20}.[A-Za-z]{2,3}','', sentence)# Remove Email\n",
    "  \n",
    "  sentence = re.sub(r'^http?s:\\/\\/.*[\\r\\n]*','', sentence)# Remove URLs\n",
    "  \n",
    "  sentence = re.sub(r'@[A-Za-z0-9]+','',sentence) #Remove Mentions  \n",
    "\n",
    "  sentence = \" \".join(item for item in sentence.split() if item not in stopwords.words('english') )\n",
    "  \n",
    "  sentence = ' '.join([PorterStemmer().stem(word)for word in sentence.split()])\n",
    "\n",
    "  sentence = ' '.join([WordNetLemmatizer().lemmatize(word) for word in sentence.split()])\n",
    "  return sentence\n"
   ]
  },
  {
   "cell_type": "code",
   "execution_count": 11,
   "metadata": {},
   "outputs": [],
   "source": [
    "data_frame_train['Token'] = data_frame_train.Text.apply(lambda sentence : preprocessing(sentence))"
   ]
  },
  {
   "cell_type": "code",
   "execution_count": 12,
   "metadata": {},
   "outputs": [
    {
     "data": {
      "text/html": [
       "<div>\n",
       "<style scoped>\n",
       "    .dataframe tbody tr th:only-of-type {\n",
       "        vertical-align: middle;\n",
       "    }\n",
       "\n",
       "    .dataframe tbody tr th {\n",
       "        vertical-align: top;\n",
       "    }\n",
       "\n",
       "    .dataframe thead th {\n",
       "        text-align: right;\n",
       "    }\n",
       "</style>\n",
       "<table border=\"1\" class=\"dataframe\">\n",
       "  <thead>\n",
       "    <tr style=\"text-align: right;\">\n",
       "      <th></th>\n",
       "      <th>ArticleId</th>\n",
       "      <th>Text</th>\n",
       "      <th>Category</th>\n",
       "      <th>Token</th>\n",
       "    </tr>\n",
       "  </thead>\n",
       "  <tbody>\n",
       "    <tr>\n",
       "      <th>0</th>\n",
       "      <td>1833</td>\n",
       "      <td>worldcom ex-boss launches defence lawyers defe...</td>\n",
       "      <td>business</td>\n",
       "      <td>worldcom exboss launch defenc lawyer defend fo...</td>\n",
       "    </tr>\n",
       "    <tr>\n",
       "      <th>1</th>\n",
       "      <td>154</td>\n",
       "      <td>german business confidence slides german busin...</td>\n",
       "      <td>business</td>\n",
       "      <td>german busi confid slide german busi confid fe...</td>\n",
       "    </tr>\n",
       "    <tr>\n",
       "      <th>2</th>\n",
       "      <td>1101</td>\n",
       "      <td>bbc poll indicates economic gloom citizens in ...</td>\n",
       "      <td>business</td>\n",
       "      <td>bbc poll indic econom gloom citizen major nati...</td>\n",
       "    </tr>\n",
       "    <tr>\n",
       "      <th>3</th>\n",
       "      <td>1976</td>\n",
       "      <td>lifestyle  governs mobile choice  faster  bett...</td>\n",
       "      <td>tech</td>\n",
       "      <td>lifestyl govern mobil choic faster better funk...</td>\n",
       "    </tr>\n",
       "    <tr>\n",
       "      <th>4</th>\n",
       "      <td>917</td>\n",
       "      <td>enron bosses in $168m payout eighteen former e...</td>\n",
       "      <td>business</td>\n",
       "      <td>enron bos payout eighteen former enron directo...</td>\n",
       "    </tr>\n",
       "  </tbody>\n",
       "</table>\n",
       "</div>"
      ],
      "text/plain": [
       "   ArticleId                                               Text  Category  \\\n",
       "0       1833  worldcom ex-boss launches defence lawyers defe...  business   \n",
       "1        154  german business confidence slides german busin...  business   \n",
       "2       1101  bbc poll indicates economic gloom citizens in ...  business   \n",
       "3       1976  lifestyle  governs mobile choice  faster  bett...      tech   \n",
       "4        917  enron bosses in $168m payout eighteen former e...  business   \n",
       "\n",
       "                                               Token  \n",
       "0  worldcom exboss launch defenc lawyer defend fo...  \n",
       "1  german busi confid slide german busi confid fe...  \n",
       "2  bbc poll indic econom gloom citizen major nati...  \n",
       "3  lifestyl govern mobil choic faster better funk...  \n",
       "4  enron bos payout eighteen former enron directo...  "
      ]
     },
     "execution_count": 12,
     "metadata": {},
     "output_type": "execute_result"
    }
   ],
   "source": [
    "data_frame_train.head()"
   ]
  },
  {
   "cell_type": "code",
   "execution_count": 13,
   "metadata": {},
   "outputs": [
    {
     "name": "stdout",
     "output_type": "stream",
     "text": [
      "(1192,) (1192,)\n",
      "(298,) (298,)\n"
     ]
    }
   ],
   "source": [
    "X = data_frame_train.Token\n",
    "Y = data_frame_train.Category\n",
    "X_train, X_test, Y_train, Y_test = train_test_split(X,Y, test_size = 0.2, random_state = 42)\n",
    "print(X_train.shape,Y_train.shape)\n",
    "print(X_test.shape,Y_test.shape)"
   ]
  },
  {
   "cell_type": "code",
   "execution_count": 14,
   "metadata": {},
   "outputs": [],
   "source": [
    "from sklearn.feature_extraction.text import TfidfVectorizer\n",
    "from nltk.tokenize import RegexpTokenizer\n",
    "\n",
    "token = RegexpTokenizer(r'[a-zA-Z0-9]+')\n",
    "TfIdf_Vectorizer = TfidfVectorizer(tokenizer = token.tokenize)\n",
    "\n",
    "X_train_transformed = TfIdf_Vectorizer.fit_transform(X_train)\n",
    "\n",
    "#X_test_transformed = TfIdf_Vectorizer.transform(X_test)"
   ]
  },
  {
   "cell_type": "code",
   "execution_count": 15,
   "metadata": {},
   "outputs": [],
   "source": [
    "with open(\"TF-IDF/TfIdf_Vectorizer.pk\", \"wb\") as f:\n",
    "    pk.dump(TfIdf_Vectorizer, f)\n",
    "\n",
    "with open(\"TF-IDF/TfIdf_Vectorizer.pk\", \"rb\") as f:\n",
    "    vector = pk.load(f)"
   ]
  },
  {
   "attachments": {},
   "cell_type": "markdown",
   "metadata": {},
   "source": [
    "## Convert Categorical labels into numerics"
   ]
  },
  {
   "cell_type": "code",
   "execution_count": 16,
   "metadata": {},
   "outputs": [
    {
     "name": "stdout",
     "output_type": "stream",
     "text": [
      "['business' 'entertainment' 'politics' 'sport' 'tech']\n"
     ]
    }
   ],
   "source": [
    "label_fit = LabelEncoder()\n",
    "label_fit.fit(Y)\n",
    "Y_train_transformed = label_fit.transform(Y_train)\n",
    "Y_test_transformed = label_fit.transform(Y_test)\n",
    "print(label_fit.classes_)"
   ]
  },
  {
   "cell_type": "code",
   "execution_count": 17,
   "metadata": {},
   "outputs": [
    {
     "data": {
      "text/plain": [
       "array(['business', 'entertainment', 'politics', 'sport', 'tech'],\n",
       "      dtype=object)"
      ]
     },
     "execution_count": 17,
     "metadata": {},
     "output_type": "execute_result"
    }
   ],
   "source": [
    "class_names = label_fit.classes_\n",
    "class_names"
   ]
  },
  {
   "cell_type": "code",
   "execution_count": 18,
   "metadata": {},
   "outputs": [],
   "source": [
    "integer_mapping = {l: i for i, l in enumerate(label_fit.classes_)}"
   ]
  },
  {
   "cell_type": "code",
   "execution_count": 21,
   "metadata": {},
   "outputs": [
    {
     "data": {
      "text/plain": [
       "{'business': 0, 'entertainment': 1, 'politics': 2, 'sport': 3, 'tech': 4}"
      ]
     },
     "execution_count": 21,
     "metadata": {},
     "output_type": "execute_result"
    }
   ],
   "source": [
    "integer_mapping"
   ]
  },
  {
   "cell_type": "code",
   "execution_count": 19,
   "metadata": {},
   "outputs": [],
   "source": [
    "with open(\"Labels/label_fit.pk\", \"wb\") as f:\n",
    "    pk.dump(label_fit, f)\n",
    "\n",
    "with open(\"Labels/label_fit.pk\", \"rb\") as f:\n",
    "    label_fit = pk.load(f)"
   ]
  },
  {
   "attachments": {},
   "cell_type": "markdown",
   "metadata": {},
   "source": [
    "**Display Output in Heat Map**"
   ]
  },
  {
   "cell_type": "code",
   "execution_count": 20,
   "metadata": {},
   "outputs": [],
   "source": [
    "def plot_matrix(y_test, y_pred, color=\"Greens\"):\n",
    "    labels = np.unique(y_pred)\n",
    "    cm_df = pd.DataFrame(confusion_matrix(y_test, y_pred), index=labels, columns=labels)\n",
    "    sns.heatmap(cm_df, annot=True, fmt='g', cmap=color)\n",
    "    plt.xlabel(\"Actual\")\n",
    "    plt.ylabel(\"Predicted\")\n",
    "    plt.show()"
   ]
  },
  {
   "attachments": {},
   "cell_type": "markdown",
   "metadata": {},
   "source": [
    "## Naive Bayes"
   ]
  },
  {
   "attachments": {},
   "cell_type": "markdown",
   "metadata": {},
   "source": [
    "**Multinomial NB**"
   ]
  },
  {
   "cell_type": "code",
   "execution_count": 21,
   "metadata": {},
   "outputs": [
    {
     "name": "stdout",
     "output_type": "stream",
     "text": [
      "Average accuracy on test set=0.959731543624161\n",
      "              precision    recall  f1-score   support\n",
      "\n",
      "           0       0.99      0.95      0.97        78\n",
      "           1       0.96      1.00      0.98        44\n",
      "           2       0.95      0.90      0.92        59\n",
      "           3       1.00      0.97      0.98        65\n",
      "           4       0.90      1.00      0.95        52\n",
      "\n",
      "    accuracy                           0.96       298\n",
      "   macro avg       0.96      0.96      0.96       298\n",
      "weighted avg       0.96      0.96      0.96       298\n",
      "\n"
     ]
    },
    {
     "data": {
      "image/png": "[encoded data removed]",
      "text/plain": [
       "<Figure size 640x480 with 2 Axes>"
      ]
     },
     "metadata": {},
     "output_type": "display_data"
    }
   ],
   "source": [
    "model_MNB = MultinomialNB()\n",
    "model_MNB.fit(X_train_transformed, Y_train_transformed)\n",
    "Y_predicted_MNB = model_MNB.predict(TfIdf_Vectorizer.transform(X_test))\n",
    "print('Average accuracy on test set={}'.format(np.mean(Y_predicted_MNB == label_fit.transform(Y_test))))\n",
    "print(classification_report(Y_predicted_MNB,Y_test_transformed))\n",
    "plot_matrix(Y_test_transformed, Y_predicted_MNB)"
   ]
  },
  {
   "cell_type": "code",
   "execution_count": 22,
   "metadata": {},
   "outputs": [],
   "source": [
    "with open(\"models/model_MNB.pk\", \"wb\") as f:\n",
    "    pk.dump(model_MNB, f)\n",
    "\n",
    "with open(\"models/model_MNB.pk\", \"rb\") as f:\n",
    "    model_MNB = pk.load(f) "
   ]
  },
  {
   "cell_type": "code",
   "execution_count": 23,
   "metadata": {},
   "outputs": [],
   "source": [
    "from keras.preprocessing.text import text_to_word_sequence\n",
    "from nltk.corpus import wordnet\n",
    "def detect_catagory(model,article):\n",
    "  sentence = preprocessing(article)\n",
    "  sentence = list(sentence.split(\" \"))\n",
    "  p_tfidf = vector.transform(sentence)\n",
    "  result1 = model.predict(p_tfidf)[0]\n",
    "  result = label_fit.inverse_transform(model.predict(p_tfidf))[0]\n",
    "  probability_score = model.predict_proba(p_tfidf)[result1]\n",
    "        \n",
    "  return result,probability_score"
   ]
  },
  {
   "cell_type": "code",
   "execution_count": 24,
   "metadata": {},
   "outputs": [
    {
     "name": "stdout",
     "output_type": "stream",
     "text": [
      "Predict Index: 2\n",
      "Predict Category: politics\n",
      "Predict Text: labour accused of  eu propaganda  a  taxpayer subsidised propaganda exercise  on the eu is being used to lull the british public into a false sense of security  say the tories.  shadow foreign secretary michael ancram told mps a new white paper was part of trying to soften up opinion ahead of the referendum on the eu constitution. his claims were denied by foreign secretary jack straw  who accused the tories of  running scared  of debate. eu cooperation would help get better uk immigration controls  he argued.  mr straw used thursday s commons debate to launch the new white paper on the prospects for the eu in 2005. security  stability and prosperity would be the key themes when the uk took over the chairmanship of the eu in july  said mr straw. africa and climate change would also feature highly. he said the uk was trying to ensure future eu budgets were limited to 1% of europe s economic output and were spent  where it adds most value . mr straw promised to continue to ensure the uk s budget rebate  secured in 1984 by margaret thatcher  was  fully justified .  we  like all other countries  have a veto on any changes proposed in this area   he said.  mr ancram condemned the document  which the foreign office says has cost about £2 500 to design  print and deliver.  isn t the reason that the government is now involved in a taxpayer subsidised propaganda exercise to try to sell the new eu to the country in advance of the forthcoming referendum and general election    he asked. the tory spokesman also criticised the government for claiming the eu constitution would make europe easier to understand.  the government  last week  had to publish a commentary of 500 pages to try and explain this  easy and simple  constitution to the british people   he said.  who are they trying to kid   the proposed question for the constitution referendum is:  should the united kingdom approve the treaty establishing a constitution for the european union   the electoral commission on thursday said it was satisfied the question was easy to understand. the government has suggested the referendum on the constitution could take place in spring 2006  with the tories set to campaign for a  no  vote.  mr ancram said ministers were prolonging uncertainty by putting the vote off until the latest date possible. the foreign secretary hit back by saying tory attitudes to europe had helped keep the party out of power for more than a decade. mr straw argued cooperation with european partners could bring a  level playing field  on immigration and asylum controls.  you are setting your face against all of these things   he added. for the liberal democrats  sir menzies campbell said the uk should not ignore the need to reform the eu common agricultural policy. change was particularly important for developing countries wanting access to markets  he argued. sir menzies was among those worried about plans  backed by the uk  to lift the arms embargo imposed on china after the tiananmen square massacre. mr straw said no decisions had been taken - chinese human rights had improved but not by enough.\n",
      "---------------------------------------------------------\n",
      "\n"
     ]
    }
   ],
   "source": [
    "import random\n",
    "try:\n",
    "  test_sentences = data_frame_test['Text'].to_list()\n",
    "  test_samples = random.sample(test_sentences, 1)\n",
    "  for item in test_samples:\n",
    "    message = preprocessing(str(item))\n",
    "    input = [message]\n",
    "    p_tfidf = vector.transform(input)\n",
    "    predict_index = model_MNB.predict(p_tfidf)[0]\n",
    "    predict_category = label_fit.inverse_transform(model_MNB.predict(p_tfidf))[0]\n",
    "    #score = model_MNB.predict_proba(vector.transform(input))[predict_index]\n",
    "    print(f\"Predict Index: {predict_index}\")\n",
    "    #print(f\"Predict Probabilities: {score}\")\n",
    "    print(f\"Predict Category: {predict_category}\")\n",
    "    \n",
    "    print(f\"Predict Text: {item}\")\n",
    "       \n",
    "    print(\"---------------------------------------------------------\\n\")\n",
    "except Exception as e:\n",
    "  print(f'Error raised!!: {e}') "
   ]
  },
  {
   "cell_type": "code",
   "execution_count": 25,
   "metadata": {},
   "outputs": [],
   "source": [
    "article1 = '''Google Pixel has added a new spatial audio feature with its January update for Pixel 6, 6 Pro, 7 and 7 Pro. The Verge has confirmed that a toggle for this feature has appeared in the settings menu of the Google Pixel 6 Pro. This update will roll out soon to other Pixel devices as well. The Google support page states that it will be able to support audio from apps with 5.1 surround sound.'''"
   ]
  },
  {
   "cell_type": "code",
   "execution_count": 26,
   "metadata": {},
   "outputs": [],
   "source": [
    "article2 = '''Thursday reiterated its call for peace and tranquillity in border areas for the development of the relationship with China in the face of comments by the new Chinese foreign minister about both sides being willing to ease the situation in relation to the standoff on the Line of Actual Control (LAC).. '''"
   ]
  },
  {
   "cell_type": "code",
   "execution_count": 27,
   "metadata": {},
   "outputs": [],
   "source": [
    "article3 = '''Apple has agreed to pay $50m (£41.6m) to settle a legal action by claimants in the US, over its MacBook keyboards.Customers in seven states claimed the technology giant had sold the \"butterfly\" keyboards, on MacBook, MacBook Air and MacBook Pro laptops, from 2015 to 2019, knowing they had unresponsive and sticky keys that could be damaged by dust or debris.Apple did not immediately respond to a BBC News request for comment.But the company denies any wrongdoing.The settlement could see customers receiving up to:$395, if they replaced multiple keyboards$125, if they replaced one\n",
    "$50 for those who replaced key caps\n",
    "The preliminary agreement is still subject to approval by a judge.On a typical keyboard, keys are attached using two pieces of plastic that cross each other and close like a pair of scissors when pressed.The butterfly-keyboard keys instead used a wing-like hinge.At the time, Apple said this mechanism was 40% thinner, so its laptops could be slimmer.'''"
   ]
  },
  {
   "cell_type": "code",
   "execution_count": 28,
   "metadata": {},
   "outputs": [
    {
     "data": {
      "text/plain": [
       "('tech', array([0.21895973, 0.19043624, 0.18288591, 0.23741611, 0.17030201]))"
      ]
     },
     "execution_count": 28,
     "metadata": {},
     "output_type": "execute_result"
    }
   ],
   "source": [
    "detect_catagory(model_MNB,article1)"
   ]
  },
  {
   "cell_type": "code",
   "execution_count": 29,
   "metadata": {},
   "outputs": [
    {
     "data": {
      "text/plain": [
       "('business',\n",
       " array([0.30546017, 0.18293817, 0.2054661 , 0.19851348, 0.10762208]))"
      ]
     },
     "execution_count": 29,
     "metadata": {},
     "output_type": "execute_result"
    }
   ],
   "source": [
    "detect_catagory(model_MNB,article2)"
   ]
  },
  {
   "cell_type": "code",
   "execution_count": 30,
   "metadata": {},
   "outputs": [
    {
     "data": {
      "text/plain": [
       "('tech', array([0.23837287, 0.15522151, 0.27783055, 0.13781907, 0.19075601]))"
      ]
     },
     "execution_count": 30,
     "metadata": {},
     "output_type": "execute_result"
    }
   ],
   "source": [
    "detect_catagory(model_MNB,article3)"
   ]
  },
  {
   "attachments": {},
   "cell_type": "markdown",
   "metadata": {},
   "source": [
    "**Bernoulli Naive Bayes**"
   ]
  },
  {
   "cell_type": "code",
   "execution_count": 31,
   "metadata": {},
   "outputs": [
    {
     "name": "stdout",
     "output_type": "stream",
     "text": [
      "Average accuracy on test set=0.9697986577181208\n",
      "              precision    recall  f1-score   support\n",
      "\n",
      "           0       1.00      0.91      0.96        82\n",
      "           1       1.00      0.98      0.99        47\n",
      "           2       0.95      0.98      0.96        54\n",
      "           3       1.00      1.00      1.00        63\n",
      "           4       0.90      1.00      0.95        52\n",
      "\n",
      "    accuracy                           0.97       298\n",
      "   macro avg       0.97      0.97      0.97       298\n",
      "weighted avg       0.97      0.97      0.97       298\n",
      "\n"
     ]
    },
    {
     "data": {
      "image/png": "[encoded data removed]",
      "text/plain": [
       "<Figure size 640x480 with 2 Axes>"
      ]
     },
     "metadata": {},
     "output_type": "display_data"
    }
   ],
   "source": [
    "model_BNB = BernoulliNB()\n",
    "model_BNB.fit(X_train_transformed, Y_train_transformed)\n",
    "Y_predicted_BNB = model_BNB.predict(TfIdf_Vectorizer.transform(X_test))\n",
    "print('Average accuracy on test set={}'.format(np.mean(Y_predicted_BNB == label_fit.transform(Y_test))))\n",
    "print(classification_report(Y_predicted_BNB,Y_test_transformed))\n",
    "\n",
    "\n",
    "plot_matrix(Y_test_transformed, Y_predicted_BNB)"
   ]
  },
  {
   "attachments": {},
   "cell_type": "markdown",
   "metadata": {},
   "source": [
    "**Complement Naive Beyes**"
   ]
  },
  {
   "cell_type": "code",
   "execution_count": 32,
   "metadata": {},
   "outputs": [
    {
     "name": "stdout",
     "output_type": "stream",
     "text": [
      "Average accuracy on test set=0.9765100671140939\n",
      "              precision    recall  f1-score   support\n",
      "\n",
      "           0       0.97      0.97      0.97        75\n",
      "           1       1.00      1.00      1.00        46\n",
      "           2       0.95      0.96      0.95        55\n",
      "           3       1.00      0.97      0.98        65\n",
      "           4       0.97      0.98      0.97        57\n",
      "\n",
      "    accuracy                           0.98       298\n",
      "   macro avg       0.98      0.98      0.98       298\n",
      "weighted avg       0.98      0.98      0.98       298\n",
      "\n"
     ]
    },
    {
     "data": {
      "image/png": "[encoded data removed]",
      "text/plain": [
       "<Figure size 640x480 with 2 Axes>"
      ]
     },
     "metadata": {},
     "output_type": "display_data"
    }
   ],
   "source": [
    "model_CNB = ComplementNB()\n",
    "model_CNB.fit(X_train_transformed, Y_train_transformed)\n",
    "Y_predicted_CNB = model_CNB.predict(TfIdf_Vectorizer.transform(X_test))\n",
    "print('Average accuracy on test set={}'.format(np.mean(Y_predicted_CNB == label_fit.transform(Y_test))))\n",
    "print(classification_report(Y_predicted_CNB,Y_test_transformed))\n",
    "\n",
    "\n",
    "plot_matrix(Y_test_transformed, Y_predicted_CNB)"
   ]
  },
  {
   "attachments": {},
   "cell_type": "markdown",
   "metadata": {},
   "source": [
    "**K Nearest Neighbors**"
   ]
  },
  {
   "cell_type": "code",
   "execution_count": 33,
   "metadata": {},
   "outputs": [
    {
     "name": "stdout",
     "output_type": "stream",
     "text": [
      "Average accuracy on test set=0.9395973154362416\n",
      "              precision    recall  f1-score   support\n",
      "\n",
      "           0       0.95      0.93      0.94        76\n",
      "           1       0.93      0.96      0.95        45\n",
      "           2       0.91      0.86      0.89        59\n",
      "           3       1.00      0.98      0.99        64\n",
      "           4       0.90      0.96      0.93        54\n",
      "\n",
      "    accuracy                           0.94       298\n",
      "   macro avg       0.94      0.94      0.94       298\n",
      "weighted avg       0.94      0.94      0.94       298\n",
      "\n"
     ]
    },
    {
     "data": {
      "image/png": "[encoded data removed]",
      "text/plain": [
       "<Figure size 640x480 with 2 Axes>"
      ]
     },
     "metadata": {},
     "output_type": "display_data"
    }
   ],
   "source": [
    "model_KNN = KNeighborsClassifier(n_neighbors = 5)\n",
    "model_KNN.fit(X_train_transformed, Y_train_transformed)\n",
    "Y_predicted_KNN = model_KNN.predict(TfIdf_Vectorizer.transform(X_test))\n",
    "print('Average accuracy on test set={}'.format(np.mean(Y_predicted_KNN == label_fit.transform(Y_test))))\n",
    "print(classification_report(Y_predicted_KNN,Y_test_transformed))\n",
    "\n",
    "\n",
    "plot_matrix(Y_test_transformed, Y_predicted_KNN)"
   ]
  },
  {
   "attachments": {},
   "cell_type": "markdown",
   "metadata": {},
   "source": [
    "**Stochastic Gradient Descendent classifier**"
   ]
  },
  {
   "cell_type": "code",
   "execution_count": 34,
   "metadata": {},
   "outputs": [
    {
     "name": "stdout",
     "output_type": "stream",
     "text": [
      "Average accuracy on test set=0.9798657718120806\n",
      "              precision    recall  f1-score   support\n",
      "\n",
      "           0       0.99      0.99      0.99        75\n",
      "           1       0.98      0.98      0.98        46\n",
      "           2       0.96      0.96      0.96        56\n",
      "           3       1.00      0.97      0.98        65\n",
      "           4       0.97      1.00      0.98        56\n",
      "\n",
      "    accuracy                           0.98       298\n",
      "   macro avg       0.98      0.98      0.98       298\n",
      "weighted avg       0.98      0.98      0.98       298\n",
      "\n"
     ]
    },
    {
     "data": {
      "image/png": "[encoded data removed]",
      "text/plain": [
       "<Figure size 640x480 with 2 Axes>"
      ]
     },
     "metadata": {},
     "output_type": "display_data"
    }
   ],
   "source": [
    "model_SGD = SGDClassifier(loss='hinge')\n",
    "model_SGD.fit(X_train_transformed, Y_train_transformed)\n",
    "Y_predicted_SGD = model_SGD.predict(TfIdf_Vectorizer.transform(X_test))\n",
    "print('Average accuracy on test set={}'.format(np.mean(Y_predicted_SGD == label_fit.transform(Y_test))))\n",
    "print(classification_report(Y_predicted_SGD,Y_test_transformed))\n",
    "\n",
    "\n",
    "plot_matrix(Y_test_transformed, Y_predicted_SGD)"
   ]
  },
  {
   "attachments": {},
   "cell_type": "markdown",
   "metadata": {},
   "source": [
    "**Logistic Regression**"
   ]
  },
  {
   "cell_type": "code",
   "execution_count": 35,
   "metadata": {},
   "outputs": [
    {
     "name": "stdout",
     "output_type": "stream",
     "text": [
      "Average accuracy on test set=0.9664429530201343\n",
      "              precision    recall  f1-score   support\n",
      "\n",
      "           0       0.99      0.96      0.97        77\n",
      "           1       0.98      0.98      0.98        46\n",
      "           2       0.95      0.95      0.95        56\n",
      "           3       1.00      0.95      0.98        66\n",
      "           4       0.91      1.00      0.95        53\n",
      "\n",
      "    accuracy                           0.97       298\n",
      "   macro avg       0.97      0.97      0.97       298\n",
      "weighted avg       0.97      0.97      0.97       298\n",
      "\n"
     ]
    },
    {
     "data": {
      "image/png": "[encoded data removed]",
      "text/plain": [
       "<Figure size 640x480 with 2 Axes>"
      ]
     },
     "metadata": {},
     "output_type": "display_data"
    }
   ],
   "source": [
    "model_LR = LogisticRegression()\n",
    "model_LR.fit(X_train_transformed, Y_train_transformed)\n",
    "Y_predicted_LR = model_LR.predict(TfIdf_Vectorizer.transform(X_test))\n",
    "print('Average accuracy on test set={}'.format(np.mean(Y_predicted_LR == label_fit.transform(Y_test))))\n",
    "print(classification_report(Y_predicted_LR,Y_test_transformed))\n",
    "\n",
    "\n",
    "plot_matrix(Y_test_transformed, Y_predicted_LR)"
   ]
  },
  {
   "attachments": {},
   "cell_type": "markdown",
   "metadata": {},
   "source": [
    "**Random Forest Classifier**"
   ]
  },
  {
   "cell_type": "code",
   "execution_count": 36,
   "metadata": {},
   "outputs": [
    {
     "name": "stdout",
     "output_type": "stream",
     "text": [
      "Average accuracy on test set=0.9496644295302014\n",
      "              precision    recall  f1-score   support\n",
      "\n",
      "           0       0.99      0.94      0.96        79\n",
      "           1       0.93      0.96      0.95        45\n",
      "           2       0.93      0.95      0.94        55\n",
      "           3       1.00      0.93      0.96        68\n",
      "           4       0.88      1.00      0.94        51\n",
      "\n",
      "    accuracy                           0.95       298\n",
      "   macro avg       0.95      0.95      0.95       298\n",
      "weighted avg       0.95      0.95      0.95       298\n",
      "\n"
     ]
    },
    {
     "data": {
      "image/png": "[encoded data removed]",
      "text/plain": [
       "<Figure size 640x480 with 2 Axes>"
      ]
     },
     "metadata": {},
     "output_type": "display_data"
    }
   ],
   "source": [
    "model_RFC = RandomForestClassifier(max_depth=10, random_state=18)\n",
    "model_RFC.fit(X_train_transformed, Y_train_transformed)\n",
    "Y_predicted_RFC = model_RFC.predict(TfIdf_Vectorizer.transform(X_test))\n",
    "print('Average accuracy on test set={}'.format(np.mean(Y_predicted_RFC == label_fit.transform(Y_test))))\n",
    "print(classification_report(Y_predicted_RFC,Y_test_transformed))\n",
    "\n",
    "\n",
    "plot_matrix(Y_test_transformed, Y_predicted_RFC)"
   ]
  },
  {
   "attachments": {},
   "cell_type": "markdown",
   "metadata": {},
   "source": [
    "## ML Models pickel files"
   ]
  },
  {
   "cell_type": "code",
   "execution_count": 37,
   "metadata": {},
   "outputs": [],
   "source": [
    "\n",
    "with open(\"models/model_BNB.pk\", \"wb\") as f:\n",
    "    pk.dump(model_BNB, f)\n",
    "\n",
    "with open(\"models/model_CNB.pk\", \"wb\") as f:\n",
    "    pk.dump(model_CNB, f)\n",
    "\n",
    "with open(\"models/model_MNB.pk\", \"wb\") as f:\n",
    "    pk.dump(model_MNB, f)\n",
    "\n",
    "with open(\"models/model_RFC.pk\", \"wb\") as f:\n",
    "    pk.dump(model_RFC, f)\n",
    "\n",
    "with open(\"models/model_SGD.pk\", \"wb\") as f:\n",
    "    pk.dump(model_SGD, f)\n",
    "\n",
    "with open(\"models/model_Lreg.pk\", \"wb\") as f:\n",
    "    pk.dump(model_SGD, f)\n",
    "\n",
    "with open(\"models/model_MNB.pk\", \"rb\") as f:\n",
    "    model_MNB = pk.load(f)   \n",
    "\n",
    "with open(\"models/model_BNB.pk\", \"rb\") as f:\n",
    "    model_BNB = pk.load(f)   \n",
    "\n",
    "with open(\"models/model_CNB.pk\", \"rb\") as f:\n",
    "    model_CNB = pk.load(f)   \n",
    "\n",
    "with open(\"models/model_SGD.pk\", \"rb\") as f:\n",
    "    model_SGD = pk.load(f)   \n",
    "\n",
    "with open(\"models/model_Lreg.pk\", \"rb\") as f:\n",
    "    model_Lreg = pk.load(f)   \n",
    "\n",
    "with open(\"models/model_RFC.pk\", \"rb\") as f:\n",
    "    model_RFC = pk.load(f)   \n"
   ]
  },
  {
   "attachments": {},
   "cell_type": "markdown",
   "metadata": {},
   "source": [
    "## Deep Learning Prerequisite"
   ]
  },
  {
   "attachments": {},
   "cell_type": "markdown",
   "metadata": {},
   "source": [
    "**Hyperparameter Tuning**"
   ]
  },
  {
   "cell_type": "code",
   "execution_count": 79,
   "metadata": {},
   "outputs": [],
   "source": [
    "EMBEDDING_DIMENSION = 128\n",
    "VOCABULARY_SIZE = 10000\n",
    "MAX_LENGTH = 500\n",
    "OOV_TOK = '<OOV>'\n",
    "TRUNCATE_TYPE = 'pre'\n",
    "PADDING_TYPE = 'pre'\n"
   ]
  },
  {
   "cell_type": "code",
   "execution_count": 80,
   "metadata": {},
   "outputs": [],
   "source": [
    "X = data_frame_train['Token'].values\n",
    "Y = data_frame_train['Category'].values"
   ]
  },
  {
   "cell_type": "code",
   "execution_count": 81,
   "metadata": {},
   "outputs": [],
   "source": [
    "X_train, X_test, Y_train, Y_test = train_test_split(X, Y, test_size = 0.2, random_state = 42)"
   ]
  },
  {
   "cell_type": "code",
   "execution_count": 82,
   "metadata": {},
   "outputs": [
    {
     "name": "stdout",
     "output_type": "stream",
     "text": [
      "(1192,)\n",
      "(298,)\n",
      "(1192,)\n",
      "(298,)\n"
     ]
    }
   ],
   "source": [
    "print(X_train.shape)\n",
    "print(X_test.shape)\n",
    "print(Y_train.shape)\n",
    "print(X_test.shape)"
   ]
  },
  {
   "cell_type": "code",
   "execution_count": 83,
   "metadata": {},
   "outputs": [
    {
     "name": "stdout",
     "output_type": "stream",
     "text": [
      "Found 16149 unique tokens.\n"
     ]
    }
   ],
   "source": [
    "\n",
    "tokenizer = Tokenizer(num_words=VOCABULARY_SIZE, filters='!\"#$%&()*+,-./:;<=>?@[\\]^_`{|}~', lower=True,oov_token=OOV_TOK)\n",
    "tokenizer.fit_on_texts(X_train)\n",
    "word_index = tokenizer.word_index\n",
    "print('Found %s unique tokens.' % len(word_index))"
   ]
  },
  {
   "attachments": {},
   "cell_type": "markdown",
   "metadata": {},
   "source": [
    "**Pad Sequence**"
   ]
  },
  {
   "cell_type": "code",
   "execution_count": 84,
   "metadata": {},
   "outputs": [],
   "source": [
    "X_train = tokenizer.texts_to_sequences(X_train)\n",
    "X_test = tokenizer.texts_to_sequences(X_test)\n",
    "X_train = pad_sequences(X_train, maxlen=MAX_LENGTH,padding=PADDING_TYPE, truncating=TRUNCATE_TYPE)\n",
    "X_test = pad_sequences(X_test, maxlen=MAX_LENGTH,padding=PADDING_TYPE, truncating=TRUNCATE_TYPE)"
   ]
  },
  {
   "cell_type": "code",
   "execution_count": 85,
   "metadata": {},
   "outputs": [
    {
     "data": {
      "text/plain": [
       "(array([[   0,    0,    0, ..., 1656, 1795,  713],\n",
       "        [   0,    0,    0, ..., 4033,    1,    1],\n",
       "        [   0,    0,    0, ...,   88,  675,   88],\n",
       "        ...,\n",
       "        [   0,    0,    0, ...,   25,  112,  264],\n",
       "        [   0,    0,    0, ..., 2338,  102,  640],\n",
       "        [   0,    0,    0, ..., 6395,   22,  540]]),\n",
       " array([[   0,    0,    0, ...,   44,    1,    1],\n",
       "        [   0,    0,    0, ...,    3, 2813,  331],\n",
       "        [   0,    0,    0, ..., 2413,  109,  707],\n",
       "        ...,\n",
       "        [   0,    0,    0, ...,  681, 1764,  580],\n",
       "        [   0,    0,    0, ...,  437,  554,    2],\n",
       "        [   0,    0,    0, ...,  277,  852,  591]]))"
      ]
     },
     "execution_count": 85,
     "metadata": {},
     "output_type": "execute_result"
    }
   ],
   "source": [
    "X_train[:10], X_test[:10]"
   ]
  },
  {
   "cell_type": "code",
   "execution_count": 86,
   "metadata": {},
   "outputs": [
    {
     "name": "stdout",
     "output_type": "stream",
     "text": [
      "x_train shape: (1192, 500)\n",
      "x_test shape: (298, 500)\n"
     ]
    }
   ],
   "source": [
    "# Shape of X_train and X_test\n",
    "print('x_train shape:', X_train.shape)\n",
    "print('x_test shape:', X_test.shape)\n",
    "     "
   ]
  },
  {
   "attachments": {},
   "cell_type": "markdown",
   "metadata": {},
   "source": [
    "**Tokenization pickle file**"
   ]
  },
  {
   "cell_type": "code",
   "execution_count": 87,
   "metadata": {},
   "outputs": [],
   "source": [
    "with open(\"Tokenizer/tokenizer.pk\", \"wb\") as f:\n",
    "    pk.dump(tokenizer, f)\n",
    "\n",
    "\n",
    "with open(\"Tokenizer/tokenizer.pk\", \"rb\") as f:\n",
    "    tokenizer_pk = pk.load(f)"
   ]
  },
  {
   "cell_type": "code",
   "execution_count": 88,
   "metadata": {},
   "outputs": [],
   "source": [
    "import json\n",
    "# Save our tokenizer layer which is used in prediction\n",
    "try:\n",
    "  tokenizer_json = tokenizer.to_json()\n",
    "  with open('Tokenizer/tokenizer.json', 'w', encoding='utf-8') as f:\n",
    "      f.write(json.dumps(tokenizer_json, ensure_ascii=True))\n",
    "except Exception as e:\n",
    "  print(f'Error raised!!: {e}') "
   ]
  },
  {
   "cell_type": "code",
   "execution_count": 90,
   "metadata": {},
   "outputs": [],
   "source": [
    "from sklearn.preprocessing import OneHotEncoder\n",
    "# One hot encoder\n",
    "try:\n",
    "  # Initialize oneHotEncoder to our labels\n",
    "  one_hot_encoder = OneHotEncoder(sparse=False)\n",
    "  # Train labels\n",
    "  Y_train_one_hot =one_hot_encoder.fit_transform(Y_train.reshape(-1,1))\n",
    "  # Test labels\n",
    "  Y_test_one_hot = one_hot_encoder.transform(Y_test.reshape(-1,1))\n",
    "except Exception as e:\n",
    "  print(f'Error raised!!: {e}') "
   ]
  },
  {
   "cell_type": "code",
   "execution_count": 91,
   "metadata": {},
   "outputs": [],
   "source": [
    "with open(\"Labels/one_hot_encoder.pk\", \"wb\") as f:\n",
    "    pk.dump(one_hot_encoder, f)\n",
    "\n",
    "\n",
    "with open(\"Labels/one_hot_encoder.pk\", \"rb\") as f:\n",
    "    one_hot_encoder_pk = pk.load(f)"
   ]
  },
  {
   "cell_type": "code",
   "execution_count": 92,
   "metadata": {},
   "outputs": [
    {
     "data": {
      "text/plain": [
       "array([[0., 0., 0., 1., 0.],\n",
       "       [1., 0., 0., 0., 0.],\n",
       "       [0., 0., 1., 0., 0.],\n",
       "       ...,\n",
       "       [0., 0., 1., 0., 0.],\n",
       "       [0., 1., 0., 0., 0.],\n",
       "       [0., 0., 0., 1., 0.]])"
      ]
     },
     "execution_count": 92,
     "metadata": {},
     "output_type": "execute_result"
    }
   ],
   "source": [
    "Y_train_one_hot"
   ]
  },
  {
   "cell_type": "code",
   "execution_count": 93,
   "metadata": {},
   "outputs": [
    {
     "name": "stderr",
     "output_type": "stream",
     "text": [
      "C:\\Users\\hp\\AppData\\Roaming\\Python\\Python310\\site-packages\\sklearn\\preprocessing\\_label.py:115: DataConversionWarning: A column-vector y was passed when a 1d array was expected. Please change the shape of y to (n_samples, ), for example using ravel().\n",
      "  y = column_or_1d(y, warn=True)\n",
      "C:\\Users\\hp\\AppData\\Roaming\\Python\\Python310\\site-packages\\sklearn\\preprocessing\\_label.py:133: DataConversionWarning: A column-vector y was passed when a 1d array was expected. Please change the shape of y to (n_samples, ), for example using ravel().\n",
      "  y = column_or_1d(y, warn=True)\n"
     ]
    }
   ],
   "source": [
    "from sklearn.preprocessing import LabelEncoder\n",
    "# Label encoder\n",
    "try:\n",
    "  # Intialize label encoder to our labels\n",
    "  label_encoder = LabelEncoder()\n",
    "  # Train labels\n",
    "  Y_train_labels_encoded = label_encoder.fit_transform(Y_train.reshape(-1,1))\n",
    "  # Test labels\n",
    "  Y_test_labels_encoded = label_encoder.transform(Y_test.reshape(-1,1))\n",
    "except Exception as e:\n",
    "  print(f'Error raised!!: {e}') \n",
    "     "
   ]
  },
  {
   "cell_type": "code",
   "execution_count": 94,
   "metadata": {},
   "outputs": [],
   "source": [
    "with open(\"Labels/label_encoder.pk\", \"wb\") as f:\n",
    "    pk.dump(label_encoder, f)\n",
    "\n",
    "\n",
    "with open(\"Labels/label_encoder.pk\", \"rb\") as f:\n",
    "    label_encoder_pk = pk.load(f)"
   ]
  },
  {
   "cell_type": "code",
   "execution_count": 95,
   "metadata": {},
   "outputs": [
    {
     "data": {
      "text/plain": [
       "array([3, 0, 2, ..., 2, 1, 3])"
      ]
     },
     "execution_count": 95,
     "metadata": {},
     "output_type": "execute_result"
    }
   ],
   "source": [
    "Y_train_labels_encoded"
   ]
  },
  {
   "cell_type": "code",
   "execution_count": 96,
   "metadata": {},
   "outputs": [],
   "source": [
    "\n",
    "# Class names\n",
    "class_names = label_encoder.classes_\n",
    "     "
   ]
  },
  {
   "cell_type": "code",
   "execution_count": 97,
   "metadata": {},
   "outputs": [
    {
     "data": {
      "text/plain": [
       "array([3, 0, 2, 3, 2, 0, 0, 1, 0, 1])"
      ]
     },
     "execution_count": 97,
     "metadata": {},
     "output_type": "execute_result"
    }
   ],
   "source": [
    "\n",
    "# Check first ten labelencoded train labels\n",
    "Y_train_labels_encoded[:10]"
   ]
  },
  {
   "attachments": {},
   "cell_type": "markdown",
   "metadata": {},
   "source": [
    "## LSTM Model"
   ]
  },
  {
   "cell_type": "code",
   "execution_count": 99,
   "metadata": {},
   "outputs": [],
   "source": [
    "n_lstm = 128\n",
    "drop_lstm = 0.5"
   ]
  },
  {
   "cell_type": "code",
   "execution_count": 160,
   "metadata": {},
   "outputs": [
    {
     "name": "stdout",
     "output_type": "stream",
     "text": [
      "WARNING:tensorflow:EarlyStopping mode <built-in function min> is unknown, fallback to auto mode.\n"
     ]
    },
    {
     "name": "stderr",
     "output_type": "stream",
     "text": [
      "2023-01-18 12:48:37,090 : WARNING : EarlyStopping mode <built-in function min> is unknown, fallback to auto mode.\n"
     ]
    }
   ],
   "source": [
    "model_LSTM = Sequential()\n",
    "model_LSTM.add(Embedding(VOCABULARY_SIZE, EMBEDDING_DIMENSION, input_length=X_train.shape[1]))\n",
    "model_LSTM.add(SpatialDropout1D(drop_lstm))\n",
    "model_LSTM.add(LSTM(n_lstm,return_sequences=False,  dropout=0.2, recurrent_dropout=0.2))\n",
    "model_LSTM.add(Dropout(drop_lstm))\n",
    "model_LSTM.add(Dense(5, activation='softmax'))\n",
    "model_LSTM.compile(loss='categorical_crossentropy', optimizer='adam', metrics=['accuracy'])\n",
    "es = EarlyStopping(monitor='val_loss', mode = min, patience=3, min_delta=0.0001)"
   ]
  },
  {
   "cell_type": "code",
   "execution_count": 161,
   "metadata": {},
   "outputs": [
    {
     "name": "stdout",
     "output_type": "stream",
     "text": [
      "Epoch 1/7\n",
      "19/19 [==============================] - 266s 13s/step - loss: 1.6034 - accuracy: 0.2659 - val_loss: 1.5867 - val_accuracy: 0.3356\n",
      "Epoch 2/7\n",
      "19/19 [==============================] - 161s 9s/step - loss: 1.4346 - accuracy: 0.4035 - val_loss: 1.1844 - val_accuracy: 0.4362\n",
      "Epoch 3/7\n",
      "19/19 [==============================] - 162s 9s/step - loss: 1.0813 - accuracy: 0.4664 - val_loss: 0.9995 - val_accuracy: 0.4866\n",
      "Epoch 4/7\n",
      "19/19 [==============================] - 162s 9s/step - loss: 0.8977 - accuracy: 0.5923 - val_loss: 0.9385 - val_accuracy: 0.7886\n",
      "Epoch 5/7\n",
      "19/19 [==============================] - 168s 9s/step - loss: 0.6448 - accuracy: 0.7861 - val_loss: 0.5477 - val_accuracy: 0.8658\n",
      "Epoch 6/7\n",
      "19/19 [==============================] - 168s 9s/step - loss: 0.3929 - accuracy: 0.8935 - val_loss: 0.4285 - val_accuracy: 0.8691\n",
      "Epoch 7/7\n",
      "19/19 [==============================] - 171s 9s/step - loss: 0.2988 - accuracy: 0.9136 - val_loss: 0.3373 - val_accuracy: 0.9195\n"
     ]
    }
   ],
   "source": [
    "history_LSTM = model_LSTM.fit(X_train, Y_train_one_hot,validation_data=(X_test, Y_test_one_hot),epochs=7,batch_size=64,verbose=1, callbacks=[es])"
   ]
  },
  {
   "cell_type": "code",
   "execution_count": 162,
   "metadata": {},
   "outputs": [
    {
     "name": "stdout",
     "output_type": "stream",
     "text": [
      "Test loss: 0.3372856378555298\n",
      "Test accuracy: 0.9194630980491638\n"
     ]
    }
   ],
   "source": [
    "score = model_LSTM.evaluate(X_test, Y_test_one_hot, verbose = 0)\n",
    "print('Test loss:', score[0])\n",
    "print('Test accuracy:', score[1])"
   ]
  },
  {
   "cell_type": "code",
   "execution_count": 163,
   "metadata": {},
   "outputs": [
    {
     "data": {
      "text/plain": [
       "<matplotlib.legend.Legend at 0x128199073d0>"
      ]
     },
     "execution_count": 163,
     "metadata": {},
     "output_type": "execute_result"
    },
    {
     "data": {
      "image/png": "[encoded data removed]",
      "text/plain": [
       "<Figure size 1000x500 with 1 Axes>"
      ]
     },
     "metadata": {},
     "output_type": "display_data"
    }
   ],
   "source": [
    "import matplotlib.pyplot as plt\n",
    "fig= plt.figure(figsize=(10,5))\n",
    "plt.plot(history_LSTM.history['val_accuracy'], label='val_accuracy')\n",
    "plt.plot(history_LSTM.history['accuracy'], label='accuracy')\n",
    "plt.xlabel(\"epoch\")\n",
    "plt.ylabel(\"Loss\")\n",
    "plt.legend()"
   ]
  },
  {
   "cell_type": "code",
   "execution_count": 164,
   "metadata": {},
   "outputs": [
    {
     "data": {
      "text/plain": [
       "<matplotlib.legend.Legend at 0x127f83bf2b0>"
      ]
     },
     "execution_count": 164,
     "metadata": {},
     "output_type": "execute_result"
    },
    {
     "data": {
      "image/png": "[encoded data removed]",
      "text/plain": [
       "<Figure size 1000x500 with 1 Axes>"
      ]
     },
     "metadata": {},
     "output_type": "display_data"
    }
   ],
   "source": [
    "import matplotlib.pyplot as plt\n",
    "fig= plt.figure(figsize=(10,5))\n",
    "plt.plot(history_LSTM.history['loss'], label='loss')\n",
    "plt.plot(history_LSTM.history['val_loss'], label='val_loss')\n",
    "plt.xlabel(\"epoch\")\n",
    "plt.ylabel(\"Loss\")\n",
    "plt.legend()"
   ]
  },
  {
   "cell_type": "code",
   "execution_count": 165,
   "metadata": {},
   "outputs": [],
   "source": [
    "from sklearn.metrics import accuracy_score, precision_recall_fscore_support\n",
    "def model_evaluation(Y_actual, Y_predicted):\n",
    "    model_LSTM_accuracy  = accuracy_score(Y_actual, Y_predicted) * 100\n",
    "    model_precision, model_recall, model_f1, _ = precision_recall_fscore_support(Y_actual, Y_predicted, average=\"weighted\")\n",
    "\n",
    "    model_evaluation_results = {'Accuracy' : model_LSTM_accuracy,\n",
    "                                'Precision' : model_LSTM_accuracy,\n",
    "                                'Recall': model_recall, \n",
    "                                'F1 Score': model_f1}\n",
    "    return model_evaluation_results   "
   ]
  },
  {
   "cell_type": "code",
   "execution_count": 166,
   "metadata": {},
   "outputs": [
    {
     "name": "stdout",
     "output_type": "stream",
     "text": [
      "10/10 [==============================] - 2s 245ms/step - loss: 0.3373 - accuracy: 0.9195\n"
     ]
    },
    {
     "data": {
      "text/plain": [
       "[0.3372856378555298, 0.9194630980491638]"
      ]
     },
     "execution_count": 166,
     "metadata": {},
     "output_type": "execute_result"
    }
   ],
   "source": [
    "# Evaluate on test data\n",
    "model_LSTM.evaluate(X_test, Y_test_one_hot)"
   ]
  },
  {
   "cell_type": "code",
   "execution_count": 167,
   "metadata": {},
   "outputs": [
    {
     "name": "stdout",
     "output_type": "stream",
     "text": [
      "10/10 [==============================] - 3s 236ms/step\n"
     ]
    }
   ],
   "source": [
    "model_LSTM_predict_probabilities = model_LSTM.predict(X_test)"
   ]
  },
  {
   "cell_type": "code",
   "execution_count": 168,
   "metadata": {},
   "outputs": [
    {
     "data": {
      "text/plain": [
       "array([[9.5427945e-02, 4.7179517e-01, 1.5294619e-01, 1.8970275e-01,\n",
       "        9.0127908e-02],\n",
       "       [1.3156361e-03, 2.3841009e-02, 9.6488732e-01, 7.9968735e-04,\n",
       "        9.1563193e-03]], dtype=float32)"
      ]
     },
     "execution_count": 168,
     "metadata": {},
     "output_type": "execute_result"
    }
   ],
   "source": [
    "model_LSTM_ohe_predict_probabilities[:2]"
   ]
  },
  {
   "cell_type": "code",
   "execution_count": 169,
   "metadata": {},
   "outputs": [
    {
     "data": {
      "text/plain": [
       "<tf.Tensor: shape=(298,), dtype=int64, numpy=\n",
       "array([4, 2, 2, 4, 4, 0, 4, 1, 0, 4, 2, 1, 4, 3, 4, 4, 0, 3, 2, 0, 4, 1,\n",
       "       3, 0, 3, 4, 0, 3, 4, 0, 3, 0, 0, 2, 3, 4, 1, 0, 1, 2, 3, 2, 2, 0,\n",
       "       3, 0, 2, 4, 2, 0, 3, 3, 0, 3, 2, 1, 1, 1, 0, 1, 4, 0, 4, 4, 4, 4,\n",
       "       0, 4, 2, 2, 2, 3, 3, 3, 1, 1, 0, 2, 0, 0, 0, 3, 3, 3, 0, 1, 3, 0,\n",
       "       0, 4, 1, 2, 2, 4, 0, 2, 4, 4, 1, 2, 1, 2, 1, 3, 4, 3, 2, 3, 0, 4,\n",
       "       4, 0, 4, 1, 4, 2, 0, 0, 1, 0, 2, 3, 0, 2, 0, 0, 4, 4, 4, 0, 0, 3,\n",
       "       1, 3, 0, 2, 2, 1, 0, 1, 0, 1, 4, 3, 1, 2, 2, 4, 2, 2, 3, 0, 4, 3,\n",
       "       1, 4, 4, 3, 4, 3, 3, 2, 0, 4, 2, 2, 4, 3, 3, 4, 2, 4, 4, 1, 0, 4,\n",
       "       1, 3, 0, 0, 3, 3, 4, 1, 1, 0, 4, 4, 1, 2, 3, 3, 2, 4, 3, 3, 2, 3,\n",
       "       3, 0, 1, 2, 3, 1, 0, 3, 4, 4, 0, 2, 3, 2, 0, 1, 3, 2, 2, 3, 4, 2,\n",
       "       3, 4, 0, 0, 1, 4, 0, 2, 2, 2, 2, 3, 3, 0, 0, 4, 0, 3, 3, 1, 2, 1,\n",
       "       1, 1, 2, 0, 1, 1, 3, 4, 1, 2, 4, 3, 2, 4, 1, 3, 4, 0, 2, 2, 4, 4,\n",
       "       4, 3, 3, 0, 2, 1, 3, 3, 4, 3, 3, 4, 3, 3, 2, 4, 1, 0, 0, 2, 0, 0,\n",
       "       0, 4, 2, 1, 2, 0, 0, 0, 2, 1, 4, 1], dtype=int64)>"
      ]
     },
     "execution_count": 169,
     "metadata": {},
     "output_type": "execute_result"
    }
   ],
   "source": [
    "# Turn prediction probabilities into prediction labels\n",
    "model_LSTM_predict_probabilities_labels = tensorflow.argmax(model_LSTM_predict_probabilities, axis=1)\n",
    "model_LSTM_predict_probabilities_labels"
   ]
  },
  {
   "cell_type": "code",
   "execution_count": 170,
   "metadata": {},
   "outputs": [
    {
     "data": {
      "text/plain": [
       "{'Accuracy': 91.94630872483222,\n",
       " 'Precision': 91.94630872483222,\n",
       " 'Recall': 0.9194630872483222,\n",
       " 'F1 Score': 0.9192852787880083}"
      ]
     },
     "execution_count": 170,
     "metadata": {},
     "output_type": "execute_result"
    }
   ],
   "source": [
    "model_LSTM_results = model_evaluation(Y_test_labels_encoded,model_LSTM_predict_probabilities_labels)\n",
    "model_LSTM_results"
   ]
  },
  {
   "cell_type": "code",
   "execution_count": 199,
   "metadata": {},
   "outputs": [
    {
     "data": {
      "text/plain": [
       "Text(95.72222222222221, 0.5, 'Actual')"
      ]
     },
     "execution_count": 199,
     "metadata": {},
     "output_type": "execute_result"
    },
    {
     "data": {
      "image/png": "[encoded data removed]",
      "text/plain": [
       "<Figure size 1000x700 with 2 Axes>"
      ]
     },
     "metadata": {},
     "output_type": "display_data"
    }
   ],
   "source": [
    "cm_Bi_LSTM = confusion_matrix(Y_test_labels_encoded, model_LSTM_predict_probabilities.argmax(axis=1))\n",
    "plt.figure(figsize=(10,7))\n",
    "sns.heatmap(cm_Bi_LSTM, annot=True)\n",
    "plt.xlabel('Predicted')\n",
    "plt.ylabel('Actual')"
   ]
  },
  {
   "cell_type": "code",
   "execution_count": 171,
   "metadata": {},
   "outputs": [],
   "source": [
    "new_complaint = ['Cricket Australia is set to begin the team’s pre-season later this month under a set of new training protocols devised for the safety of players amid the COVID-19 pandemic.']"
   ]
  },
  {
   "cell_type": "code",
   "execution_count": 175,
   "metadata": {},
   "outputs": [
    {
     "name": "stdout",
     "output_type": "stream",
     "text": [
      "1/1 [==============================] - 0s 486ms/step\n",
      "[[0.01731935 0.9393902  0.00351021 0.0332973  0.00648284]]\n",
      "['entertainment']\n"
     ]
    }
   ],
   "source": [
    "\n",
    "seq = tokenizer.texts_to_sequences(new_complaint)\n",
    "padded = pad_sequences(seq, maxlen=1000)\n",
    "pred = model_LSTM.predict(padded)\n",
    "preds = tensorflow.argmax(pred, axis=1)\n",
    "print(pred)\n",
    "print(label_encoder_pk.inverse_transform(preds))"
   ]
  },
  {
   "cell_type": "code",
   "execution_count": 242,
   "metadata": {},
   "outputs": [],
   "source": [
    "\n",
    "def detect_catagory_dl(model,sentence):\n",
    "    message = preprocessing(sentence)\n",
    "    sentence = [message]\n",
    "    input_sequences = tokenizer.texts_to_sequences(sentence)\n",
    "    input_pad = pad_sequences(input_sequences,maxlen=MAX_LENGTH)\n",
    "    pred = model.predict(input_pad)\n",
    "    preds = tensorflow.argmax(pred, axis=1)\n",
    "\n",
    "    return pred,label_encoder_pk.inverse_transform(preds)[0]"
   ]
  },
  {
   "cell_type": "code",
   "execution_count": 243,
   "metadata": {},
   "outputs": [
    {
     "name": "stdout",
     "output_type": "stream",
     "text": [
      "1/1 [==============================] - 0s 234ms/step\n"
     ]
    },
    {
     "data": {
      "text/plain": [
       "(array([[0.06815598, 0.2989159 , 0.08044846, 0.12254515, 0.42993456]],\n",
       "       dtype=float32),\n",
       " 'tech')"
      ]
     },
     "execution_count": 243,
     "metadata": {},
     "output_type": "execute_result"
    }
   ],
   "source": [
    "detect_catagory_dl(model_LSTM,article3)"
   ]
  },
  {
   "attachments": {},
   "cell_type": "markdown",
   "metadata": {},
   "source": [
    "# Bi-Directional LSTM"
   ]
  },
  {
   "cell_type": "code",
   "execution_count": 180,
   "metadata": {},
   "outputs": [
    {
     "name": "stdout",
     "output_type": "stream",
     "text": [
      "WARNING:tensorflow:EarlyStopping mode <built-in function min> is unknown, fallback to auto mode.\n"
     ]
    },
    {
     "name": "stderr",
     "output_type": "stream",
     "text": [
      "2023-01-18 14:25:43,410 : WARNING : EarlyStopping mode <built-in function min> is unknown, fallback to auto mode.\n"
     ]
    }
   ],
   "source": [
    "model_Bi_LSTM = Sequential()\n",
    "model_Bi_LSTM.add(Embedding(VOCABULARY_SIZE, EMBEDDING_DIMENSION, input_length=X_train.shape[1]))\n",
    "model_Bi_LSTM.add(SpatialDropout1D(0.3))\n",
    "model_Bi_LSTM.add(Bidirectional(LSTM(EMBEDDING_DIMENSION, dropout=drop_lstm)))\n",
    "model_Bi_LSTM.add(Dense(EMBEDDING_DIMENSION, activation='relu'))\n",
    "model_Bi_LSTM.add(Dropout(drop_lstm))\n",
    "model_Bi_LSTM.add(Dense(EMBEDDING_DIMENSION, activation='relu'))\n",
    "model_Bi_LSTM.add(Dropout(drop_lstm))\n",
    "model_Bi_LSTM.add(Dense(5, activation='softmax'))\n",
    "model_Bi_LSTM.compile(loss='categorical_crossentropy', optimizer='adam',metrics=['accuracy'])\n",
    "es = EarlyStopping(monitor='val_loss', mode = min, patience=3, min_delta=0.0001)"
   ]
  },
  {
   "cell_type": "code",
   "execution_count": 181,
   "metadata": {},
   "outputs": [
    {
     "name": "stdout",
     "output_type": "stream",
     "text": [
      "Model: \"sequential_10\"\n",
      "_________________________________________________________________\n",
      " Layer (type)                Output Shape              Param #   \n",
      "=================================================================\n",
      " embedding_9 (Embedding)     (None, 500, 128)          1280000   \n",
      "                                                                 \n",
      " spatial_dropout1d_9 (Spatia  (None, 500, 128)         0         \n",
      " lDropout1D)                                                     \n",
      "                                                                 \n",
      " bidirectional (Bidirectiona  (None, 256)              263168    \n",
      " l)                                                              \n",
      "                                                                 \n",
      " dense_9 (Dense)             (None, 128)               32896     \n",
      "                                                                 \n",
      " dropout_9 (Dropout)         (None, 128)               0         \n",
      "                                                                 \n",
      " dense_10 (Dense)            (None, 128)               16512     \n",
      "                                                                 \n",
      " dropout_10 (Dropout)        (None, 128)               0         \n",
      "                                                                 \n",
      " dense_11 (Dense)            (None, 5)                 645       \n",
      "                                                                 \n",
      "=================================================================\n",
      "Total params: 1,593,221\n",
      "Trainable params: 1,593,221\n",
      "Non-trainable params: 0\n",
      "_________________________________________________________________\n",
      "None\n",
      "You must install pydot (`pip install pydot`) and install graphviz (see instructions at https://graphviz.gitlab.io/download/) for plot_model to work.\n"
     ]
    }
   ],
   "source": [
    "from tensorflow.keras.utils import plot_model\n",
    "print(model_Bi_LSTM.summary())\n",
    "plot_model(model_Bi_LSTM, to_file='model.png', show_shapes=True, show_layer_names=True)"
   ]
  },
  {
   "cell_type": "code",
   "execution_count": 182,
   "metadata": {},
   "outputs": [
    {
     "name": "stdout",
     "output_type": "stream",
     "text": [
      "Epoch 1/7\n",
      "19/19 [==============================] - 746s 39s/step - loss: 1.6076 - accuracy: 0.2047 - val_loss: 1.6039 - val_accuracy: 0.2114\n",
      "Epoch 2/7\n",
      "19/19 [==============================] - 592s 31s/step - loss: 1.6013 - accuracy: 0.2408 - val_loss: 1.5907 - val_accuracy: 0.2114\n",
      "Epoch 3/7\n",
      "19/19 [==============================] - 530s 27s/step - loss: 1.5699 - accuracy: 0.2978 - val_loss: 1.5421 - val_accuracy: 0.3389\n",
      "Epoch 4/7\n",
      "19/19 [==============================] - 222s 12s/step - loss: 1.3587 - accuracy: 0.4086 - val_loss: 1.1343 - val_accuracy: 0.6007\n",
      "Epoch 5/7\n",
      "19/19 [==============================] - 254s 13s/step - loss: 1.0335 - accuracy: 0.5243 - val_loss: 0.9407 - val_accuracy: 0.6376\n",
      "Epoch 6/7\n",
      "19/19 [==============================] - 424s 23s/step - loss: 0.7996 - accuracy: 0.6661 - val_loss: 0.6520 - val_accuracy: 0.7148\n",
      "Epoch 7/7\n",
      "19/19 [==============================] - 384s 20s/step - loss: 0.4661 - accuracy: 0.8062 - val_loss: 0.5558 - val_accuracy: 0.8221\n"
     ]
    }
   ],
   "source": [
    "history_Bi_LSTM = model_Bi_LSTM.fit(X_train, Y_train_one_hot, validation_data=(X_test, Y_test_one_hot),epochs=7, batch_size=64,validation_split=0.1,callbacks=[es])"
   ]
  },
  {
   "cell_type": "code",
   "execution_count": 183,
   "metadata": {},
   "outputs": [
    {
     "name": "stdout",
     "output_type": "stream",
     "text": [
      "Test loss: 0.5558040738105774\n",
      "Test accuracy: 0.8221476674079895\n"
     ]
    }
   ],
   "source": [
    "score = model_Bi_LSTM.evaluate(X_test, Y_test_one_hot, verbose = 0)\n",
    "print('Test loss:', score[0])\n",
    "print('Test accuracy:', score[1])"
   ]
  },
  {
   "cell_type": "code",
   "execution_count": 184,
   "metadata": {},
   "outputs": [
    {
     "data": {
      "text/plain": [
       "<matplotlib.legend.Legend at 0x127fb38b850>"
      ]
     },
     "execution_count": 184,
     "metadata": {},
     "output_type": "execute_result"
    },
    {
     "data": {
      "image/png": "[encoded data removed]",
      "text/plain": [
       "<Figure size 1000x500 with 1 Axes>"
      ]
     },
     "metadata": {},
     "output_type": "display_data"
    }
   ],
   "source": [
    "import matplotlib.pyplot as plt\n",
    "fig= plt.figure(figsize=(10,5))\n",
    "plt.plot(history_Bi_LSTM.history['val_accuracy'], label='val_accuracy')\n",
    "plt.plot(history_Bi_LSTM.history['accuracy'], label='accuracy')\n",
    "plt.xlabel(\"epoch\")\n",
    "plt.ylabel(\"Loss\")\n",
    "plt.legend()"
   ]
  },
  {
   "cell_type": "code",
   "execution_count": 185,
   "metadata": {},
   "outputs": [
    {
     "data": {
      "text/plain": [
       "<matplotlib.legend.Legend at 0x128191fa8f0>"
      ]
     },
     "execution_count": 185,
     "metadata": {},
     "output_type": "execute_result"
    },
    {
     "data": {
      "image/png": "[encoded data removed]",
      "text/plain": [
       "<Figure size 1000x500 with 1 Axes>"
      ]
     },
     "metadata": {},
     "output_type": "display_data"
    }
   ],
   "source": [
    "import matplotlib.pyplot as plt\n",
    "fig= plt.figure(figsize=(10,5))\n",
    "plt.plot(history_Bi_LSTM.history['loss'], label='loss')\n",
    "plt.plot(history_Bi_LSTM.history['val_loss'], label='val_loss')\n",
    "plt.xlabel(\"epoch\")\n",
    "plt.ylabel(\"Loss\")\n",
    "plt.legend()"
   ]
  },
  {
   "cell_type": "code",
   "execution_count": 186,
   "metadata": {},
   "outputs": [
    {
     "name": "stdout",
     "output_type": "stream",
     "text": [
      "10/10 [==============================] - 3s 261ms/step - loss: 0.5558 - accuracy: 0.8221\n"
     ]
    },
    {
     "data": {
      "text/plain": [
       "[0.5558040738105774, 0.8221476674079895]"
      ]
     },
     "execution_count": 186,
     "metadata": {},
     "output_type": "execute_result"
    }
   ],
   "source": [
    "# Evaluate on test data\n",
    "model_Bi_LSTM.evaluate(X_test, Y_test_one_hot)\n"
   ]
  },
  {
   "cell_type": "code",
   "execution_count": 187,
   "metadata": {},
   "outputs": [
    {
     "name": "stdout",
     "output_type": "stream",
     "text": [
      "10/10 [==============================] - 3s 244ms/step\n"
     ]
    },
    {
     "data": {
      "text/plain": [
       "array([[0.32609624, 0.49925676, 0.07815088, 0.06157279, 0.0349233 ],\n",
       "       [0.02626956, 0.00226213, 0.49260622, 0.00138372, 0.47747844]],\n",
       "      dtype=float32)"
      ]
     },
     "execution_count": 187,
     "metadata": {},
     "output_type": "execute_result"
    }
   ],
   "source": [
    "model_Bi_LSTM_predict_probabilities = model_Bi_LSTM.predict(X_test)\n",
    "model_Bi_LSTM_predict_probabilities[:2]"
   ]
  },
  {
   "cell_type": "code",
   "execution_count": 190,
   "metadata": {},
   "outputs": [
    {
     "data": {
      "text/plain": [
       "<tf.Tensor: shape=(298,), dtype=int64, numpy=\n",
       "array([1, 2, 2, 4, 4, 0, 4, 1, 0, 4, 2, 1, 0, 3, 4, 2, 0, 3, 2, 0, 4, 1,\n",
       "       3, 0, 3, 4, 0, 3, 4, 0, 3, 0, 0, 2, 3, 2, 0, 0, 1, 2, 3, 0, 2, 0,\n",
       "       3, 0, 2, 4, 0, 0, 3, 3, 0, 3, 2, 1, 1, 1, 0, 3, 4, 0, 0, 4, 4, 4,\n",
       "       0, 2, 1, 2, 2, 3, 3, 3, 1, 1, 0, 2, 0, 0, 0, 3, 3, 3, 0, 1, 3, 0,\n",
       "       0, 2, 1, 0, 2, 4, 0, 0, 4, 4, 1, 2, 1, 1, 1, 3, 4, 3, 0, 3, 0, 4,\n",
       "       2, 0, 2, 1, 4, 0, 0, 0, 1, 0, 1, 3, 0, 2, 0, 0, 4, 1, 0, 1, 0, 3,\n",
       "       1, 3, 0, 0, 0, 1, 0, 1, 0, 1, 2, 3, 1, 2, 2, 4, 4, 2, 3, 0, 1, 3,\n",
       "       1, 2, 1, 3, 4, 3, 3, 2, 0, 4, 4, 2, 4, 3, 3, 0, 2, 4, 1, 0, 0, 1,\n",
       "       1, 3, 0, 0, 3, 3, 4, 1, 1, 0, 2, 2, 1, 2, 3, 3, 2, 4, 3, 3, 2, 3,\n",
       "       3, 0, 1, 4, 3, 1, 0, 3, 4, 4, 0, 2, 3, 4, 0, 1, 3, 0, 2, 3, 4, 2,\n",
       "       3, 1, 0, 0, 1, 1, 0, 2, 2, 2, 2, 3, 3, 0, 0, 4, 0, 3, 3, 0, 2, 1,\n",
       "       1, 1, 0, 0, 1, 1, 3, 0, 1, 1, 2, 1, 0, 4, 1, 3, 2, 0, 0, 2, 1, 4,\n",
       "       4, 3, 3, 0, 1, 1, 3, 3, 4, 3, 3, 1, 3, 3, 0, 2, 1, 0, 0, 2, 0, 0,\n",
       "       0, 2, 2, 1, 0, 0, 0, 0, 0, 1, 4, 1], dtype=int64)>"
      ]
     },
     "execution_count": 190,
     "metadata": {},
     "output_type": "execute_result"
    }
   ],
   "source": [
    "# Turn prediction probabilities into prediction labels\n",
    "model_Bi_LSTM_predict_probabilities_labels = tensorflow.argmax(model_Bi_LSTM_predict_probabilities, axis=1)\n",
    "model_Bi_LSTM_predict_probabilities_labels\n"
   ]
  },
  {
   "cell_type": "code",
   "execution_count": 192,
   "metadata": {},
   "outputs": [
    {
     "data": {
      "text/plain": [
       "{'Accuracy': 82.21476510067114,\n",
       " 'Precision': 82.21476510067114,\n",
       " 'Recall': 0.8221476510067114,\n",
       " 'F1 Score': 0.8163721864584761}"
      ]
     },
     "execution_count": 192,
     "metadata": {},
     "output_type": "execute_result"
    }
   ],
   "source": [
    "model_Bi_LSTM_results = model_evaluation(Y_test_labels_encoded,model_Bi_LSTM_predict_probabilities_labels)\n",
    "model_Bi_LSTM_results\n"
   ]
  },
  {
   "cell_type": "code",
   "execution_count": 193,
   "metadata": {},
   "outputs": [
    {
     "name": "stdout",
     "output_type": "stream",
     "text": [
      "              precision    recall  f1-score   support\n",
      "\n",
      "           0       0.83      0.96      0.89        75\n",
      "           1       0.71      0.91      0.80        46\n",
      "           2       0.67      0.59      0.63        56\n",
      "           3       0.98      0.98      0.98        63\n",
      "           4       0.90      0.62      0.73        58\n",
      "\n",
      "    accuracy                           0.82       298\n",
      "   macro avg       0.82      0.81      0.81       298\n",
      "weighted avg       0.83      0.82      0.82       298\n",
      "\n"
     ]
    }
   ],
   "source": [
    "print(classification_report(Y_test_labels_encoded,model_Bi_LSTM_predict_probabilities_labels))"
   ]
  },
  {
   "cell_type": "code",
   "execution_count": 198,
   "metadata": {},
   "outputs": [
    {
     "data": {
      "text/plain": [
       "Text(95.72222222222221, 0.5, 'Actual')"
      ]
     },
     "execution_count": 198,
     "metadata": {},
     "output_type": "execute_result"
    },
    {
     "data": {
      "image/png": "[encoded data removed]",
      "text/plain": [
       "<Figure size 1000x700 with 2 Axes>"
      ]
     },
     "metadata": {},
     "output_type": "display_data"
    }
   ],
   "source": [
    "cm_Bi_LSTM = confusion_matrix(Y_test_labels_encoded, model_Bi_LSTM_predict_probabilities.argmax(axis=1))\n",
    "plt.figure(figsize=(10,7))\n",
    "sns.heatmap(cm_Bi_LSTM, annot=True)\n",
    "plt.xlabel('Predicted')\n",
    "plt.ylabel('Actual')"
   ]
  },
  {
   "cell_type": "code",
   "execution_count": null,
   "metadata": {},
   "outputs": [],
   "source": []
  },
  {
   "attachments": {},
   "cell_type": "markdown",
   "metadata": {},
   "source": [
    "## GRU: Gated Recurrent Unit"
   ]
  },
  {
   "cell_type": "code",
   "execution_count": 201,
   "metadata": {},
   "outputs": [
    {
     "name": "stdout",
     "output_type": "stream",
     "text": [
      "WARNING:tensorflow:EarlyStopping mode <built-in function min> is unknown, fallback to auto mode.\n"
     ]
    },
    {
     "name": "stderr",
     "output_type": "stream",
     "text": [
      "2023-01-18 21:41:31,360 : WARNING : EarlyStopping mode <built-in function min> is unknown, fallback to auto mode.\n"
     ]
    }
   ],
   "source": [
    "model_GRU = Sequential()\n",
    "model_GRU.add(Embedding(VOCABULARY_SIZE, EMBEDDING_DIMENSION, input_length=X_train.shape[1]))\n",
    "model_GRU.add(SpatialDropout1D(0.3))\n",
    "model_GRU.add(GRU(EMBEDDING_DIMENSION, return_sequences = False))\n",
    "model_GRU.add(Dropout(drop_lstm))\n",
    "model_GRU.add(Dense(5, activation='softmax'))\n",
    "model_GRU.compile(loss='categorical_crossentropy', optimizer='adam',metrics=['accuracy'])\n",
    "es = EarlyStopping(monitor='val_loss', mode = min, patience=3, min_delta=0.0001)"
   ]
  },
  {
   "cell_type": "code",
   "execution_count": 202,
   "metadata": {},
   "outputs": [
    {
     "name": "stdout",
     "output_type": "stream",
     "text": [
      "Model: \"sequential_12\"\n",
      "_________________________________________________________________\n",
      " Layer (type)                Output Shape              Param #   \n",
      "=================================================================\n",
      " embedding_10 (Embedding)    (None, 500, 128)          1280000   \n",
      "                                                                 \n",
      " spatial_dropout1d_10 (Spati  (None, 500, 128)         0         \n",
      " alDropout1D)                                                    \n",
      "                                                                 \n",
      " gru (GRU)                   (None, 128)               99072     \n",
      "                                                                 \n",
      " dropout_11 (Dropout)        (None, 128)               0         \n",
      "                                                                 \n",
      " dense_12 (Dense)            (None, 5)                 645       \n",
      "                                                                 \n",
      "=================================================================\n",
      "Total params: 1,379,717\n",
      "Trainable params: 1,379,717\n",
      "Non-trainable params: 0\n",
      "_________________________________________________________________\n",
      "None\n",
      "You must install pydot (`pip install pydot`) and install graphviz (see instructions at https://graphviz.gitlab.io/download/) for plot_model to work.\n"
     ]
    }
   ],
   "source": [
    "from tensorflow.keras.utils import plot_model\n",
    "print(model_GRU.summary())\n",
    "plot_model(model_GRU, to_file='model.png', show_shapes=True, show_layer_names=True)"
   ]
  },
  {
   "cell_type": "code",
   "execution_count": 203,
   "metadata": {},
   "outputs": [
    {
     "name": "stdout",
     "output_type": "stream",
     "text": [
      "Epoch 1/7\n",
      "19/19 [==============================] - 70s 4s/step - loss: 1.6044 - accuracy: 0.2215 - val_loss: 1.5927 - val_accuracy: 0.2148\n",
      "Epoch 2/7\n",
      "19/19 [==============================] - 72s 4s/step - loss: 1.5567 - accuracy: 0.2550 - val_loss: 1.5390 - val_accuracy: 0.2483\n",
      "Epoch 3/7\n",
      "19/19 [==============================] - 93s 5s/step - loss: 1.3474 - accuracy: 0.6460 - val_loss: 1.3445 - val_accuracy: 0.6409\n",
      "Epoch 4/7\n",
      "19/19 [==============================] - 94s 5s/step - loss: 0.8751 - accuracy: 0.8230 - val_loss: 0.9582 - val_accuracy: 0.6913\n",
      "Epoch 5/7\n",
      "19/19 [==============================] - 97s 5s/step - loss: 0.3606 - accuracy: 0.9052 - val_loss: 0.5631 - val_accuracy: 0.7919\n",
      "Epoch 6/7\n",
      "19/19 [==============================] - 106s 6s/step - loss: 0.1468 - accuracy: 0.9648 - val_loss: 0.5244 - val_accuracy: 0.8322\n",
      "Epoch 7/7\n",
      "19/19 [==============================] - 138s 7s/step - loss: 0.0590 - accuracy: 0.9933 - val_loss: 0.4380 - val_accuracy: 0.8591\n"
     ]
    }
   ],
   "source": [
    "history_GRU = model_GRU.fit(X_train, Y_train_one_hot, validation_data=(X_test, Y_test_one_hot),epochs=7, batch_size=64,validation_split=0.1,callbacks=[es])\n"
   ]
  },
  {
   "cell_type": "code",
   "execution_count": 204,
   "metadata": {},
   "outputs": [
    {
     "name": "stdout",
     "output_type": "stream",
     "text": [
      "Test loss: 0.43797293305397034\n",
      "Test accuracy: 0.8590604066848755\n"
     ]
    }
   ],
   "source": [
    "score = model_GRU.evaluate(X_test, Y_test_one_hot, verbose = 0)\n",
    "print('Test loss:', score[0])\n",
    "print('Test accuracy:', score[1])"
   ]
  },
  {
   "cell_type": "code",
   "execution_count": 205,
   "metadata": {},
   "outputs": [
    {
     "data": {
      "text/plain": [
       "<matplotlib.legend.Legend at 0x12828afc130>"
      ]
     },
     "execution_count": 205,
     "metadata": {},
     "output_type": "execute_result"
    },
    {
     "data": {
      "image/png": "[encoded data removed]",
      "text/plain": [
       "<Figure size 1000x500 with 1 Axes>"
      ]
     },
     "metadata": {},
     "output_type": "display_data"
    }
   ],
   "source": [
    "import matplotlib.pyplot as plt\n",
    "fig= plt.figure(figsize=(10,5))\n",
    "plt.plot(history_GRU.history['val_accuracy'], label='val_accuracy')\n",
    "plt.plot(history_GRU.history['accuracy'], label='accuracy')\n",
    "plt.xlabel(\"epoch\")\n",
    "plt.ylabel(\"Loss\")\n",
    "plt.legend()"
   ]
  },
  {
   "cell_type": "code",
   "execution_count": 206,
   "metadata": {},
   "outputs": [
    {
     "data": {
      "text/plain": [
       "<matplotlib.legend.Legend at 0x128295e1750>"
      ]
     },
     "execution_count": 206,
     "metadata": {},
     "output_type": "execute_result"
    },
    {
     "data": {
      "image/png": "[encoded data removed]",
      "text/plain": [
       "<Figure size 1000x500 with 1 Axes>"
      ]
     },
     "metadata": {},
     "output_type": "display_data"
    }
   ],
   "source": [
    "import matplotlib.pyplot as plt\n",
    "fig= plt.figure(figsize=(10,5))\n",
    "plt.plot(history_GRU.history['loss'], label='loss')\n",
    "plt.plot(history_GRU.history['val_loss'], label='val_loss')\n",
    "plt.xlabel(\"epoch\")\n",
    "plt.ylabel(\"Loss\")\n",
    "plt.legend()"
   ]
  },
  {
   "cell_type": "code",
   "execution_count": 215,
   "metadata": {},
   "outputs": [
    {
     "name": "stdout",
     "output_type": "stream",
     "text": [
      "10/10 [==============================] - 2s 164ms/step - loss: 0.4380 - accuracy: 0.8591\n"
     ]
    },
    {
     "data": {
      "text/plain": [
       "[0.43797293305397034, 0.8590604066848755]"
      ]
     },
     "execution_count": 215,
     "metadata": {},
     "output_type": "execute_result"
    }
   ],
   "source": [
    "# Evaluate on test data\n",
    "model_GRU.evaluate(X_test, Y_test_one_hot)\n"
   ]
  },
  {
   "cell_type": "code",
   "execution_count": 210,
   "metadata": {},
   "outputs": [
    {
     "name": "stdout",
     "output_type": "stream",
     "text": [
      "10/10 [==============================] - 2s 155ms/step\n"
     ]
    },
    {
     "data": {
      "text/plain": [
       "array([[5.7491573e-04, 9.7195035e-01, 3.8440901e-04, 1.2909533e-02,\n",
       "        1.4180743e-02],\n",
       "       [4.7114822e-03, 9.1391921e-06, 9.8822904e-01, 2.1878404e-06,\n",
       "        7.0480676e-03]], dtype=float32)"
      ]
     },
     "execution_count": 210,
     "metadata": {},
     "output_type": "execute_result"
    }
   ],
   "source": [
    "model_GRU_predict_probabilities = model_GRU.predict(X_test)\n",
    "model_GRU_predict_probabilities[:2]"
   ]
  },
  {
   "cell_type": "code",
   "execution_count": 211,
   "metadata": {},
   "outputs": [
    {
     "data": {
      "text/plain": [
       "<tf.Tensor: shape=(298,), dtype=int64, numpy=\n",
       "array([1, 2, 2, 2, 4, 0, 4, 1, 0, 4, 2, 1, 0, 3, 4, 2, 0, 0, 2, 0, 4, 1,\n",
       "       3, 0, 3, 4, 0, 3, 4, 0, 0, 0, 0, 2, 3, 2, 1, 0, 1, 2, 3, 0, 2, 0,\n",
       "       3, 0, 2, 4, 2, 0, 3, 3, 0, 3, 2, 1, 1, 2, 0, 4, 4, 0, 1, 4, 4, 4,\n",
       "       0, 4, 2, 2, 2, 3, 3, 3, 1, 1, 0, 2, 0, 2, 0, 3, 3, 3, 0, 1, 3, 2,\n",
       "       0, 4, 1, 0, 0, 4, 0, 0, 4, 4, 1, 2, 1, 0, 1, 3, 4, 3, 2, 3, 0, 4,\n",
       "       2, 0, 2, 1, 4, 0, 0, 0, 1, 0, 2, 3, 0, 2, 0, 0, 4, 2, 2, 3, 0, 3,\n",
       "       1, 3, 0, 0, 0, 1, 0, 1, 0, 1, 1, 3, 1, 2, 2, 4, 2, 2, 3, 0, 1, 3,\n",
       "       1, 1, 1, 3, 4, 3, 3, 2, 0, 2, 2, 2, 4, 1, 3, 4, 2, 4, 1, 4, 0, 1,\n",
       "       1, 3, 0, 0, 3, 3, 4, 1, 1, 0, 4, 4, 1, 2, 3, 3, 2, 4, 3, 3, 2, 3,\n",
       "       3, 0, 1, 2, 3, 1, 0, 3, 4, 4, 0, 2, 3, 2, 0, 1, 3, 0, 2, 3, 4, 2,\n",
       "       3, 4, 0, 0, 1, 1, 0, 2, 2, 2, 2, 3, 3, 0, 0, 4, 0, 3, 3, 0, 2, 1,\n",
       "       1, 4, 0, 0, 1, 1, 3, 1, 1, 0, 4, 3, 2, 4, 1, 3, 4, 0, 2, 2, 1, 4,\n",
       "       4, 3, 3, 0, 0, 1, 3, 3, 4, 3, 3, 0, 3, 3, 0, 2, 1, 0, 0, 2, 0, 0,\n",
       "       0, 4, 2, 1, 2, 0, 0, 0, 0, 1, 4, 1], dtype=int64)>"
      ]
     },
     "execution_count": 211,
     "metadata": {},
     "output_type": "execute_result"
    }
   ],
   "source": [
    "# Turn prediction probabilities into prediction labels\n",
    "model_GRU_predict_probabilities_labels = tensorflow.argmax(model_GRU_predict_probabilities, axis=1)\n",
    "model_GRU_predict_probabilities_labels"
   ]
  },
  {
   "cell_type": "code",
   "execution_count": 212,
   "metadata": {},
   "outputs": [
    {
     "data": {
      "text/plain": [
       "{'Accuracy': 85.90604026845638,\n",
       " 'Precision': 85.90604026845638,\n",
       " 'Recall': 0.8590604026845637,\n",
       " 'F1 Score': 0.8589384826794947}"
      ]
     },
     "execution_count": 212,
     "metadata": {},
     "output_type": "execute_result"
    }
   ],
   "source": [
    "model_GRU_results = model_evaluation(Y_test_labels_encoded,model_GRU_predict_probabilities_labels)\n",
    "model_GRU_results"
   ]
  },
  {
   "cell_type": "code",
   "execution_count": 213,
   "metadata": {},
   "outputs": [
    {
     "name": "stdout",
     "output_type": "stream",
     "text": [
      "              precision    recall  f1-score   support\n",
      "\n",
      "           0       0.84      0.91      0.87        75\n",
      "           1       0.79      0.91      0.85        46\n",
      "           2       0.75      0.77      0.76        56\n",
      "           3       0.98      0.95      0.97        63\n",
      "           4       0.93      0.74      0.83        58\n",
      "\n",
      "    accuracy                           0.86       298\n",
      "   macro avg       0.86      0.86      0.86       298\n",
      "weighted avg       0.87      0.86      0.86       298\n",
      "\n"
     ]
    }
   ],
   "source": [
    "print(classification_report(Y_test_labels_encoded,model_GRU_predict_probabilities_labels))"
   ]
  },
  {
   "cell_type": "code",
   "execution_count": 214,
   "metadata": {},
   "outputs": [
    {
     "data": {
      "text/plain": [
       "Text(95.72222222222221, 0.5, 'Actual')"
      ]
     },
     "execution_count": 214,
     "metadata": {},
     "output_type": "execute_result"
    },
    {
     "data": {
      "image/png": "[encoded data removed]",
      "text/plain": [
       "<Figure size 1000x700 with 2 Axes>"
      ]
     },
     "metadata": {},
     "output_type": "display_data"
    }
   ],
   "source": [
    "cm_GRU = confusion_matrix(Y_test_labels_encoded, model_GRU_predict_probabilities.argmax(axis=1))\n",
    "plt.figure(figsize=(10,7))\n",
    "sns.heatmap(cm_GRU, annot=True)\n",
    "plt.xlabel('Predicted')\n",
    "plt.ylabel('Actual')"
   ]
  },
  {
   "cell_type": "code",
   "execution_count": 217,
   "metadata": {},
   "outputs": [],
   "source": [
    "all_model_results = pd.DataFrame({\"LSTM\": model_LSTM_results,\"Bidirectional\": model_Bi_LSTM_results,\"GRU\": model_GRU_results})"
   ]
  },
  {
   "cell_type": "code",
   "execution_count": 218,
   "metadata": {},
   "outputs": [
    {
     "data": {
      "text/html": [
       "<div>\n",
       "<style scoped>\n",
       "    .dataframe tbody tr th:only-of-type {\n",
       "        vertical-align: middle;\n",
       "    }\n",
       "\n",
       "    .dataframe tbody tr th {\n",
       "        vertical-align: top;\n",
       "    }\n",
       "\n",
       "    .dataframe thead th {\n",
       "        text-align: right;\n",
       "    }\n",
       "</style>\n",
       "<table border=\"1\" class=\"dataframe\">\n",
       "  <thead>\n",
       "    <tr style=\"text-align: right;\">\n",
       "      <th></th>\n",
       "      <th>Accuracy</th>\n",
       "      <th>Precision</th>\n",
       "      <th>Recall</th>\n",
       "      <th>F1 Score</th>\n",
       "    </tr>\n",
       "  </thead>\n",
       "  <tbody>\n",
       "    <tr>\n",
       "      <th>LSTM</th>\n",
       "      <td>91.946309</td>\n",
       "      <td>91.946309</td>\n",
       "      <td>0.919463</td>\n",
       "      <td>0.919285</td>\n",
       "    </tr>\n",
       "    <tr>\n",
       "      <th>Bidirectional</th>\n",
       "      <td>82.214765</td>\n",
       "      <td>82.214765</td>\n",
       "      <td>0.822148</td>\n",
       "      <td>0.816372</td>\n",
       "    </tr>\n",
       "    <tr>\n",
       "      <th>GRU</th>\n",
       "      <td>85.906040</td>\n",
       "      <td>85.906040</td>\n",
       "      <td>0.859060</td>\n",
       "      <td>0.858938</td>\n",
       "    </tr>\n",
       "  </tbody>\n",
       "</table>\n",
       "</div>"
      ],
      "text/plain": [
       "                Accuracy  Precision    Recall  F1 Score\n",
       "LSTM           91.946309  91.946309  0.919463  0.919285\n",
       "Bidirectional  82.214765  82.214765  0.822148  0.816372\n",
       "GRU            85.906040  85.906040  0.859060  0.858938"
      ]
     },
     "execution_count": 218,
     "metadata": {},
     "output_type": "execute_result"
    }
   ],
   "source": [
    "all_model_results = all_model_results.transpose()\n",
    "all_model_results"
   ]
  },
  {
   "cell_type": "code",
   "execution_count": 219,
   "metadata": {},
   "outputs": [
    {
     "data": {
      "text/plain": [
       "<matplotlib.legend.Legend at 0x12828dda020>"
      ]
     },
     "execution_count": 219,
     "metadata": {},
     "output_type": "execute_result"
    },
    {
     "data": {
      "image/png": "[encoded data removed]",
      "text/plain": [
       "<Figure size 1000x700 with 1 Axes>"
      ]
     },
     "metadata": {},
     "output_type": "display_data"
    }
   ],
   "source": [
    "all_model_results.plot(kind=\"bar\", figsize=(10, 7)).legend(bbox_to_anchor=(1.0, 1.0))"
   ]
  },
  {
   "attachments": {},
   "cell_type": "markdown",
   "metadata": {},
   "source": [
    "## Save and load DL models"
   ]
  },
  {
   "cell_type": "code",
   "execution_count": 220,
   "metadata": {},
   "outputs": [],
   "source": [
    "model_LSTM.save('models/model_LSTM.h5')\n",
    "model_LSTM.save_weights('models/model_LSTM_weights.h5')"
   ]
  },
  {
   "cell_type": "code",
   "execution_count": 221,
   "metadata": {},
   "outputs": [],
   "source": [
    "model_GRU.save('models/model_GRU.h5')\n",
    "model_GRU.save_weights('models/model_GRU_weights.h5')"
   ]
  },
  {
   "cell_type": "code",
   "execution_count": 222,
   "metadata": {},
   "outputs": [],
   "source": [
    "model_Bi_LSTM.save('models/model_Bi_LSTM.h5')\n",
    "model_Bi_LSTM.save_weights('models/model_Bi_LSTM_weights.h5')"
   ]
  },
  {
   "cell_type": "code",
   "execution_count": 223,
   "metadata": {},
   "outputs": [
    {
     "name": "stdout",
     "output_type": "stream",
     "text": [
      "Model: \"sequential_9\"\n",
      "_________________________________________________________________\n",
      " Layer (type)                Output Shape              Param #   \n",
      "=================================================================\n",
      " embedding_8 (Embedding)     (None, 500, 128)          1280000   \n",
      "                                                                 \n",
      " spatial_dropout1d_8 (Spatia  (None, 500, 128)         0         \n",
      " lDropout1D)                                                     \n",
      "                                                                 \n",
      " lstm_8 (LSTM)               (None, 128)               131584    \n",
      "                                                                 \n",
      " dropout_8 (Dropout)         (None, 128)               0         \n",
      "                                                                 \n",
      " dense_8 (Dense)             (None, 5)                 645       \n",
      "                                                                 \n",
      "=================================================================\n",
      "Total params: 1,412,229\n",
      "Trainable params: 1,412,229\n",
      "Non-trainable params: 0\n",
      "_________________________________________________________________\n"
     ]
    }
   ],
   "source": [
    "# load model\n",
    "model_LSTM_load =tensorflow.keras.models.load_model('models/model_LSTM.h5')\n",
    "# Summary\n",
    "model_LSTM_load.summary()"
   ]
  },
  {
   "cell_type": "code",
   "execution_count": 224,
   "metadata": {},
   "outputs": [
    {
     "name": "stdout",
     "output_type": "stream",
     "text": [
      "Model: \"sequential_10\"\n",
      "_________________________________________________________________\n",
      " Layer (type)                Output Shape              Param #   \n",
      "=================================================================\n",
      " embedding_9 (Embedding)     (None, 500, 128)          1280000   \n",
      "                                                                 \n",
      " spatial_dropout1d_9 (Spatia  (None, 500, 128)         0         \n",
      " lDropout1D)                                                     \n",
      "                                                                 \n",
      " bidirectional (Bidirectiona  (None, 256)              263168    \n",
      " l)                                                              \n",
      "                                                                 \n",
      " dense_9 (Dense)             (None, 128)               32896     \n",
      "                                                                 \n",
      " dropout_9 (Dropout)         (None, 128)               0         \n",
      "                                                                 \n",
      " dense_10 (Dense)            (None, 128)               16512     \n",
      "                                                                 \n",
      " dropout_10 (Dropout)        (None, 128)               0         \n",
      "                                                                 \n",
      " dense_11 (Dense)            (None, 5)                 645       \n",
      "                                                                 \n",
      "=================================================================\n",
      "Total params: 1,593,221\n",
      "Trainable params: 1,593,221\n",
      "Non-trainable params: 0\n",
      "_________________________________________________________________\n"
     ]
    }
   ],
   "source": [
    "# load model\n",
    "model_Bi_LSTM_load =tensorflow.keras.models.load_model('models/model_Bi_LSTM.h5')\n",
    "# Summary\n",
    "model_Bi_LSTM_load.summary()"
   ]
  },
  {
   "cell_type": "code",
   "execution_count": 225,
   "metadata": {},
   "outputs": [
    {
     "name": "stdout",
     "output_type": "stream",
     "text": [
      "Model: \"sequential_12\"\n",
      "_________________________________________________________________\n",
      " Layer (type)                Output Shape              Param #   \n",
      "=================================================================\n",
      " embedding_10 (Embedding)    (None, 500, 128)          1280000   \n",
      "                                                                 \n",
      " spatial_dropout1d_10 (Spati  (None, 500, 128)         0         \n",
      " alDropout1D)                                                    \n",
      "                                                                 \n",
      " gru (GRU)                   (None, 128)               99072     \n",
      "                                                                 \n",
      " dropout_11 (Dropout)        (None, 128)               0         \n",
      "                                                                 \n",
      " dense_12 (Dense)            (None, 5)                 645       \n",
      "                                                                 \n",
      "=================================================================\n",
      "Total params: 1,379,717\n",
      "Trainable params: 1,379,717\n",
      "Non-trainable params: 0\n",
      "_________________________________________________________________\n"
     ]
    }
   ],
   "source": [
    "# load model\n",
    "model_GRU_load =tensorflow.keras.models.load_model('models/model_GRU.h5')\n",
    "# Summary\n",
    "model_GRU_load.summary()"
   ]
  },
  {
   "cell_type": "code",
   "execution_count": 226,
   "metadata": {},
   "outputs": [
    {
     "name": "stdout",
     "output_type": "stream",
     "text": [
      "1/1 [==============================] - 2s 2s/step\n"
     ]
    },
    {
     "data": {
      "text/plain": [
       "(array([[0.12945817, 0.02301823, 0.54306334, 0.00857033, 0.29589   ]],\n",
       "       dtype=float32),\n",
       " 'politics')"
      ]
     },
     "execution_count": 226,
     "metadata": {},
     "output_type": "execute_result"
    }
   ],
   "source": [
    "detect_catagory_dl(model_Bi_LSTM_load,article1)"
   ]
  },
  {
   "cell_type": "code",
   "execution_count": 227,
   "metadata": {},
   "outputs": [
    {
     "name": "stdout",
     "output_type": "stream",
     "text": [
      "1/1 [==============================] - 0s 405ms/step\n"
     ]
    },
    {
     "data": {
      "text/plain": [
       "(array([[2.1433027e-04, 1.2224948e-01, 1.0099259e-02, 2.2635995e-04,\n",
       "         8.6721063e-01]], dtype=float32),\n",
       " 'tech')"
      ]
     },
     "execution_count": 227,
     "metadata": {},
     "output_type": "execute_result"
    }
   ],
   "source": [
    "detect_catagory_dl(model_GRU_load,article3)"
   ]
  },
  {
   "cell_type": "code",
   "execution_count": 229,
   "metadata": {},
   "outputs": [
    {
     "name": "stdout",
     "output_type": "stream",
     "text": [
      "1/1 [==============================] - 0s 277ms/step\n"
     ]
    },
    {
     "data": {
      "text/plain": [
       "(array([[0.06815598, 0.2989159 , 0.08044846, 0.12254515, 0.42993456]],\n",
       "       dtype=float32),\n",
       " 'tech')"
      ]
     },
     "execution_count": 229,
     "metadata": {},
     "output_type": "execute_result"
    }
   ],
   "source": [
    "detect_catagory_dl(model_LSTM_load,article3)"
   ]
  },
  {
   "cell_type": "code",
   "execution_count": null,
   "metadata": {},
   "outputs": [],
   "source": []
  }
 ],
 "metadata": {
  "kernelspec": {
   "display_name": "Python 3",
   "language": "python",
   "name": "python3"
  },
  "language_info": {
   "codemirror_mode": {
    "name": "ipython",
    "version": 3
   },
   "file_extension": ".py",
   "mimetype": "text/x-python",
   "name": "python",
   "nbconvert_exporter": "python",
   "pygments_lexer": "ipython3",
   "version": "3.10.8 | packaged by conda-forge | (main, Nov 24 2022, 14:07:00) [MSC v.1916 64 bit (AMD64)]"
  },
  "orig_nbformat": 4,
  "vscode": {
   "interpreter": {
    "hash": "c99022cbb3e3bd66f91470bf3095b041608adc9f8754fdc9b83db47291408431"
   }
  }
 },
 "nbformat": 4,
 "nbformat_minor": 2
}
