{
 "cells": [
  {
   "attachments": {},
   "cell_type": "markdown",
   "metadata": {},
   "source": [
    "### Import Libraries"
   ]
  },
  {
   "cell_type": "code",
   "execution_count": 1,
   "metadata": {},
   "outputs": [],
   "source": [
    "# Load, explore, process and plot data\n",
    "import re\n",
    "import numpy as np\n",
    "import pandas as pd\n",
    "import matplotlib.pyplot as plt\n",
    "import seaborn as sns\n",
    "import pickle as pk\n",
    "\n",
    "# Train Test Split\n",
    "from sklearn.model_selection import train_test_split,cross_val_score\n",
    "\n",
    "#Text Preprocessing\n",
    "import nltk\n",
    "from nltk.corpus import stopwords\n",
    "from nltk.stem import PorterStemmer\n",
    "from nltk.stem import WordNetLemmatizer\n",
    "from nltk.tokenize import sent_tokenize, word_tokenize\n",
    "from keras.preprocessing.text import Tokenizer\n",
    "from sklearn.feature_extraction.text import CountVectorizer,TfidfTransformer\n",
    "from sklearn.preprocessing import LabelEncoder\n",
    "from tensorflow.keras.preprocessing.text import one_hot\n",
    "from tensorflow.keras.preprocessing.sequence import pad_sequences\n",
    "\n",
    "#Machine Larning Modeling\n",
    "import sklearn\n",
    "from sklearn.naive_bayes import GaussianNB, MultinomialNB, BernoulliNB, ComplementNB\n",
    "from sklearn.neighbors import KNeighborsClassifier\n",
    "from sklearn.linear_model import LogisticRegression\n",
    "from sklearn.linear_model import SGDClassifier\n",
    "from sklearn.ensemble import RandomForestClassifier\n",
    "from sklearn.calibration import CalibratedClassifierCV\n",
    "\n",
    "\n",
    "# Deep Learning Modeling\n",
    "import tensorflow\n",
    "from tensorflow.keras.models import Sequential\n",
    "from tensorflow.keras.layers import Dense, LSTM, Bidirectional, GRU, Embedding,SpatialDropout1D, Dropout, Activation\n",
    "from keras.callbacks import ModelCheckpoint, EarlyStopping\n",
    "\n",
    "\n",
    "# Performance metrices\n",
    "from sklearn.metrics import accuracy_score, confusion_matrix, classification_report\n",
    "from keras.utils.np_utils import to_categorical\n",
    "\n",
    "\n",
    "#Logging\n",
    "import logging\n",
    "logging.basicConfig(format='%(asctime)s : %(levelname)s : %(message)s', level=logging.INFO)\n",
    "logging.root.level = logging.INFO"
   ]
  },
  {
   "attachments": {},
   "cell_type": "markdown",
   "metadata": {},
   "source": [
    "## Load Datasets"
   ]
  },
  {
   "cell_type": "code",
   "execution_count": 2,
   "metadata": {},
   "outputs": [
    {
     "name": "stdout",
     "output_type": "stream",
     "text": [
      "(1490, 3)\n",
      "(735, 2)\n"
     ]
    }
   ],
   "source": [
    "data_frame_train = pd.read_csv('dataset/BBC News Train.csv')\n",
    "data_frame_test = pd.read_csv('dataset/BBC News Test.csv')\n",
    "print(data_frame_train.shape)\n",
    "print(data_frame_test.shape)"
   ]
  },
  {
   "cell_type": "code",
   "execution_count": 4,
   "metadata": {},
   "outputs": [
    {
     "data": {
      "text/html": [
       "<div>\n",
       "<style scoped>\n",
       "    .dataframe tbody tr th:only-of-type {\n",
       "        vertical-align: middle;\n",
       "    }\n",
       "\n",
       "    .dataframe tbody tr th {\n",
       "        vertical-align: top;\n",
       "    }\n",
       "\n",
       "    .dataframe thead th {\n",
       "        text-align: right;\n",
       "    }\n",
       "</style>\n",
       "<table border=\"1\" class=\"dataframe\">\n",
       "  <thead>\n",
       "    <tr style=\"text-align: right;\">\n",
       "      <th></th>\n",
       "      <th>ArticleId</th>\n",
       "      <th>Text</th>\n",
       "      <th>Category</th>\n",
       "    </tr>\n",
       "  </thead>\n",
       "  <tbody>\n",
       "    <tr>\n",
       "      <th>0</th>\n",
       "      <td>1833</td>\n",
       "      <td>worldcom ex-boss launches defence lawyers defe...</td>\n",
       "      <td>business</td>\n",
       "    </tr>\n",
       "    <tr>\n",
       "      <th>1</th>\n",
       "      <td>154</td>\n",
       "      <td>german business confidence slides german busin...</td>\n",
       "      <td>business</td>\n",
       "    </tr>\n",
       "    <tr>\n",
       "      <th>2</th>\n",
       "      <td>1101</td>\n",
       "      <td>bbc poll indicates economic gloom citizens in ...</td>\n",
       "      <td>business</td>\n",
       "    </tr>\n",
       "    <tr>\n",
       "      <th>3</th>\n",
       "      <td>1976</td>\n",
       "      <td>lifestyle  governs mobile choice  faster  bett...</td>\n",
       "      <td>tech</td>\n",
       "    </tr>\n",
       "    <tr>\n",
       "      <th>4</th>\n",
       "      <td>917</td>\n",
       "      <td>enron bosses in $168m payout eighteen former e...</td>\n",
       "      <td>business</td>\n",
       "    </tr>\n",
       "    <tr>\n",
       "      <th>...</th>\n",
       "      <td>...</td>\n",
       "      <td>...</td>\n",
       "      <td>...</td>\n",
       "    </tr>\n",
       "    <tr>\n",
       "      <th>1485</th>\n",
       "      <td>857</td>\n",
       "      <td>double eviction from big brother model caprice...</td>\n",
       "      <td>entertainment</td>\n",
       "    </tr>\n",
       "    <tr>\n",
       "      <th>1486</th>\n",
       "      <td>325</td>\n",
       "      <td>dj double act revamp chart show dj duo jk and ...</td>\n",
       "      <td>entertainment</td>\n",
       "    </tr>\n",
       "    <tr>\n",
       "      <th>1487</th>\n",
       "      <td>1590</td>\n",
       "      <td>weak dollar hits reuters revenues at media gro...</td>\n",
       "      <td>business</td>\n",
       "    </tr>\n",
       "    <tr>\n",
       "      <th>1488</th>\n",
       "      <td>1587</td>\n",
       "      <td>apple ipod family expands market apple has exp...</td>\n",
       "      <td>tech</td>\n",
       "    </tr>\n",
       "    <tr>\n",
       "      <th>1489</th>\n",
       "      <td>538</td>\n",
       "      <td>santy worm makes unwelcome visit thousands of ...</td>\n",
       "      <td>tech</td>\n",
       "    </tr>\n",
       "  </tbody>\n",
       "</table>\n",
       "<p>1490 rows × 3 columns</p>\n",
       "</div>"
      ],
      "text/plain": [
       "      ArticleId                                               Text  \\\n",
       "0          1833  worldcom ex-boss launches defence lawyers defe...   \n",
       "1           154  german business confidence slides german busin...   \n",
       "2          1101  bbc poll indicates economic gloom citizens in ...   \n",
       "3          1976  lifestyle  governs mobile choice  faster  bett...   \n",
       "4           917  enron bosses in $168m payout eighteen former e...   \n",
       "...         ...                                                ...   \n",
       "1485        857  double eviction from big brother model caprice...   \n",
       "1486        325  dj double act revamp chart show dj duo jk and ...   \n",
       "1487       1590  weak dollar hits reuters revenues at media gro...   \n",
       "1488       1587  apple ipod family expands market apple has exp...   \n",
       "1489        538  santy worm makes unwelcome visit thousands of ...   \n",
       "\n",
       "           Category  \n",
       "0          business  \n",
       "1          business  \n",
       "2          business  \n",
       "3              tech  \n",
       "4          business  \n",
       "...             ...  \n",
       "1485  entertainment  \n",
       "1486  entertainment  \n",
       "1487       business  \n",
       "1488           tech  \n",
       "1489           tech  \n",
       "\n",
       "[1490 rows x 3 columns]"
      ]
     },
     "execution_count": 4,
     "metadata": {},
     "output_type": "execute_result"
    }
   ],
   "source": [
    "data_frame_train"
   ]
  },
  {
   "cell_type": "code",
   "execution_count": 5,
   "metadata": {},
   "outputs": [
    {
     "data": {
      "text/html": [
       "<div>\n",
       "<style scoped>\n",
       "    .dataframe tbody tr th:only-of-type {\n",
       "        vertical-align: middle;\n",
       "    }\n",
       "\n",
       "    .dataframe tbody tr th {\n",
       "        vertical-align: top;\n",
       "    }\n",
       "\n",
       "    .dataframe thead th {\n",
       "        text-align: right;\n",
       "    }\n",
       "</style>\n",
       "<table border=\"1\" class=\"dataframe\">\n",
       "  <thead>\n",
       "    <tr style=\"text-align: right;\">\n",
       "      <th></th>\n",
       "      <th>ArticleId</th>\n",
       "      <th>Text</th>\n",
       "    </tr>\n",
       "  </thead>\n",
       "  <tbody>\n",
       "    <tr>\n",
       "      <th>0</th>\n",
       "      <td>1018</td>\n",
       "      <td>qpr keeper day heads for preston queens park r...</td>\n",
       "    </tr>\n",
       "    <tr>\n",
       "      <th>1</th>\n",
       "      <td>1319</td>\n",
       "      <td>software watching while you work software that...</td>\n",
       "    </tr>\n",
       "    <tr>\n",
       "      <th>2</th>\n",
       "      <td>1138</td>\n",
       "      <td>d arcy injury adds to ireland woe gordon d arc...</td>\n",
       "    </tr>\n",
       "    <tr>\n",
       "      <th>3</th>\n",
       "      <td>459</td>\n",
       "      <td>india s reliance family feud heats up the ongo...</td>\n",
       "    </tr>\n",
       "    <tr>\n",
       "      <th>4</th>\n",
       "      <td>1020</td>\n",
       "      <td>boro suffer morrison injury blow middlesbrough...</td>\n",
       "    </tr>\n",
       "    <tr>\n",
       "      <th>...</th>\n",
       "      <td>...</td>\n",
       "      <td>...</td>\n",
       "    </tr>\n",
       "    <tr>\n",
       "      <th>730</th>\n",
       "      <td>1923</td>\n",
       "      <td>eu to probe alitalia  state aid  the european ...</td>\n",
       "    </tr>\n",
       "    <tr>\n",
       "      <th>731</th>\n",
       "      <td>373</td>\n",
       "      <td>u2 to play at grammy awards show irish rock ba...</td>\n",
       "    </tr>\n",
       "    <tr>\n",
       "      <th>732</th>\n",
       "      <td>1704</td>\n",
       "      <td>sport betting rules in spotlight a group of mp...</td>\n",
       "    </tr>\n",
       "    <tr>\n",
       "      <th>733</th>\n",
       "      <td>206</td>\n",
       "      <td>alfa romeos  to get gm engines  fiat is to sto...</td>\n",
       "    </tr>\n",
       "    <tr>\n",
       "      <th>734</th>\n",
       "      <td>471</td>\n",
       "      <td>citizenship event for 18s touted citizenship c...</td>\n",
       "    </tr>\n",
       "  </tbody>\n",
       "</table>\n",
       "<p>735 rows × 2 columns</p>\n",
       "</div>"
      ],
      "text/plain": [
       "     ArticleId                                               Text\n",
       "0         1018  qpr keeper day heads for preston queens park r...\n",
       "1         1319  software watching while you work software that...\n",
       "2         1138  d arcy injury adds to ireland woe gordon d arc...\n",
       "3          459  india s reliance family feud heats up the ongo...\n",
       "4         1020  boro suffer morrison injury blow middlesbrough...\n",
       "..         ...                                                ...\n",
       "730       1923  eu to probe alitalia  state aid  the european ...\n",
       "731        373  u2 to play at grammy awards show irish rock ba...\n",
       "732       1704  sport betting rules in spotlight a group of mp...\n",
       "733        206  alfa romeos  to get gm engines  fiat is to sto...\n",
       "734        471  citizenship event for 18s touted citizenship c...\n",
       "\n",
       "[735 rows x 2 columns]"
      ]
     },
     "execution_count": 5,
     "metadata": {},
     "output_type": "execute_result"
    }
   ],
   "source": [
    "data_frame_test"
   ]
  },
  {
   "cell_type": "code",
   "execution_count": 6,
   "metadata": {},
   "outputs": [
    {
     "data": {
      "text/plain": [
       "array(['business', 'tech', 'politics', 'sport', 'entertainment'],\n",
       "      dtype=object)"
      ]
     },
     "execution_count": 6,
     "metadata": {},
     "output_type": "execute_result"
    }
   ],
   "source": [
    "data_frame_train.Category.unique()"
   ]
  },
  {
   "cell_type": "code",
   "execution_count": 7,
   "metadata": {},
   "outputs": [
    {
     "name": "stdout",
     "output_type": "stream",
     "text": [
      "<class 'pandas.core.frame.DataFrame'>\n",
      "RangeIndex: 1490 entries, 0 to 1489\n",
      "Data columns (total 3 columns):\n",
      " #   Column     Non-Null Count  Dtype \n",
      "---  ------     --------------  ----- \n",
      " 0   ArticleId  1490 non-null   int64 \n",
      " 1   Text       1490 non-null   object\n",
      " 2   Category   1490 non-null   object\n",
      "dtypes: int64(1), object(2)\n",
      "memory usage: 35.0+ KB\n"
     ]
    }
   ],
   "source": [
    "data_frame_train.info()"
   ]
  },
  {
   "cell_type": "code",
   "execution_count": 9,
   "metadata": {},
   "outputs": [
    {
     "data": {
      "text/plain": [
       "sport            346\n",
       "business         336\n",
       "politics         274\n",
       "entertainment    273\n",
       "tech             261\n",
       "Name: Category, dtype: int64"
      ]
     },
     "execution_count": 9,
     "metadata": {},
     "output_type": "execute_result"
    }
   ],
   "source": [
    "data_frame_train['Category'].value_counts()"
   ]
  },
  {
   "cell_type": "code",
   "execution_count": 8,
   "metadata": {},
   "outputs": [
    {
     "data": {
      "text/plain": [
       "ArticleId    False\n",
       "Text         False\n",
       "Category     False\n",
       "dtype: bool"
      ]
     },
     "execution_count": 8,
     "metadata": {},
     "output_type": "execute_result"
    }
   ],
   "source": [
    "data_frame_train.isnull().any()"
   ]
  },
  {
   "cell_type": "code",
   "execution_count": 10,
   "metadata": {},
   "outputs": [
    {
     "data": {
      "text/plain": [
       "Index(['sport', 'business', 'politics', 'entertainment', 'tech'], dtype='object')"
      ]
     },
     "execution_count": 10,
     "metadata": {},
     "output_type": "execute_result"
    }
   ],
   "source": [
    "category_count = data_frame_train['Category'].value_counts()\n",
    "categories = category_count.index\n",
    "categories"
   ]
  },
  {
   "attachments": {},
   "cell_type": "markdown",
   "metadata": {},
   "source": [
    "## Exploratory Data Analysis"
   ]
  },
  {
   "cell_type": "code",
   "execution_count": 11,
   "metadata": {},
   "outputs": [
    {
     "data": {
      "image/png": "[encoded data removed]",
      "text/plain": [
       "<Figure size 1200x500 with 1 Axes>"
      ]
     },
     "metadata": {},
     "output_type": "display_data"
    }
   ],
   "source": [
    "fig = plt.figure(figsize= (12, 5))\n",
    "\n",
    "ax = fig.add_subplot(111)\n",
    "\n",
    "sns.barplot(x = category_count.index, y = category_count )\n",
    "\n",
    "for a, p in enumerate(ax.patches):\n",
    "    ax.annotate(f'{categories[a]}\\n' + format(p.get_height(), '.0f'), xy = (p.get_x() + p.get_width() / 2.0, p.get_height()), xytext = (0,-25), size = 13, color = 'white' , ha = 'center', va = 'center', textcoords = 'offset points', bbox = dict(boxstyle = 'round', facecolor='none',edgecolor='white', alpha = 0.5) )\n",
    "    \n",
    "plt.xlabel('Categories', size = 15)\n",
    "\n",
    "plt.ylabel('News frequency', size= 15)\n",
    "\n",
    "plt.xticks(size = 12)\n",
    "\n",
    "plt.title(\"News by categories\" , size = 18)\n",
    "\n",
    "plt.show()"
   ]
  },
  {
   "attachments": {},
   "cell_type": "markdown",
   "metadata": {},
   "source": [
    "## Text Preprocessing"
   ]
  },
  {
   "cell_type": "code",
   "execution_count": 12,
   "metadata": {},
   "outputs": [],
   "source": [
    "def preprocessing(sentence):\n",
    "  sentence = re.sub(r\"n\\'t\", \" not\", sentence)\n",
    "  sentence = re.sub(r\"\\'re\", \" are\", sentence)\n",
    "  sentence = re.sub(r\"\\'s\", \" is\", sentence)\n",
    "  sentence = re.sub(r\"\\'d\", \" would\", sentence)\n",
    "  sentence = re.sub(r\"\\'ll\", \" will\", sentence)\n",
    "  sentence = re.sub(r\"\\'t\", \" not\", sentence)\n",
    "  sentence = re.sub(r\"\\'ve\", \" have\", sentence)\n",
    "  sentence = re.sub(r\"\\'m\", \" am\", sentence)\n",
    "  sentence = re.sub(r\"wont\", \"will not\", sentence)\n",
    "  sentence = re.sub(r\"wouldnt\", \"would not\", sentence)\n",
    "  sentence = re.sub(r\"shouldnt\", \"should not\", sentence)\n",
    "  sentence = re.sub(r\"couldnt\", \"could not\", sentence)\n",
    "  sentence = re.sub(r\"cudnt\", \"could not\", sentence)\n",
    "  sentence = re.sub(r\"cant\", \"can not\", sentence)\n",
    "  sentence = re.sub(r\"dont\", \"do not\", sentence)\n",
    "  sentence = re.sub(r\"doesnt\", \"does not\", sentence)\n",
    "  sentence = re.sub(r\"didnt\", \"did not\", sentence)\n",
    "  sentence = re.sub(r\"wasnt\", \"was not\", sentence)\n",
    "  sentence = re.sub(r\"werent\", \"were not\", sentence)\n",
    "  sentence = re.sub(r\"havent\", \"have not\", sentence)\n",
    "  sentence = re.sub(r\"hadnt\", \"had not\", sentence)\n",
    "  sentence = re.sub(r\"ain't\", \"am not\",sentence)\n",
    "  sentence = re.sub(r\"aren't\", \"are not\",sentence)\n",
    "  sentence = re.sub(r\"can't\", \"cannot\",sentence)\n",
    "  sentence = re.sub(r\"can't've\", \"cannot have\",sentence)\n",
    "  sentence = re.sub(r\"'cause\", \"because\",sentence)\n",
    "  sentence = re.sub(r\"could've\", \"could have\",sentence)\n",
    "  sentence = re.sub(r\"couldn't\", \"could not\",sentence)\n",
    "  sentence = re.sub(r\"couldn't've\", \"could not have\",sentence)\n",
    "  sentence = re.sub(r\"didn't\", \"did not\",sentence)\n",
    "  sentence = re.sub(r\"doesn't\", \"does not\",sentence)\n",
    "  sentence = re.sub(r\"don't\", \"do not\",sentence)\n",
    "  sentence = re.sub(r\"hadn't\", \"had not\",sentence)\n",
    "  sentence = re.sub(r\"hadn't've\", \"had not have\",sentence)\n",
    "  sentence = re.sub(r\"hasn't\", \"has not\",sentence)\n",
    "  sentence = re.sub(r\"haven't\", \"have not\",sentence)\n",
    "  sentence = re.sub(r\"he'd\", \"he would\",sentence)\n",
    "  sentence = re.sub(r\"he'd've\", \"he would have\",sentence)\n",
    "  sentence = re.sub(r\"he'll\", \"he will\",sentence)\n",
    "  sentence = re.sub(r\"he'll've\", \"he will have\",sentence)\n",
    "  sentence = re.sub(r\"he's\", \"he is\",sentence)\n",
    "  sentence = re.sub(r\"how'd\", \"how did\",sentence)\n",
    "  sentence = re.sub(r\"how'd'y\", \"how do you\",sentence)\n",
    "  sentence = re.sub(r\"how'll\", \"how will\",sentence)\n",
    "  sentence = re.sub(r\"how's\", \"how is\",sentence)\n",
    "  sentence = re.sub(r\"i'd\", \"I would\",sentence)\n",
    "  sentence = re.sub(r\"i'd've\", \"I would have\",sentence)\n",
    "  sentence = re.sub(r\"i'll\", \"I will\",sentence)\n",
    "  sentence = re.sub(r\"i'll've\", \"I will have\",sentence)\n",
    "  sentence = re.sub(r\"i'm\", \"I am\",sentence)\n",
    "  sentence = re.sub(r\"i've\", \"I have\",sentence)\n",
    "  sentence = re.sub(r\"isn't\", \"is not\",sentence)\n",
    "  sentence = re.sub(r\"it'd\", \"it had\",sentence)\n",
    "  sentence = re.sub(r\"it'd've\", \"it would have\",sentence)\n",
    "  sentence = re.sub(r\"it'll\", \"it will\",sentence)\n",
    "  sentence = re.sub(r\"it'll've\", \"it will have\",sentence)\n",
    "  sentence = re.sub(r\"it's\", \"it is\",sentence)\n",
    "  sentence = re.sub(r\"let's\", \"let us\",sentence)\n",
    "  sentence = re.sub(r\"ma'am\", \"madam\",sentence)\n",
    "  sentence = re.sub(r\"mayn't\", \"may not\",sentence)\n",
    "  sentence = re.sub(r\"might've\", \"might have\",sentence)\n",
    "  sentence = re.sub(r\"mightn't\", \"might not\",sentence)\n",
    "  sentence = re.sub(r\"mightn't've\", \"might not have\",sentence)\n",
    "  sentence = re.sub(r\"must've\", \"must have\",sentence)\n",
    "  sentence = re.sub(r\"mustn't\", \"must not\",sentence)\n",
    "  sentence = re.sub(r\"mustn't've\", \"must not have\",sentence)\n",
    "  sentence = re.sub(r\"needn't\", \"need not\",sentence)\n",
    "  sentence = re.sub(r\"needn't've\", \"need not have\",sentence)\n",
    "  sentence = re.sub(r\"o'clock\", \"of the clock\",sentence)\n",
    "  sentence = re.sub(r\"oughtn't\", \"ought not\",sentence)\n",
    "  sentence = re.sub(r\"oughtn't've\", \"ought not have\",sentence)\n",
    "  sentence = re.sub(r\"shan't\", \"shall not\",sentence)\n",
    "  sentence = re.sub(r\"sha'n't\", \"shall not\",sentence)\n",
    "  sentence = re.sub(r\"shan't've\", \"shall not have\",sentence)\n",
    "  sentence = re.sub(r\"she'd\", \"she would\",sentence)\n",
    "  sentence = re.sub(r\"she'd've\", \"she would have\",sentence)\n",
    "  sentence = re.sub(r\"she'll\", \"she will\",sentence)\n",
    "  sentence = re.sub(r\"she'll've\", \"she will have\",sentence)\n",
    "  sentence = re.sub(r\"she's\", \"she is\",sentence)\n",
    "  sentence = re.sub(r\"should've\", \"should have\",sentence)\n",
    "  sentence = re.sub(r\"shouldn't\", \"should not\",sentence)\n",
    "  sentence = re.sub(r\"shouldn't've\", \"should not have\",sentence)\n",
    "  sentence = re.sub(r\"so've\", \"so have\",sentence)\n",
    "  sentence = re.sub(r\"so's\", \"so is\",sentence)\n",
    "  sentence = re.sub(r\"that'd\", \"that would\",sentence)\n",
    "  sentence = re.sub(r\"that'd've\", \"that would have\",sentence)\n",
    "  sentence = re.sub(r\"that's\", \"that is\",sentence)\n",
    "  sentence = re.sub(r\"there'd\", \"there had\",sentence)\n",
    "  sentence = re.sub(r\"there'd've\", \"there would have\",sentence)\n",
    "  sentence = re.sub(r\"there's\", \"there is\",sentence)\n",
    "  sentence = re.sub(r\"they'd\", \"they would\",sentence)\n",
    "  sentence = re.sub(r\"they'd've\", \"they would have\",sentence)\n",
    "  sentence = re.sub(r\"they'll\", \"they will\",sentence)\n",
    "  sentence = re.sub(r\"they'll've\", \"they will have\",sentence)\n",
    "  sentence = re.sub(r\"they're\", \"they are\",sentence)\n",
    "  sentence = re.sub(r\"they've\", \"they have\",sentence)\n",
    "  sentence = re.sub(r\"to've\", \"to have\",sentence)\n",
    "  sentence = re.sub(r\"wasn't\", \"was not\",sentence)\n",
    "  sentence = re.sub(r\"we'd\", \"we had\",sentence)\n",
    "  sentence = re.sub(r\"we'd've\", \"we would have\",sentence)\n",
    "  sentence = re.sub(r\"we'll\", \"we will\",sentence)\n",
    "  sentence = re.sub(r\"we'll've\", \"we will have\",sentence)\n",
    "  sentence = re.sub(r\"we're\", \"we are\",sentence)\n",
    "  sentence = re.sub(r\"we've\", \"we have\",sentence)\n",
    "  sentence = re.sub(r\"weren't\", \"were not\",sentence)\n",
    "  sentence = re.sub(r\"what'll\", \"what will\",sentence)\n",
    "  sentence = re.sub(r\"what'll've\", \"what will have\",sentence)\n",
    "  sentence = re.sub(r\"what're\", \"what are\",sentence)\n",
    "  sentence = re.sub(r\"what's\", \"what is\",sentence)\n",
    "  sentence = re.sub(r\"what've\", \"what have\",sentence)\n",
    "  sentence = re.sub(r\"when's\", \"when is\",sentence)\n",
    "  sentence = re.sub(r\"when've\", \"when have\",sentence)\n",
    "  sentence = re.sub(r\"where'd\", \"where did\",sentence)\n",
    "  sentence = re.sub(r\"where's\", \"where is\",sentence)\n",
    "  sentence = re.sub(r\"where've\", \"where have\",sentence)\n",
    "  sentence = re.sub(r\"who'll\", \"who will\",sentence)\n",
    "  sentence = re.sub(r\"who'll've\", \"who will have\",sentence)\n",
    "  sentence = re.sub(r\"who's\", \"who is\",sentence)\n",
    "  sentence = re.sub(r\"who've\", \"who have\",sentence)\n",
    "  sentence = re.sub(r\"why's\", \"why is\",sentence)\n",
    "  sentence = re.sub(r\"why've\", \"why have\",sentence)\n",
    "  sentence = re.sub(r\"will've\", \"will have\",sentence)\n",
    "  sentence = re.sub(r\"won't\", \"will not\",sentence)\n",
    "  sentence = re.sub(r\"won't've\", \"will not have\",sentence)\n",
    "  sentence = re.sub(r\"would've\", \"would have\",sentence)\n",
    "  sentence = re.sub(r\"wouldn't\", \"would not\",sentence)\n",
    "  sentence = re.sub(r\"wouldn't've\", \"would not have\",sentence)\n",
    "  sentence = re.sub(r\"y'all\", \"you all\",sentence)\n",
    "  sentence = re.sub(r\"y'alls\", \"you alls\",sentence)\n",
    "  sentence = re.sub(r\"y'all'd\", \"you all would\",sentence)\n",
    "  sentence = re.sub(r\"y'all'd've\", \"you all would have\",sentence)\n",
    "  sentence = re.sub(r\"y'all're\", \"you all are\",sentence)\n",
    "  sentence = re.sub(r\"y'all've\", \"you all have\",sentence)\n",
    "  sentence = re.sub(r\"you'd\", \"you had\",sentence)\n",
    "  sentence = re.sub(r\"you'd've\", \"you would have\",sentence)\n",
    "  sentence = re.sub(r\"you'll\", \"you you will\",sentence)\n",
    "  sentence = re.sub(r\"you'll've\", \"you you will have\",sentence)\n",
    "  sentence = re.sub(r\"you're\", \"you are\",sentence)\n",
    "  sentence = re.sub(r\"you've\", \"you have\",sentence)\n",
    "\n",
    "  \n",
    "  sentence = re.sub(r'[^\\w\\s]','',sentence) # Remove Punctutation\n",
    "  \n",
    "  sentence = sentence.lower() # Lower case\n",
    "  \n",
    "  CLEANR = re.compile('<.*?>|&([a-z0-9]+|#[0-9]{1,6}|#x[0-9a-f]{1,6});')\n",
    "  sentence = re.sub(CLEANR, '', sentence)# Remove HTML\n",
    "  \n",
    "  sentence = re.sub('[^A-Za-z]',' ',sentence)# Remove Digits\n",
    " \n",
    "  sentence = re.sub(r'[\\w._%+-]{1,20}@[\\w.-]{1,20}.[A-Za-z]{2,3}','', sentence)# Remove Email\n",
    "  \n",
    "  sentence = re.sub(r'^http?s:\\/\\/.*[\\r\\n]*','', sentence)# Remove URLs\n",
    "  \n",
    "  sentence = re.sub(r'@[A-Za-z0-9]+','',sentence) #Remove Mentions  \n",
    "\n",
    "  sentence = \" \".join(item for item in sentence.split() if item not in stopwords.words('english') )\n",
    "  \n",
    "  sentence = ' '.join([PorterStemmer().stem(word)for word in sentence.split()])\n",
    "\n",
    "  sentence = ' '.join([WordNetLemmatizer().lemmatize(word) for word in sentence.split()])\n",
    "  return sentence\n"
   ]
  },
  {
   "cell_type": "code",
   "execution_count": 13,
   "metadata": {},
   "outputs": [],
   "source": [
    "data_frame_train['Token'] = data_frame_train.Text.apply(lambda sentence : preprocessing(sentence))"
   ]
  },
  {
   "cell_type": "code",
   "execution_count": 14,
   "metadata": {},
   "outputs": [
    {
     "data": {
      "text/html": [
       "<div>\n",
       "<style scoped>\n",
       "    .dataframe tbody tr th:only-of-type {\n",
       "        vertical-align: middle;\n",
       "    }\n",
       "\n",
       "    .dataframe tbody tr th {\n",
       "        vertical-align: top;\n",
       "    }\n",
       "\n",
       "    .dataframe thead th {\n",
       "        text-align: right;\n",
       "    }\n",
       "</style>\n",
       "<table border=\"1\" class=\"dataframe\">\n",
       "  <thead>\n",
       "    <tr style=\"text-align: right;\">\n",
       "      <th></th>\n",
       "      <th>ArticleId</th>\n",
       "      <th>Text</th>\n",
       "      <th>Category</th>\n",
       "      <th>Token</th>\n",
       "    </tr>\n",
       "  </thead>\n",
       "  <tbody>\n",
       "    <tr>\n",
       "      <th>0</th>\n",
       "      <td>1833</td>\n",
       "      <td>worldcom ex-boss launches defence lawyers defe...</td>\n",
       "      <td>business</td>\n",
       "      <td>worldcom exboss launch defenc lawyer defend fo...</td>\n",
       "    </tr>\n",
       "    <tr>\n",
       "      <th>1</th>\n",
       "      <td>154</td>\n",
       "      <td>german business confidence slides german busin...</td>\n",
       "      <td>business</td>\n",
       "      <td>german busi confid slide german busi confid fe...</td>\n",
       "    </tr>\n",
       "    <tr>\n",
       "      <th>2</th>\n",
       "      <td>1101</td>\n",
       "      <td>bbc poll indicates economic gloom citizens in ...</td>\n",
       "      <td>business</td>\n",
       "      <td>bbc poll indic econom gloom citizen major nati...</td>\n",
       "    </tr>\n",
       "    <tr>\n",
       "      <th>3</th>\n",
       "      <td>1976</td>\n",
       "      <td>lifestyle  governs mobile choice  faster  bett...</td>\n",
       "      <td>tech</td>\n",
       "      <td>lifestyl govern mobil choic faster better funk...</td>\n",
       "    </tr>\n",
       "    <tr>\n",
       "      <th>4</th>\n",
       "      <td>917</td>\n",
       "      <td>enron bosses in $168m payout eighteen former e...</td>\n",
       "      <td>business</td>\n",
       "      <td>enron bos payout eighteen former enron directo...</td>\n",
       "    </tr>\n",
       "  </tbody>\n",
       "</table>\n",
       "</div>"
      ],
      "text/plain": [
       "   ArticleId                                               Text  Category  \\\n",
       "0       1833  worldcom ex-boss launches defence lawyers defe...  business   \n",
       "1        154  german business confidence slides german busin...  business   \n",
       "2       1101  bbc poll indicates economic gloom citizens in ...  business   \n",
       "3       1976  lifestyle  governs mobile choice  faster  bett...      tech   \n",
       "4        917  enron bosses in $168m payout eighteen former e...  business   \n",
       "\n",
       "                                               Token  \n",
       "0  worldcom exboss launch defenc lawyer defend fo...  \n",
       "1  german busi confid slide german busi confid fe...  \n",
       "2  bbc poll indic econom gloom citizen major nati...  \n",
       "3  lifestyl govern mobil choic faster better funk...  \n",
       "4  enron bos payout eighteen former enron directo...  "
      ]
     },
     "execution_count": 14,
     "metadata": {},
     "output_type": "execute_result"
    }
   ],
   "source": [
    "data_frame_train.head()"
   ]
  },
  {
   "cell_type": "code",
   "execution_count": 15,
   "metadata": {},
   "outputs": [
    {
     "name": "stdout",
     "output_type": "stream",
     "text": [
      "(1192,) (1192,)\n",
      "(298,) (298,)\n"
     ]
    }
   ],
   "source": [
    "X = data_frame_train.Token\n",
    "Y = data_frame_train.Category\n",
    "X_train, X_test, Y_train, Y_test = train_test_split(X,Y, test_size = 0.2, random_state = 42)\n",
    "print(X_train.shape,Y_train.shape)\n",
    "print(X_test.shape,Y_test.shape)"
   ]
  },
  {
   "cell_type": "code",
   "execution_count": 16,
   "metadata": {},
   "outputs": [],
   "source": [
    "from sklearn.feature_extraction.text import TfidfVectorizer\n",
    "from nltk.tokenize import RegexpTokenizer\n",
    "\n",
    "token = RegexpTokenizer(r'[a-zA-Z0-9]+')\n",
    "TfIdf_Vectorizer = TfidfVectorizer(tokenizer = token.tokenize)\n",
    "\n",
    "X_train_transformed = TfIdf_Vectorizer.fit_transform(X_train)\n",
    "\n",
    "#X_test_transformed = TfIdf_Vectorizer.transform(X_test)"
   ]
  },
  {
   "cell_type": "code",
   "execution_count": 20,
   "metadata": {},
   "outputs": [],
   "source": [
    "with open(\"TF-IDF/TfIdf_Vectorizer.pk\", \"wb\") as f:\n",
    "    pk.dump(TfIdf_Vectorizer, f)\n",
    "\n",
    "with open(\"TF-IDF/TfIdf_Vectorizer.pk\", \"rb\") as f:\n",
    "    vector = pk.load(f)"
   ]
  },
  {
   "attachments": {},
   "cell_type": "markdown",
   "metadata": {},
   "source": [
    "## Convert Categorical labels into numerics"
   ]
  },
  {
   "cell_type": "code",
   "execution_count": 21,
   "metadata": {},
   "outputs": [
    {
     "name": "stdout",
     "output_type": "stream",
     "text": [
      "['business' 'entertainment' 'politics' 'sport' 'tech']\n"
     ]
    }
   ],
   "source": [
    "label_fit = LabelEncoder()\n",
    "label_fit.fit(Y)\n",
    "Y_train_transformed = label_fit.transform(Y_train)\n",
    "Y_test_transformed = label_fit.transform(Y_test)\n",
    "print(label_fit.classes_)"
   ]
  },
  {
   "cell_type": "code",
   "execution_count": 199,
   "metadata": {},
   "outputs": [
    {
     "data": {
      "text/plain": [
       "array(['business', 'entertainment', 'politics', 'sport', 'tech'],\n",
       "      dtype=object)"
      ]
     },
     "execution_count": 199,
     "metadata": {},
     "output_type": "execute_result"
    }
   ],
   "source": [
    "class_names = label_fit.classes_\n",
    "class_names"
   ]
  },
  {
   "cell_type": "code",
   "execution_count": 22,
   "metadata": {},
   "outputs": [],
   "source": [
    "with open(\"Labels/label_fit.pk\", \"wb\") as f:\n",
    "    pk.dump(label_fit, f)\n",
    "\n",
    "with open(\"Labels/label_fit.pk\", \"rb\") as f:\n",
    "    label_fit = pk.load(f)"
   ]
  },
  {
   "attachments": {},
   "cell_type": "markdown",
   "metadata": {},
   "source": [
    "**Display Output in Heat Map**"
   ]
  },
  {
   "cell_type": "code",
   "execution_count": 23,
   "metadata": {},
   "outputs": [],
   "source": [
    "def plot_matrix(y_test, y_pred, color=\"Greens\"):\n",
    "    labels = np.unique(y_pred)\n",
    "    cm_df = pd.DataFrame(confusion_matrix(y_test, y_pred), index=labels, columns=labels)\n",
    "    sns.heatmap(cm_df, annot=True, fmt='g', cmap=color)\n",
    "    plt.xlabel(\"Actual\")\n",
    "    plt.ylabel(\"Predicted\")\n",
    "    plt.show()"
   ]
  },
  {
   "attachments": {},
   "cell_type": "markdown",
   "metadata": {},
   "source": [
    "## Naive Bayes"
   ]
  },
  {
   "attachments": {},
   "cell_type": "markdown",
   "metadata": {},
   "source": [
    "**Multinomial NB**"
   ]
  },
  {
   "cell_type": "code",
   "execution_count": 24,
   "metadata": {},
   "outputs": [
    {
     "name": "stdout",
     "output_type": "stream",
     "text": [
      "Average accuracy on test set=0.959731543624161\n",
      "              precision    recall  f1-score   support\n",
      "\n",
      "           0       0.99      0.95      0.97        78\n",
      "           1       0.96      1.00      0.98        44\n",
      "           2       0.95      0.90      0.92        59\n",
      "           3       1.00      0.97      0.98        65\n",
      "           4       0.90      1.00      0.95        52\n",
      "\n",
      "    accuracy                           0.96       298\n",
      "   macro avg       0.96      0.96      0.96       298\n",
      "weighted avg       0.96      0.96      0.96       298\n",
      "\n"
     ]
    },
    {
     "data": {
      "image/png": "[encoded data removed]",
      "text/plain": [
       "<Figure size 640x480 with 2 Axes>"
      ]
     },
     "metadata": {},
     "output_type": "display_data"
    }
   ],
   "source": [
    "model_MNB = MultinomialNB()\n",
    "model_MNB.fit(X_train_transformed, Y_train_transformed)\n",
    "Y_predicted_MNB = model_MNB.predict(TfIdf_Vectorizer.transform(X_test))\n",
    "print('Average accuracy on test set={}'.format(np.mean(Y_predicted_MNB == label_fit.transform(Y_test))))\n",
    "print(classification_report(Y_predicted_MNB,Y_test_transformed))\n",
    "plot_matrix(Y_test_transformed, Y_predicted_MNB)"
   ]
  },
  {
   "cell_type": "code",
   "execution_count": 25,
   "metadata": {},
   "outputs": [],
   "source": [
    "with open(\"models/model_MNB.pk\", \"wb\") as f:\n",
    "    pk.dump(model_MNB, f)\n",
    "\n",
    "with open(\"models/model_MNB.pk\", \"rb\") as f:\n",
    "    model_MNB = pk.load(f) "
   ]
  },
  {
   "cell_type": "code",
   "execution_count": 26,
   "metadata": {},
   "outputs": [],
   "source": [
    "from keras.preprocessing.text import text_to_word_sequence\n",
    "from nltk.corpus import wordnet\n",
    "def detect_catagory(model,article):\n",
    "  sentence = preprocessing(article)\n",
    "  sentence = list(sentence.split(\" \"))\n",
    "  p_tfidf = vector.transform(sentence)\n",
    "  result1 = model.predict(p_tfidf)[0]\n",
    "  result = label_fit.inverse_transform(model.predict(p_tfidf))[0]\n",
    "  probability_score = model.predict_proba(p_tfidf)[result1]\n",
    "        \n",
    "  return result,probability_score"
   ]
  },
  {
   "cell_type": "code",
   "execution_count": 210,
   "metadata": {},
   "outputs": [
    {
     "name": "stdout",
     "output_type": "stream",
     "text": [
      "Predict Index: 0\n",
      "Predict Probabilities: [0.87230589 0.02045349 0.03715273 0.03857423 0.03151366]\n",
      "Predict Category: business\n",
      "Predict Text: deadline nears for fiat-gm deal fiat and general motors (gm) have until midnight on 1 february to settle a disagreement over a potential takeover.  the deadline marks the point at which fiat will gain the right to sell its car division to gm  part of an alliance agreed in 2000. gm  whose own european operations are losing money  no longer wants to own the unprofitable fiat unit. reports of deadlocked talks sent fiat shares down 1.2% on tuesday  after monday s 4% gain on hopes of a payoff. the us firm is thought to be offering about $2bn (£1.06bn) to extricate itself from the arrangement. it has argued the deal was voided by fiat s decision to sell off fiat s finance arm and halve gm s stake via a capital-raising effort.  the 2000 deal resulted from a race between gm and daimlerchrysler to ally with fiat. the german firm wanted to buy fiat outright. but gianni agnelli  the godfather of the group  wanted to keep control  and preferred gm s offer to buy a 20% stake and give fiat the right to sell in the future  known as a  put option . since then  however  fiat cars have lost market share and the firm has piled up losses  while a plan to raise new money in 2003 cut gm s stake in half to 10%. for its part  gm s european units opel and saab have both had trouble  with opel management threatening to cut 12 000 jobs.  the last thing they need is additional production capacity in europe   said patrick juchemich  auto analyst at sal oppenheim bank.\n",
      "---------------------------------------------------------\n",
      "\n"
     ]
    }
   ],
   "source": [
    "import random\n",
    "try:\n",
    "  test_sentences = data_frame_test['Text'].to_list()\n",
    "  test_samples = random.sample(test_sentences, 1)\n",
    "  for item in test_samples:\n",
    "    message = preprocessing(str(item))\n",
    "    input = [message]\n",
    "    p_tfidf = vector.transform(input)\n",
    "    predict_index = model_MNB.predict(p_tfidf)[0]\n",
    "    predict_category = label_fit.inverse_transform(model_MNB.predict(p_tfidf))[0]\n",
    "    #score = model_MNB.predict_proba(vector.transform(input))[predict_index]\n",
    "    print(f\"Predict Index: {predict_index}\")\n",
    "    #print(f\"Predict Probabilities: {score}\")\n",
    "    print(f\"Predict Category: {predict_category}\")\n",
    "    \n",
    "    print(f\"Predict Text: {item}\")\n",
    "       \n",
    "    print(\"---------------------------------------------------------\\n\")\n",
    "except Exception as e:\n",
    "  print(f'Error raised!!: {e}') "
   ]
  },
  {
   "cell_type": "code",
   "execution_count": 72,
   "metadata": {},
   "outputs": [],
   "source": [
    "article1 = '''Google Pixel has added a new spatial audio feature with its January update for Pixel 6, 6 Pro, 7 and 7 Pro. The Verge has confirmed that a toggle for this feature has appeared in the settings menu of the Google Pixel 6 Pro. This update will roll out soon to other Pixel devices as well. The Google support page states that it will be able to support audio from apps with 5.1 surround sound.'''"
   ]
  },
  {
   "cell_type": "code",
   "execution_count": 73,
   "metadata": {},
   "outputs": [],
   "source": [
    "article2 = '''Thursday reiterated its call for peace and tranquillity in border areas for the development of the relationship with China in the face of comments by the new Chinese foreign minister about both sides being willing to ease the situation in relation to the standoff on the Line of Actual Control (LAC).. '''"
   ]
  },
  {
   "cell_type": "code",
   "execution_count": 74,
   "metadata": {},
   "outputs": [],
   "source": [
    "article3 = '''Apple has agreed to pay $50m (£41.6m) to settle a legal action by claimants in the US, over its MacBook keyboards.Customers in seven states claimed the technology giant had sold the \"butterfly\" keyboards, on MacBook, MacBook Air and MacBook Pro laptops, from 2015 to 2019, knowing they had unresponsive and sticky keys that could be damaged by dust or debris.Apple did not immediately respond to a BBC News request for comment.But the company denies any wrongdoing.The settlement could see customers receiving up to:$395, if they replaced multiple keyboards$125, if they replaced one\n",
    "$50 for those who replaced key caps\n",
    "The preliminary agreement is still subject to approval by a judge.On a typical keyboard, keys are attached using two pieces of plastic that cross each other and close like a pair of scissors when pressed.The butterfly-keyboard keys instead used a wing-like hinge.At the time, Apple said this mechanism was 40% thinner, so its laptops could be slimmer.'''"
   ]
  },
  {
   "cell_type": "code",
   "execution_count": 75,
   "metadata": {},
   "outputs": [
    {
     "data": {
      "text/plain": [
       "('tech', array([0.21895973, 0.19043624, 0.18288591, 0.23741611, 0.17030201]))"
      ]
     },
     "execution_count": 75,
     "metadata": {},
     "output_type": "execute_result"
    }
   ],
   "source": [
    "detect_catagory(model_MNB,article1)"
   ]
  },
  {
   "cell_type": "code",
   "execution_count": 76,
   "metadata": {},
   "outputs": [
    {
     "data": {
      "text/plain": [
       "('business',\n",
       " array([0.30546017, 0.18293817, 0.2054661 , 0.19851348, 0.10762208]))"
      ]
     },
     "execution_count": 76,
     "metadata": {},
     "output_type": "execute_result"
    }
   ],
   "source": [
    "detect_catagory(model_MNB,article2)"
   ]
  },
  {
   "cell_type": "code",
   "execution_count": 77,
   "metadata": {},
   "outputs": [
    {
     "data": {
      "text/plain": [
       "('tech', array([0.23837287, 0.15522151, 0.27783055, 0.13781907, 0.19075601]))"
      ]
     },
     "execution_count": 77,
     "metadata": {},
     "output_type": "execute_result"
    }
   ],
   "source": [
    "detect_catagory(model_MNB,article3)"
   ]
  },
  {
   "attachments": {},
   "cell_type": "markdown",
   "metadata": {},
   "source": [
    "**Bernoulli Naive Bayes**"
   ]
  },
  {
   "cell_type": "code",
   "execution_count": 78,
   "metadata": {},
   "outputs": [
    {
     "name": "stdout",
     "output_type": "stream",
     "text": [
      "Average accuracy on test set=0.9697986577181208\n",
      "              precision    recall  f1-score   support\n",
      "\n",
      "           0       1.00      0.91      0.96        82\n",
      "           1       1.00      0.98      0.99        47\n",
      "           2       0.95      0.98      0.96        54\n",
      "           3       1.00      1.00      1.00        63\n",
      "           4       0.90      1.00      0.95        52\n",
      "\n",
      "    accuracy                           0.97       298\n",
      "   macro avg       0.97      0.97      0.97       298\n",
      "weighted avg       0.97      0.97      0.97       298\n",
      "\n"
     ]
    },
    {
     "data": {
      "image/png": "[encoded data removed]",
      "text/plain": [
       "<Figure size 640x480 with 2 Axes>"
      ]
     },
     "metadata": {},
     "output_type": "display_data"
    }
   ],
   "source": [
    "model_BNB = BernoulliNB()\n",
    "model_BNB.fit(X_train_transformed, Y_train_transformed)\n",
    "Y_predicted_BNB = model_BNB.predict(TfIdf_Vectorizer.transform(X_test))\n",
    "print('Average accuracy on test set={}'.format(np.mean(Y_predicted_BNB == label_fit.transform(Y_test))))\n",
    "print(classification_report(Y_predicted_BNB,Y_test_transformed))\n",
    "\n",
    "\n",
    "plot_matrix(Y_test_transformed, Y_predicted_BNB)"
   ]
  },
  {
   "attachments": {},
   "cell_type": "markdown",
   "metadata": {},
   "source": [
    "**Complement Naive Beyes**"
   ]
  },
  {
   "cell_type": "code",
   "execution_count": 79,
   "metadata": {},
   "outputs": [
    {
     "name": "stdout",
     "output_type": "stream",
     "text": [
      "Average accuracy on test set=0.9765100671140939\n",
      "              precision    recall  f1-score   support\n",
      "\n",
      "           0       0.97      0.97      0.97        75\n",
      "           1       1.00      1.00      1.00        46\n",
      "           2       0.95      0.96      0.95        55\n",
      "           3       1.00      0.97      0.98        65\n",
      "           4       0.97      0.98      0.97        57\n",
      "\n",
      "    accuracy                           0.98       298\n",
      "   macro avg       0.98      0.98      0.98       298\n",
      "weighted avg       0.98      0.98      0.98       298\n",
      "\n"
     ]
    },
    {
     "data": {
      "image/png": "[encoded data removed]",
      "text/plain": [
       "<Figure size 640x480 with 2 Axes>"
      ]
     },
     "metadata": {},
     "output_type": "display_data"
    }
   ],
   "source": [
    "model_CNB = ComplementNB()\n",
    "model_CNB.fit(X_train_transformed, Y_train_transformed)\n",
    "Y_predicted_CNB = model_CNB.predict(TfIdf_Vectorizer.transform(X_test))\n",
    "print('Average accuracy on test set={}'.format(np.mean(Y_predicted_CNB == label_fit.transform(Y_test))))\n",
    "print(classification_report(Y_predicted_CNB,Y_test_transformed))\n",
    "\n",
    "\n",
    "plot_matrix(Y_test_transformed, Y_predicted_CNB)"
   ]
  },
  {
   "attachments": {},
   "cell_type": "markdown",
   "metadata": {},
   "source": [
    "**K Nearest Neighbors**"
   ]
  },
  {
   "cell_type": "code",
   "execution_count": 80,
   "metadata": {},
   "outputs": [
    {
     "name": "stdout",
     "output_type": "stream",
     "text": [
      "Average accuracy on test set=0.9395973154362416\n",
      "              precision    recall  f1-score   support\n",
      "\n",
      "           0       0.95      0.93      0.94        76\n",
      "           1       0.93      0.96      0.95        45\n",
      "           2       0.91      0.86      0.89        59\n",
      "           3       1.00      0.98      0.99        64\n",
      "           4       0.90      0.96      0.93        54\n",
      "\n",
      "    accuracy                           0.94       298\n",
      "   macro avg       0.94      0.94      0.94       298\n",
      "weighted avg       0.94      0.94      0.94       298\n",
      "\n"
     ]
    },
    {
     "data": {
      "image/png": "[encoded data removed]",
      "text/plain": [
       "<Figure size 640x480 with 2 Axes>"
      ]
     },
     "metadata": {},
     "output_type": "display_data"
    }
   ],
   "source": [
    "model_KNN = KNeighborsClassifier(n_neighbors = 5)\n",
    "model_KNN.fit(X_train_transformed, Y_train_transformed)\n",
    "Y_predicted_KNN = model_KNN.predict(TfIdf_Vectorizer.transform(X_test))\n",
    "print('Average accuracy on test set={}'.format(np.mean(Y_predicted_KNN == label_fit.transform(Y_test))))\n",
    "print(classification_report(Y_predicted_KNN,Y_test_transformed))\n",
    "\n",
    "\n",
    "plot_matrix(Y_test_transformed, Y_predicted_KNN)"
   ]
  },
  {
   "attachments": {},
   "cell_type": "markdown",
   "metadata": {},
   "source": [
    "**Stochastic Gradient Descendent classifier**"
   ]
  },
  {
   "cell_type": "code",
   "execution_count": 81,
   "metadata": {},
   "outputs": [
    {
     "name": "stdout",
     "output_type": "stream",
     "text": [
      "Average accuracy on test set=0.9865771812080537\n",
      "              precision    recall  f1-score   support\n",
      "\n",
      "           0       0.99      0.99      0.99        75\n",
      "           1       1.00      0.98      0.99        47\n",
      "           2       0.96      0.98      0.97        55\n",
      "           3       1.00      0.98      0.99        64\n",
      "           4       0.98      1.00      0.99        57\n",
      "\n",
      "    accuracy                           0.99       298\n",
      "   macro avg       0.99      0.99      0.99       298\n",
      "weighted avg       0.99      0.99      0.99       298\n",
      "\n"
     ]
    },
    {
     "data": {
      "image/png": "[encoded data removed]",
      "text/plain": [
       "<Figure size 640x480 with 2 Axes>"
      ]
     },
     "metadata": {},
     "output_type": "display_data"
    }
   ],
   "source": [
    "model_SGD = SGDClassifier(loss='hinge')\n",
    "model_SGD.fit(X_train_transformed, Y_train_transformed)\n",
    "Y_predicted_SGD = model_SGD.predict(TfIdf_Vectorizer.transform(X_test))\n",
    "print('Average accuracy on test set={}'.format(np.mean(Y_predicted_SGD == label_fit.transform(Y_test))))\n",
    "print(classification_report(Y_predicted_SGD,Y_test_transformed))\n",
    "\n",
    "\n",
    "plot_matrix(Y_test_transformed, Y_predicted_SGD)"
   ]
  },
  {
   "attachments": {},
   "cell_type": "markdown",
   "metadata": {},
   "source": [
    "**Logistic Regression**"
   ]
  },
  {
   "cell_type": "code",
   "execution_count": 82,
   "metadata": {},
   "outputs": [
    {
     "name": "stdout",
     "output_type": "stream",
     "text": [
      "Average accuracy on test set=0.9664429530201343\n",
      "              precision    recall  f1-score   support\n",
      "\n",
      "           0       0.99      0.96      0.97        77\n",
      "           1       0.98      0.98      0.98        46\n",
      "           2       0.95      0.95      0.95        56\n",
      "           3       1.00      0.95      0.98        66\n",
      "           4       0.91      1.00      0.95        53\n",
      "\n",
      "    accuracy                           0.97       298\n",
      "   macro avg       0.97      0.97      0.97       298\n",
      "weighted avg       0.97      0.97      0.97       298\n",
      "\n"
     ]
    },
    {
     "data": {
      "image/png": "[encoded data removed]",
      "text/plain": [
       "<Figure size 640x480 with 2 Axes>"
      ]
     },
     "metadata": {},
     "output_type": "display_data"
    }
   ],
   "source": [
    "model_LR = LogisticRegression()\n",
    "model_LR.fit(X_train_transformed, Y_train_transformed)\n",
    "Y_predicted_LR = model_LR.predict(TfIdf_Vectorizer.transform(X_test))\n",
    "print('Average accuracy on test set={}'.format(np.mean(Y_predicted_LR == label_fit.transform(Y_test))))\n",
    "print(classification_report(Y_predicted_LR,Y_test_transformed))\n",
    "\n",
    "\n",
    "plot_matrix(Y_test_transformed, Y_predicted_LR)"
   ]
  },
  {
   "attachments": {},
   "cell_type": "markdown",
   "metadata": {},
   "source": [
    "**Random Forest Classifier**"
   ]
  },
  {
   "cell_type": "code",
   "execution_count": 84,
   "metadata": {},
   "outputs": [
    {
     "name": "stdout",
     "output_type": "stream",
     "text": [
      "Average accuracy on test set=0.9496644295302014\n",
      "              precision    recall  f1-score   support\n",
      "\n",
      "           0       0.99      0.94      0.96        79\n",
      "           1       0.93      0.96      0.95        45\n",
      "           2       0.93      0.95      0.94        55\n",
      "           3       1.00      0.93      0.96        68\n",
      "           4       0.88      1.00      0.94        51\n",
      "\n",
      "    accuracy                           0.95       298\n",
      "   macro avg       0.95      0.95      0.95       298\n",
      "weighted avg       0.95      0.95      0.95       298\n",
      "\n"
     ]
    },
    {
     "data": {
      "image/png": "[encoded data removed]",
      "text/plain": [
       "<Figure size 640x480 with 2 Axes>"
      ]
     },
     "metadata": {},
     "output_type": "display_data"
    }
   ],
   "source": [
    "model_RFC = RandomForestClassifier(max_depth=10, random_state=18)\n",
    "model_RFC.fit(X_train_transformed, Y_train_transformed)\n",
    "Y_predicted_RFC = model_RFC.predict(TfIdf_Vectorizer.transform(X_test))\n",
    "print('Average accuracy on test set={}'.format(np.mean(Y_predicted_RFC == label_fit.transform(Y_test))))\n",
    "print(classification_report(Y_predicted_RFC,Y_test_transformed))\n",
    "\n",
    "\n",
    "plot_matrix(Y_test_transformed, Y_predicted_RFC)"
   ]
  },
  {
   "attachments": {},
   "cell_type": "markdown",
   "metadata": {},
   "source": [
    "## ML Models pickel files"
   ]
  },
  {
   "cell_type": "code",
   "execution_count": 85,
   "metadata": {},
   "outputs": [],
   "source": [
    "\n",
    "with open(\"models/model_BNB.pk\", \"wb\") as f:\n",
    "    pk.dump(model_BNB, f)\n",
    "\n",
    "with open(\"models/model_CNB.pk\", \"wb\") as f:\n",
    "    pk.dump(model_CNB, f)\n",
    "\n",
    "with open(\"models/model_MNB.pk\", \"wb\") as f:\n",
    "    pk.dump(model_MNB, f)\n",
    "\n",
    "with open(\"models/model_RFC.pk\", \"wb\") as f:\n",
    "    pk.dump(model_RFC, f)\n",
    "\n",
    "with open(\"models/model_SGD.pk\", \"wb\") as f:\n",
    "    pk.dump(model_SGD, f)\n",
    "\n",
    "with open(\"models/model_Lreg.pk\", \"wb\") as f:\n",
    "    pk.dump(model_SGD, f)\n",
    "\n",
    "with open(\"models/model_MNB.pk\", \"rb\") as f:\n",
    "    model_MNB = pk.load(f)   \n",
    "\n",
    "with open(\"models/model_BNB.pk\", \"rb\") as f:\n",
    "    model_BNB = pk.load(f)   \n",
    "\n",
    "with open(\"models/model_CNB.pk\", \"rb\") as f:\n",
    "    model_CNB = pk.load(f)   \n",
    "\n",
    "with open(\"models/model_SGD.pk\", \"rb\") as f:\n",
    "    model_SGD = pk.load(f)   \n",
    "\n",
    "with open(\"models/model_Lreg.pk\", \"rb\") as f:\n",
    "    model_Lreg = pk.load(f)   \n",
    "\n",
    "with open(\"models/model_RFC.pk\", \"rb\") as f:\n",
    "    model_RFC = pk.load(f)   \n"
   ]
  },
  {
   "attachments": {},
   "cell_type": "markdown",
   "metadata": {},
   "source": [
    "## Deep Learning Prerequisite"
   ]
  },
  {
   "attachments": {},
   "cell_type": "markdown",
   "metadata": {},
   "source": [
    "**Hyperparameter Tuning**"
   ]
  },
  {
   "cell_type": "code",
   "execution_count": 86,
   "metadata": {},
   "outputs": [
    {
     "name": "stdout",
     "output_type": "stream",
     "text": [
      "Found 17801 unique tokens.\n"
     ]
    }
   ],
   "source": [
    "EMBEDDING_DIMENSION = 100\n",
    "VOCABULARY_SIZE = 10000\n",
    "MAX_LENGTH = 1000\n",
    "OOV_TOK = '<OOV>'\n",
    "TRUNCATE_TYPE = 'pre'\n",
    "PADDING_TYPE = 'pre'\n",
    "\n",
    "tokenizer = Tokenizer(num_words=VOCABULARY_SIZE, filters='!\"#$%&()*+,-./:;<=>?@[\\]^_`{|}~', lower=True,oov_token=OOV_TOK)\n",
    "tokenizer.fit_on_texts(data_frame_train['Token'].values)\n",
    "word_index = tokenizer.word_index\n",
    "print('Found %s unique tokens.' % len(word_index))"
   ]
  },
  {
   "attachments": {},
   "cell_type": "markdown",
   "metadata": {},
   "source": [
    "**Pad Sequence**"
   ]
  },
  {
   "cell_type": "code",
   "execution_count": 87,
   "metadata": {},
   "outputs": [
    {
     "name": "stdout",
     "output_type": "stream",
     "text": [
      "Shape of data tensor: (1490, 1000)\n"
     ]
    }
   ],
   "source": [
    "X = tokenizer.texts_to_sequences(data_frame_train['Token'].values)\n",
    "pad_sequence_X = pad_sequences(X, maxlen=MAX_LENGTH,padding=PADDING_TYPE, truncating=TRUNCATE_TYPE)\n",
    "print('Shape of data tensor:', pad_sequence_X.shape)"
   ]
  },
  {
   "attachments": {},
   "cell_type": "markdown",
   "metadata": {},
   "source": [
    "**Tokenization pickle file**"
   ]
  },
  {
   "cell_type": "code",
   "execution_count": 182,
   "metadata": {},
   "outputs": [],
   "source": [
    "with open(\"Tokenizer/tokenizer.pk\", \"wb\") as f:\n",
    "    pk.dump(tokenizer, f)\n",
    "\n",
    "\n",
    "with open(\"Tokenizer/tokenizer.pk\", \"rb\") as f:\n",
    "    tokenizer = pk.load(f)"
   ]
  },
  {
   "cell_type": "code",
   "execution_count": 88,
   "metadata": {},
   "outputs": [],
   "source": [
    "with open(\"pad sequence/pad_sequence_X.pk\", \"wb\") as f:\n",
    "    pk.dump(pad_sequence_X, f)\n",
    "\n",
    "\n",
    "with open(\"pad sequence/pad_sequence_X.pk\", \"rb\") as f:\n",
    "    pad_sequence_X = pk.load(f)"
   ]
  },
  {
   "attachments": {},
   "cell_type": "markdown",
   "metadata": {},
   "source": [
    "**Conversion of label category into numbers**"
   ]
  },
  {
   "cell_type": "code",
   "execution_count": 89,
   "metadata": {},
   "outputs": [
    {
     "name": "stdout",
     "output_type": "stream",
     "text": [
      "Shape of label tensor: (1490, 5)\n"
     ]
    }
   ],
   "source": [
    "Y = pd.get_dummies(data_frame_train['Category']).values\n",
    "print('Shape of label tensor:', Y.shape)"
   ]
  },
  {
   "attachments": {},
   "cell_type": "markdown",
   "metadata": {},
   "source": [
    "**Train Test Split**"
   ]
  },
  {
   "cell_type": "code",
   "execution_count": 90,
   "metadata": {},
   "outputs": [
    {
     "name": "stdout",
     "output_type": "stream",
     "text": [
      "(1192, 1000)\n",
      "(298, 1000)\n",
      "(1192, 5)\n",
      "(298, 5)\n"
     ]
    }
   ],
   "source": [
    "X_train, X_test, Y_train, Y_test = train_test_split(pad_sequence_X, Y, test_size = 0.2, random_state = 42)\n",
    "print(X_train.shape)\n",
    "print(X_test.shape)\n",
    "print(Y_train.shape)\n",
    "print(Y_test.shape)"
   ]
  },
  {
   "cell_type": "code",
   "execution_count": 122,
   "metadata": {},
   "outputs": [
    {
     "data": {
      "text/plain": [
       "array([[0, 1, 0, 0, 0],\n",
       "       [0, 0, 1, 0, 0],\n",
       "       [0, 0, 1, 0, 0],\n",
       "       ...,\n",
       "       [0, 1, 0, 0, 0],\n",
       "       [0, 0, 0, 0, 1],\n",
       "       [0, 1, 0, 0, 0]], dtype=uint8)"
      ]
     },
     "execution_count": 122,
     "metadata": {},
     "output_type": "execute_result"
    }
   ],
   "source": [
    "Y_test"
   ]
  },
  {
   "attachments": {},
   "cell_type": "markdown",
   "metadata": {},
   "source": [
    "## LSTM Model"
   ]
  },
  {
   "cell_type": "code",
   "execution_count": 91,
   "metadata": {},
   "outputs": [],
   "source": [
    "n_lstm = 128\n",
    "drop_lstm = 0.2"
   ]
  },
  {
   "cell_type": "code",
   "execution_count": 92,
   "metadata": {},
   "outputs": [
    {
     "name": "stdout",
     "output_type": "stream",
     "text": [
      "WARNING:tensorflow:EarlyStopping mode <built-in function min> is unknown, fallback to auto mode.\n"
     ]
    },
    {
     "name": "stderr",
     "output_type": "stream",
     "text": [
      "2023-01-07 19:16:14,357 : WARNING : EarlyStopping mode <built-in function min> is unknown, fallback to auto mode.\n"
     ]
    }
   ],
   "source": [
    "model_LSTM = Sequential()\n",
    "model_LSTM.add(Embedding(VOCABULARY_SIZE, EMBEDDING_DIMENSION, input_length=pad_sequence_X.shape[1]))\n",
    "model_LSTM.add(SpatialDropout1D(drop_lstm))\n",
    "model_LSTM.add(LSTM(n_lstm,return_sequences=False,  dropout=0.2, recurrent_dropout=0.2))\n",
    "model_LSTM.add(Dropout(drop_lstm))\n",
    "model_LSTM.add(Dense(5, activation='softmax'))\n",
    "model_LSTM.compile(loss='categorical_crossentropy', optimizer='adam', metrics=['accuracy'])\n",
    "es = EarlyStopping(monitor='val_loss', mode = min, patience=3, min_delta=0.0001)"
   ]
  },
  {
   "cell_type": "code",
   "execution_count": 93,
   "metadata": {},
   "outputs": [
    {
     "name": "stdout",
     "output_type": "stream",
     "text": [
      "Model: \"sequential\"\n",
      "_________________________________________________________________\n",
      " Layer (type)                Output Shape              Param #   \n",
      "=================================================================\n",
      " embedding (Embedding)       (None, 1000, 100)         1000000   \n",
      "                                                                 \n",
      " spatial_dropout1d (SpatialD  (None, 1000, 100)        0         \n",
      " ropout1D)                                                       \n",
      "                                                                 \n",
      " lstm (LSTM)                 (None, 128)               117248    \n",
      "                                                                 \n",
      " dropout (Dropout)           (None, 128)               0         \n",
      "                                                                 \n",
      " dense (Dense)               (None, 5)                 645       \n",
      "                                                                 \n",
      "=================================================================\n",
      "Total params: 1,117,893\n",
      "Trainable params: 1,117,893\n",
      "Non-trainable params: 0\n",
      "_________________________________________________________________\n",
      "None\n",
      "You must install pydot (`pip install pydot`) and install graphviz (see instructions at https://graphviz.gitlab.io/download/) for plot_model to work.\n"
     ]
    }
   ],
   "source": [
    "from tensorflow.keras.utils import plot_model\n",
    "print(model_LSTM.summary())\n",
    "plot_model(model_LSTM, to_file='model.png', show_shapes=True, show_layer_names=True)"
   ]
  },
  {
   "cell_type": "code",
   "execution_count": 94,
   "metadata": {},
   "outputs": [
    {
     "name": "stdout",
     "output_type": "stream",
     "text": [
      "Epoch 1/10\n",
      "19/19 [==============================] - 393s 21s/step - loss: 1.5999 - accuracy: 0.2928 - val_loss: 1.5739 - val_accuracy: 0.2181\n",
      "Epoch 2/10\n",
      "19/19 [==============================] - 398s 21s/step - loss: 1.5259 - accuracy: 0.4295 - val_loss: 1.3186 - val_accuracy: 0.4094\n",
      "Epoch 3/10\n",
      "19/19 [==============================] - 401s 21s/step - loss: 1.3050 - accuracy: 0.5696 - val_loss: 1.0896 - val_accuracy: 0.5638\n",
      "Epoch 4/10\n",
      "19/19 [==============================] - 405s 21s/step - loss: 0.9902 - accuracy: 0.6426 - val_loss: 0.8085 - val_accuracy: 0.6376\n",
      "Epoch 5/10\n",
      "19/19 [==============================] - 407s 21s/step - loss: 0.6816 - accuracy: 0.7332 - val_loss: 0.8149 - val_accuracy: 0.6779\n",
      "Epoch 6/10\n",
      "19/19 [==============================] - 418s 22s/step - loss: 0.4658 - accuracy: 0.8993 - val_loss: 0.5001 - val_accuracy: 0.8523\n",
      "Epoch 7/10\n",
      "19/19 [==============================] - 421s 22s/step - loss: 0.3176 - accuracy: 0.8842 - val_loss: 0.3932 - val_accuracy: 0.8356\n",
      "Epoch 8/10\n",
      "19/19 [==============================] - 418s 22s/step - loss: 0.2410 - accuracy: 0.9648 - val_loss: 0.3830 - val_accuracy: 0.8926\n",
      "Epoch 9/10\n",
      "19/19 [==============================] - 419s 22s/step - loss: 0.1699 - accuracy: 0.9790 - val_loss: 0.4431 - val_accuracy: 0.8490\n",
      "Epoch 10/10\n",
      "19/19 [==============================] - 419s 22s/step - loss: 0.0593 - accuracy: 0.9866 - val_loss: 0.3869 - val_accuracy: 0.8557\n"
     ]
    }
   ],
   "source": [
    "history = model_LSTM.fit(X_train, Y_train, validation_data=(X_test, Y_test),epochs=10, batch_size=64,validation_split=0.1,callbacks=[es])"
   ]
  },
  {
   "cell_type": "code",
   "execution_count": 106,
   "metadata": {},
   "outputs": [
    {
     "name": "stdout",
     "output_type": "stream",
     "text": [
      "Test loss: 0.3868628740310669\n",
      "Test accuracy: 0.8557047247886658\n"
     ]
    }
   ],
   "source": [
    "score = model_LSTM.evaluate(X_test, Y_test, verbose = 0)\n",
    "print('Test loss:', score[0])\n",
    "print('Test accuracy:', score[1])"
   ]
  },
  {
   "cell_type": "code",
   "execution_count": 107,
   "metadata": {},
   "outputs": [
    {
     "data": {
      "text/plain": [
       "<matplotlib.legend.Legend at 0x24d0e7a3940>"
      ]
     },
     "execution_count": 107,
     "metadata": {},
     "output_type": "execute_result"
    },
    {
     "data": {
      "image/png": "[encoded data removed]",
      "text/plain": [
       "<Figure size 1000x500 with 1 Axes>"
      ]
     },
     "metadata": {},
     "output_type": "display_data"
    }
   ],
   "source": [
    "import matplotlib.pyplot as plt\n",
    "fig= plt.figure(figsize=(10,5))\n",
    "plt.plot(history.history['val_accuracy'], label='val_accuracy')\n",
    "plt.plot(history.history['accuracy'], label='accuracy')\n",
    "plt.xlabel(\"epoch\")\n",
    "plt.ylabel(\"Loss\")\n",
    "plt.legend()"
   ]
  },
  {
   "cell_type": "code",
   "execution_count": 108,
   "metadata": {},
   "outputs": [
    {
     "data": {
      "text/plain": [
       "<matplotlib.legend.Legend at 0x24d0e7a0190>"
      ]
     },
     "execution_count": 108,
     "metadata": {},
     "output_type": "execute_result"
    },
    {
     "data": {
      "image/png": "[encoded data removed]",
      "text/plain": [
       "<Figure size 1000x500 with 1 Axes>"
      ]
     },
     "metadata": {},
     "output_type": "display_data"
    }
   ],
   "source": [
    "import matplotlib.pyplot as plt\n",
    "fig= plt.figure(figsize=(10,5))\n",
    "plt.plot(history.history['loss'], label='loss')\n",
    "plt.plot(history.history['val_loss'], label='val_loss')\n",
    "plt.xlabel(\"epoch\")\n",
    "plt.ylabel(\"Loss\")\n",
    "plt.legend()"
   ]
  },
  {
   "cell_type": "code",
   "execution_count": 121,
   "metadata": {},
   "outputs": [],
   "source": [
    "from sklearn.metrics import accuracy_score, precision_recall_fscore_support\n",
    "def model_evaluation(Y_actual, Y_predicted):\n",
    "    model_LSTM_accuracy  = accuracy_score(Y_actual, Y_predicted) * 100\n",
    "    model_precision, model_recall, model_f1, _ = precision_recall_fscore_support(Y_actual, Y_predicted, average=\"weighted\")\n",
    "\n",
    "    model_evaluation_results = {'Accuracy' : model_LSTM_accuracy,\n",
    "                                'Precision' : model_LSTM_accuracy,\n",
    "                                'Recall': model_recall, \n",
    "                                'F1 Score': model_f1}\n",
    "    return model_evaluation_results                                                \n",
    "    "
   ]
  },
  {
   "cell_type": "code",
   "execution_count": 125,
   "metadata": {},
   "outputs": [
    {
     "data": {
      "text/plain": [
       "{'Accuracy': 83.22147651006712,\n",
       " 'Precision': 83.22147651006712,\n",
       " 'Recall': 0.8322147651006712,\n",
       " 'F1 Score': 0.8362558608683566}"
      ]
     },
     "execution_count": 125,
     "metadata": {},
     "output_type": "execute_result"
    }
   ],
   "source": [
    "LSTM_results = model_evaluation(Y_test, Y_predicted_LSTM)\n",
    "LSTM_results"
   ]
  },
  {
   "cell_type": "code",
   "execution_count": 126,
   "metadata": {},
   "outputs": [
    {
     "name": "stdout",
     "output_type": "stream",
     "text": [
      "10/10 [==============================] - 4s 383ms/step - loss: 0.3869 - accuracy: 0.8557\n"
     ]
    }
   ],
   "source": [
    "model_LSTM.evaluate(X_test,Y_test)\n",
    "model_LSTM_accuracy  = accuracy_score(Y_test, Y_predicted_LSTM)"
   ]
  },
  {
   "cell_type": "code",
   "execution_count": 109,
   "metadata": {},
   "outputs": [
    {
     "name": "stdout",
     "output_type": "stream",
     "text": [
      "10/10 [==============================] - 4s 397ms/step\n"
     ]
    }
   ],
   "source": [
    "Y_predicted_LSTM = (model_LSTM.predict(X_test) >= 0.5).astype(\"int\")"
   ]
  },
  {
   "cell_type": "code",
   "execution_count": 127,
   "metadata": {},
   "outputs": [
    {
     "name": "stdout",
     "output_type": "stream",
     "text": [
      "              precision    recall  f1-score   support\n",
      "\n",
      "           0       0.97      0.96      0.97        75\n",
      "           1       0.84      1.00      0.91        46\n",
      "           2       0.91      0.38      0.53        56\n",
      "           3       0.97      1.00      0.98        63\n",
      "           4       0.70      0.79      0.74        58\n",
      "\n",
      "   micro avg       0.88      0.83      0.85       298\n",
      "   macro avg       0.88      0.83      0.83       298\n",
      "weighted avg       0.89      0.83      0.84       298\n",
      " samples avg       0.83      0.83      0.83       298\n",
      "\n"
     ]
    },
    {
     "name": "stderr",
     "output_type": "stream",
     "text": [
      "C:\\Users\\hp\\AppData\\Roaming\\Python\\Python310\\site-packages\\sklearn\\metrics\\_classification.py:1318: UndefinedMetricWarning: Precision and F-score are ill-defined and being set to 0.0 in samples with no predicted labels. Use `zero_division` parameter to control this behavior.\n",
      "  _warn_prf(average, modifier, msg_start, len(result))\n"
     ]
    }
   ],
   "source": [
    "print(classification_report(Y_test, Y_predicted_LSTM))"
   ]
  },
  {
   "cell_type": "code",
   "execution_count": 128,
   "metadata": {},
   "outputs": [
    {
     "data": {
      "text/plain": [
       "Text(95.72222222222221, 0.5, 'Actual')"
      ]
     },
     "execution_count": 128,
     "metadata": {},
     "output_type": "execute_result"
    },
    {
     "data": {
      "image/png": "[encoded data removed]",
      "text/plain": [
       "<Figure size 1000x700 with 2 Axes>"
      ]
     },
     "metadata": {},
     "output_type": "display_data"
    }
   ],
   "source": [
    "cm_LSTM = confusion_matrix(Y_test.argmax(axis=1), Y_predicted_LSTM.argmax(axis=1))\n",
    "plt.figure(figsize=(10,7))\n",
    "sns.heatmap(cm_LSTM, annot=True)\n",
    "plt.xlabel('Predicted')\n",
    "plt.ylabel('Actual')"
   ]
  },
  {
   "cell_type": "code",
   "execution_count": 164,
   "metadata": {},
   "outputs": [
    {
     "name": "stdout",
     "output_type": "stream",
     "text": [
      "10/10 [==============================] - 4s 394ms/step\n"
     ]
    },
    {
     "data": {
      "text/plain": [
       "array([[3.2511081e-03, 9.8161960e-01, 2.1439202e-03, 7.6012267e-03,\n",
       "        5.3841406e-03],\n",
       "       [2.6432320e-03, 7.9473360e-03, 2.9442406e-01, 3.2443269e-03,\n",
       "        6.9174105e-01],\n",
       "       [4.8331609e-03, 7.1012317e-03, 9.2409968e-01, 4.3036062e-03,\n",
       "        5.9662201e-02],\n",
       "       [5.3337857e-04, 2.4475867e-03, 2.9727817e-02, 7.6199934e-04,\n",
       "        9.6652925e-01],\n",
       "       [1.8283235e-03, 2.2899708e-02, 3.6902625e-02, 3.2736829e-03,\n",
       "        9.3509561e-01]], dtype=float32)"
      ]
     },
     "execution_count": 164,
     "metadata": {},
     "output_type": "execute_result"
    }
   ],
   "source": [
    "model_LSTM_probabilities = model_LSTM.predict(X_test)\n",
    "model_LSTM_probabilities[:5]"
   ]
  },
  {
   "cell_type": "code",
   "execution_count": 165,
   "metadata": {},
   "outputs": [
    {
     "data": {
      "text/plain": [
       "<tf.Tensor: shape=(298,), dtype=int64, numpy=\n",
       "array([1, 4, 2, 4, 4, 0, 4, 1, 2, 4, 4, 1, 2, 3, 4, 4, 0, 3, 2, 0, 4, 1,\n",
       "       3, 0, 3, 4, 0, 3, 4, 0, 3, 0, 0, 2, 3, 4, 1, 0, 1, 0, 3, 0, 4, 0,\n",
       "       3, 0, 4, 4, 2, 0, 3, 3, 0, 3, 4, 1, 1, 1, 0, 1, 4, 0, 1, 4, 4, 4,\n",
       "       1, 4, 4, 2, 4, 3, 3, 3, 1, 1, 0, 2, 0, 0, 0, 3, 3, 3, 0, 1, 3, 0,\n",
       "       0, 4, 1, 2, 2, 4, 0, 1, 4, 4, 1, 2, 1, 4, 1, 3, 4, 3, 2, 3, 0, 4,\n",
       "       4, 0, 2, 1, 4, 0, 4, 0, 1, 0, 1, 3, 0, 4, 0, 0, 4, 1, 2, 1, 0, 3,\n",
       "       1, 3, 0, 0, 0, 1, 0, 1, 0, 1, 4, 3, 1, 2, 0, 4, 2, 0, 3, 0, 1, 3,\n",
       "       1, 4, 1, 3, 4, 3, 3, 4, 0, 4, 4, 4, 4, 3, 3, 1, 2, 4, 1, 1, 0, 1,\n",
       "       1, 3, 0, 0, 3, 3, 4, 1, 1, 0, 4, 2, 1, 2, 3, 3, 2, 4, 3, 3, 2, 3,\n",
       "       3, 0, 1, 4, 3, 1, 0, 3, 4, 4, 0, 0, 3, 4, 0, 1, 3, 4, 2, 3, 4, 4,\n",
       "       3, 4, 0, 0, 1, 1, 0, 2, 4, 2, 2, 3, 3, 0, 0, 4, 0, 3, 3, 3, 4, 1,\n",
       "       1, 1, 0, 0, 1, 1, 3, 1, 3, 2, 4, 3, 2, 4, 1, 3, 4, 0, 0, 2, 1, 4,\n",
       "       4, 3, 3, 0, 4, 1, 3, 3, 4, 3, 3, 2, 3, 3, 0, 2, 1, 0, 0, 4, 0, 0,\n",
       "       0, 4, 4, 1, 0, 0, 0, 0, 0, 1, 4, 1], dtype=int64)>"
      ]
     },
     "execution_count": 165,
     "metadata": {},
     "output_type": "execute_result"
    }
   ],
   "source": [
    "model_LSTM_predict_labels = tensorflow.argmax(model_LSTM_probabilities, axis=1)\n",
    "model_LSTM_predict_labels"
   ]
  },
  {
   "attachments": {},
   "cell_type": "markdown",
   "metadata": {},
   "source": [
    "# Bi-Directional LSTM"
   ]
  },
  {
   "cell_type": "markdown",
   "metadata": {},
   "source": []
  },
  {
   "cell_type": "code",
   "execution_count": 99,
   "metadata": {},
   "outputs": [
    {
     "name": "stdout",
     "output_type": "stream",
     "text": [
      "WARNING:tensorflow:EarlyStopping mode <built-in function min> is unknown, fallback to auto mode.\n"
     ]
    },
    {
     "name": "stderr",
     "output_type": "stream",
     "text": [
      "2023-01-07 20:50:11,904 : WARNING : EarlyStopping mode <built-in function min> is unknown, fallback to auto mode.\n"
     ]
    }
   ],
   "source": [
    "model_Bi_LSTM = Sequential()\n",
    "model_Bi_LSTM.add(Embedding(VOCABULARY_SIZE, EMBEDDING_DIMENSION, input_length=pad_sequence_X.shape[1]))\n",
    "model_Bi_LSTM.add(SpatialDropout1D(0.3))\n",
    "model_Bi_LSTM.add(Bidirectional(LSTM(EMBEDDING_DIMENSION, dropout=drop_lstm)))\n",
    "model_Bi_LSTM.add(Dense(EMBEDDING_DIMENSION, activation='relu'))\n",
    "model_Bi_LSTM.add(Dropout(drop_lstm))\n",
    "model_Bi_LSTM.add(Dense(EMBEDDING_DIMENSION, activation='relu'))\n",
    "model_Bi_LSTM.add(Dropout(drop_lstm))\n",
    "model_Bi_LSTM.add(Dense(5, activation='softmax'))\n",
    "model_Bi_LSTM.compile(loss='categorical_crossentropy', optimizer='adam',metrics=['accuracy'])\n",
    "es = EarlyStopping(monitor='val_loss', mode = min, patience=3, min_delta=0.0001)"
   ]
  },
  {
   "cell_type": "code",
   "execution_count": 100,
   "metadata": {},
   "outputs": [
    {
     "name": "stdout",
     "output_type": "stream",
     "text": [
      "Model: \"sequential_1\"\n",
      "_________________________________________________________________\n",
      " Layer (type)                Output Shape              Param #   \n",
      "=================================================================\n",
      " embedding_1 (Embedding)     (None, 1000, 100)         1000000   \n",
      "                                                                 \n",
      " spatial_dropout1d_1 (Spatia  (None, 1000, 100)        0         \n",
      " lDropout1D)                                                     \n",
      "                                                                 \n",
      " bidirectional (Bidirectiona  (None, 200)              160800    \n",
      " l)                                                              \n",
      "                                                                 \n",
      " dense_1 (Dense)             (None, 100)               20100     \n",
      "                                                                 \n",
      " dropout_1 (Dropout)         (None, 100)               0         \n",
      "                                                                 \n",
      " dense_2 (Dense)             (None, 100)               10100     \n",
      "                                                                 \n",
      " dropout_2 (Dropout)         (None, 100)               0         \n",
      "                                                                 \n",
      " dense_3 (Dense)             (None, 5)                 505       \n",
      "                                                                 \n",
      "=================================================================\n",
      "Total params: 1,191,505\n",
      "Trainable params: 1,191,505\n",
      "Non-trainable params: 0\n",
      "_________________________________________________________________\n",
      "None\n",
      "You must install pydot (`pip install pydot`) and install graphviz (see instructions at https://graphviz.gitlab.io/download/) for plot_model to work.\n"
     ]
    }
   ],
   "source": [
    "from tensorflow.keras.utils import plot_model\n",
    "print(model_Bi_LSTM.summary())\n",
    "plot_model(model_Bi_LSTM, to_file='model.png', show_shapes=True, show_layer_names=True)"
   ]
  },
  {
   "cell_type": "code",
   "execution_count": 102,
   "metadata": {},
   "outputs": [
    {
     "name": "stdout",
     "output_type": "stream",
     "text": [
      "Epoch 1/10\n",
      "75/75 [==============================] - 127s 2s/step - loss: 0.0165 - accuracy: 0.9941 - val_loss: 0.4181 - val_accuracy: 0.8960\n",
      "Epoch 2/10\n",
      "75/75 [==============================] - 131s 2s/step - loss: 0.0023 - accuracy: 1.0000 - val_loss: 0.5781 - val_accuracy: 0.8691\n",
      "Epoch 3/10\n",
      "75/75 [==============================] - 124s 2s/step - loss: 0.0053 - accuracy: 0.9983 - val_loss: 0.4974 - val_accuracy: 0.9094\n",
      "Epoch 4/10\n",
      "75/75 [==============================] - 123s 2s/step - loss: 0.0113 - accuracy: 0.9966 - val_loss: 0.6019 - val_accuracy: 0.8725\n"
     ]
    }
   ],
   "source": [
    "history = model_Bi_LSTM.fit(X_train, Y_train, validation_data=(X_test, Y_test),epochs=10, batch_size=16,validation_split=0.1,callbacks=[es])"
   ]
  },
  {
   "cell_type": "code",
   "execution_count": 131,
   "metadata": {},
   "outputs": [
    {
     "name": "stdout",
     "output_type": "stream",
     "text": [
      "Test loss: 0.6019126772880554\n",
      "Test accuracy: 0.8724831938743591\n"
     ]
    }
   ],
   "source": [
    "score = model_Bi_LSTM.evaluate(X_test, Y_test, verbose = 0)\n",
    "print('Test loss:',score[0])\n",
    "print('Test accuracy:',score[1])"
   ]
  },
  {
   "cell_type": "code",
   "execution_count": 132,
   "metadata": {},
   "outputs": [
    {
     "data": {
      "text/plain": [
       "<matplotlib.legend.Legend at 0x24d12389ab0>"
      ]
     },
     "execution_count": 132,
     "metadata": {},
     "output_type": "execute_result"
    },
    {
     "data": {
      "image/png": "[encoded data removed]",
      "text/plain": [
       "<Figure size 1000x500 with 1 Axes>"
      ]
     },
     "metadata": {},
     "output_type": "display_data"
    }
   ],
   "source": [
    "import matplotlib.pyplot as plt\n",
    "fig= plt.figure(figsize=(10,5))\n",
    "plt.plot(history.history['val_accuracy'], label='val_accuracy')\n",
    "plt.plot(history.history['accuracy'], label='accuracy')\n",
    "plt.xlabel(\"epoch\")\n",
    "plt.ylabel(\"Loss\")\n",
    "plt.legend()"
   ]
  },
  {
   "cell_type": "code",
   "execution_count": 133,
   "metadata": {},
   "outputs": [
    {
     "data": {
      "text/plain": [
       "<matplotlib.legend.Legend at 0x24d123e3d60>"
      ]
     },
     "execution_count": 133,
     "metadata": {},
     "output_type": "execute_result"
    },
    {
     "data": {
      "image/png": "[encoded data removed]",
      "text/plain": [
       "<Figure size 1000x500 with 1 Axes>"
      ]
     },
     "metadata": {},
     "output_type": "display_data"
    }
   ],
   "source": [
    "import matplotlib.pyplot as plt\n",
    "fig= plt.figure(figsize=(10,5))\n",
    "plt.plot(history.history['loss'], label='loss')\n",
    "plt.plot(history.history['val_loss'], label='val_loss')\n",
    "plt.xlabel(\"epoch\")\n",
    "plt.ylabel(\"Loss\")\n",
    "plt.legend()"
   ]
  },
  {
   "cell_type": "code",
   "execution_count": 136,
   "metadata": {},
   "outputs": [
    {
     "name": "stdout",
     "output_type": "stream",
     "text": [
      "10/10 [==============================] - 6s 589ms/step - loss: 0.6019 - accuracy: 0.8725\n"
     ]
    },
    {
     "data": {
      "text/plain": [
       "[0.6019126772880554, 0.8724831938743591]"
      ]
     },
     "execution_count": 136,
     "metadata": {},
     "output_type": "execute_result"
    }
   ],
   "source": [
    "model_Bi_LSTM.evaluate(X_test,Y_test)"
   ]
  },
  {
   "cell_type": "code",
   "execution_count": 137,
   "metadata": {},
   "outputs": [
    {
     "name": "stdout",
     "output_type": "stream",
     "text": [
      "10/10 [==============================] - 9s 577ms/step\n"
     ]
    }
   ],
   "source": [
    "Y_predicted_Bi_LSTM = (model_Bi_LSTM.predict(X_test) >= 0.5).astype(\"int\")"
   ]
  },
  {
   "cell_type": "code",
   "execution_count": 139,
   "metadata": {},
   "outputs": [
    {
     "data": {
      "text/plain": [
       "{'Accuracy': 87.24832214765101,\n",
       " 'Precision': 87.24832214765101,\n",
       " 'Recall': 0.87248322147651,\n",
       " 'F1 Score': 0.8746305139167581}"
      ]
     },
     "execution_count": 139,
     "metadata": {},
     "output_type": "execute_result"
    }
   ],
   "source": [
    "Bi_LSTM_results = model_evaluation(Y_test, Y_predicted_Bi_LSTM)\n",
    "Bi_LSTM_results"
   ]
  },
  {
   "cell_type": "code",
   "execution_count": 140,
   "metadata": {},
   "outputs": [
    {
     "name": "stdout",
     "output_type": "stream",
     "text": [
      "10/10 [==============================] - 6s 608ms/step - loss: 0.6019 - accuracy: 0.8725\n"
     ]
    }
   ],
   "source": [
    "model_Bi_LSTM.evaluate(X_test,Y_test)\n",
    "model_Bi_LSTM_accuracy  = accuracy_score(Y_test, Y_predicted_Bi_LSTM)\n"
   ]
  },
  {
   "cell_type": "code",
   "execution_count": 141,
   "metadata": {},
   "outputs": [
    {
     "name": "stdout",
     "output_type": "stream",
     "text": [
      "              precision    recall  f1-score   support\n",
      "\n",
      "           0       0.89      0.95      0.92        75\n",
      "           1       0.81      0.85      0.83        46\n",
      "           2       0.81      0.84      0.82        56\n",
      "           3       0.98      0.95      0.97        63\n",
      "           4       0.88      0.74      0.80        58\n",
      "\n",
      "   micro avg       0.88      0.87      0.88       298\n",
      "   macro avg       0.87      0.87      0.87       298\n",
      "weighted avg       0.88      0.87      0.87       298\n",
      " samples avg       0.87      0.87      0.87       298\n",
      "\n"
     ]
    },
    {
     "name": "stderr",
     "output_type": "stream",
     "text": [
      "C:\\Users\\hp\\AppData\\Roaming\\Python\\Python310\\site-packages\\sklearn\\metrics\\_classification.py:1318: UndefinedMetricWarning: Precision and F-score are ill-defined and being set to 0.0 in samples with no predicted labels. Use `zero_division` parameter to control this behavior.\n",
      "  _warn_prf(average, modifier, msg_start, len(result))\n"
     ]
    }
   ],
   "source": [
    "print(classification_report(Y_test, Y_predicted_Bi_LSTM))"
   ]
  },
  {
   "cell_type": "code",
   "execution_count": 142,
   "metadata": {},
   "outputs": [
    {
     "data": {
      "text/plain": [
       "Text(95.72222222222221, 0.5, 'Actual')"
      ]
     },
     "execution_count": 142,
     "metadata": {},
     "output_type": "execute_result"
    },
    {
     "data": {
      "image/png": "[encoded data removed]",
      "text/plain": [
       "<Figure size 1000x700 with 2 Axes>"
      ]
     },
     "metadata": {},
     "output_type": "display_data"
    }
   ],
   "source": [
    "cm_Bi_LSTM = confusion_matrix(Y_test.argmax(axis=1), Y_predicted_Bi_LSTM.argmax(axis=1))\n",
    "plt.figure(figsize=(10,7))\n",
    "sns.heatmap(cm_Bi_LSTM, annot=True)\n",
    "plt.xlabel('Predicted')\n",
    "plt.ylabel('Actual')"
   ]
  },
  {
   "cell_type": "code",
   "execution_count": 162,
   "metadata": {},
   "outputs": [
    {
     "name": "stdout",
     "output_type": "stream",
     "text": [
      "10/10 [==============================] - 6s 565ms/step\n"
     ]
    },
    {
     "data": {
      "text/plain": [
       "array([[6.15126046e-04, 8.98803949e-01, 9.04626504e-05, 4.63044882e-04,\n",
       "        1.00027405e-01],\n",
       "       [1.47914006e-05, 1.09492788e-08, 9.99981046e-01, 1.14704915e-06,\n",
       "        2.93985295e-06],\n",
       "       [3.92386901e-05, 6.40987849e-08, 9.99947548e-01, 4.54056226e-06,\n",
       "        8.63915830e-06],\n",
       "       [2.56268159e-02, 4.07361513e-04, 9.35335696e-01, 4.00307123e-04,\n",
       "        3.82298008e-02],\n",
       "       [3.38534778e-06, 2.45341659e-03, 4.53092298e-07, 5.19403294e-08,\n",
       "        9.97542739e-01]], dtype=float32)"
      ]
     },
     "execution_count": 162,
     "metadata": {},
     "output_type": "execute_result"
    }
   ],
   "source": [
    "model_Bi_LSTM_probabilities = model_Bi_LSTM.predict(X_test)\n",
    "model_Bi_LSTM_probabilities[:5]"
   ]
  },
  {
   "cell_type": "code",
   "execution_count": 163,
   "metadata": {},
   "outputs": [
    {
     "data": {
      "text/plain": [
       "<tf.Tensor: shape=(298,), dtype=int64, numpy=\n",
       "array([1, 2, 2, 2, 4, 0, 1, 1, 0, 4, 2, 1, 0, 3, 4, 2, 0, 3, 2, 0, 4, 1,\n",
       "       3, 0, 3, 4, 0, 3, 4, 0, 2, 0, 0, 2, 3, 4, 4, 0, 1, 0, 3, 0, 2, 0,\n",
       "       3, 0, 2, 4, 2, 0, 3, 3, 0, 3, 2, 4, 1, 2, 0, 1, 4, 0, 4, 4, 4, 4,\n",
       "       0, 4, 2, 2, 2, 3, 3, 3, 1, 1, 0, 2, 0, 0, 0, 3, 3, 3, 0, 1, 3, 0,\n",
       "       0, 4, 4, 2, 2, 4, 0, 0, 4, 4, 1, 2, 1, 2, 1, 3, 4, 3, 2, 3, 0, 4,\n",
       "       2, 0, 0, 1, 4, 2, 0, 0, 1, 0, 0, 3, 0, 2, 0, 0, 4, 2, 2, 2, 0, 3,\n",
       "       1, 3, 0, 2, 2, 1, 0, 1, 0, 1, 4, 3, 1, 2, 2, 4, 2, 2, 3, 0, 1, 3,\n",
       "       1, 4, 1, 3, 4, 3, 3, 2, 0, 0, 2, 2, 4, 3, 3, 4, 2, 4, 1, 4, 0, 1,\n",
       "       1, 3, 0, 0, 3, 3, 4, 1, 1, 0, 4, 2, 1, 2, 3, 3, 2, 4, 3, 3, 2, 3,\n",
       "       3, 0, 1, 2, 3, 1, 0, 3, 4, 4, 0, 0, 3, 2, 0, 1, 3, 0, 2, 3, 4, 2,\n",
       "       3, 4, 0, 0, 1, 4, 0, 2, 2, 2, 2, 3, 3, 0, 0, 4, 0, 1, 3, 1, 2, 1,\n",
       "       1, 4, 0, 0, 1, 1, 3, 0, 1, 3, 0, 3, 4, 4, 1, 3, 0, 0, 2, 2, 1, 4,\n",
       "       4, 3, 3, 0, 2, 1, 3, 1, 4, 3, 3, 2, 3, 3, 0, 2, 1, 0, 0, 2, 0, 0,\n",
       "       0, 4, 2, 1, 0, 0, 0, 0, 0, 1, 4, 1], dtype=int64)>"
      ]
     },
     "execution_count": 163,
     "metadata": {},
     "output_type": "execute_result"
    }
   ],
   "source": [
    "model_Bi_LSTM_predict_labels = tensorflow.argmax(model_Bi_LSTM_probabilities, axis=1)\n",
    "model_Bi_LSTM_predict_labels"
   ]
  },
  {
   "attachments": {},
   "cell_type": "markdown",
   "metadata": {},
   "source": [
    "## GRU: Gated Recurrent Unit"
   ]
  },
  {
   "cell_type": "code",
   "execution_count": 103,
   "metadata": {},
   "outputs": [
    {
     "name": "stdout",
     "output_type": "stream",
     "text": [
      "WARNING:tensorflow:EarlyStopping mode <built-in function min> is unknown, fallback to auto mode.\n"
     ]
    },
    {
     "name": "stderr",
     "output_type": "stream",
     "text": [
      "2023-01-07 21:21:04,605 : WARNING : EarlyStopping mode <built-in function min> is unknown, fallback to auto mode.\n"
     ]
    }
   ],
   "source": [
    "model_GRU = Sequential()\n",
    "model_GRU.add(Embedding(VOCABULARY_SIZE, EMBEDDING_DIMENSION, input_length=pad_sequence_X.shape[1]))\n",
    "model_GRU.add(SpatialDropout1D(0.3))\n",
    "model_GRU.add(GRU(EMBEDDING_DIMENSION, return_sequences = False))\n",
    "model_GRU.add(Dropout(drop_lstm))\n",
    "model_GRU.add(Dense(5, activation='softmax'))\n",
    "model_GRU.compile(loss='categorical_crossentropy', optimizer='adam',metrics=['accuracy'])\n",
    "es = EarlyStopping(monitor='val_loss', mode = min, patience=3, min_delta=0.0001)"
   ]
  },
  {
   "cell_type": "code",
   "execution_count": 104,
   "metadata": {},
   "outputs": [
    {
     "name": "stdout",
     "output_type": "stream",
     "text": [
      "Model: \"sequential_2\"\n",
      "_________________________________________________________________\n",
      " Layer (type)                Output Shape              Param #   \n",
      "=================================================================\n",
      " embedding_2 (Embedding)     (None, 1000, 100)         1000000   \n",
      "                                                                 \n",
      " spatial_dropout1d_2 (Spatia  (None, 1000, 100)        0         \n",
      " lDropout1D)                                                     \n",
      "                                                                 \n",
      " gru (GRU)                   (None, 100)               60600     \n",
      "                                                                 \n",
      " dropout_3 (Dropout)         (None, 100)               0         \n",
      "                                                                 \n",
      " dense_4 (Dense)             (None, 5)                 505       \n",
      "                                                                 \n",
      "=================================================================\n",
      "Total params: 1,061,105\n",
      "Trainable params: 1,061,105\n",
      "Non-trainable params: 0\n",
      "_________________________________________________________________\n",
      "None\n",
      "You must install pydot (`pip install pydot`) and install graphviz (see instructions at https://graphviz.gitlab.io/download/) for plot_model to work.\n"
     ]
    }
   ],
   "source": [
    "from tensorflow.keras.utils import plot_model\n",
    "print(model_GRU.summary())\n",
    "plot_model(model_GRU, to_file='model.png', show_shapes=True, show_layer_names=True)"
   ]
  },
  {
   "cell_type": "code",
   "execution_count": 105,
   "metadata": {},
   "outputs": [
    {
     "name": "stdout",
     "output_type": "stream",
     "text": [
      "Epoch 1/10\n",
      "75/75 [==============================] - 70s 880ms/step - loss: 1.5887 - accuracy: 0.2559 - val_loss: 1.5393 - val_accuracy: 0.2483\n",
      "Epoch 2/10\n",
      "75/75 [==============================] - 69s 910ms/step - loss: 1.2634 - accuracy: 0.6820 - val_loss: 0.9727 - val_accuracy: 0.6510\n",
      "Epoch 3/10\n",
      "75/75 [==============================] - 64s 849ms/step - loss: 0.3965 - accuracy: 0.8742 - val_loss: 0.4905 - val_accuracy: 0.8188\n",
      "Epoch 4/10\n",
      "75/75 [==============================] - 62s 830ms/step - loss: 0.1057 - accuracy: 0.9715 - val_loss: 0.4393 - val_accuracy: 0.8490\n",
      "Epoch 5/10\n",
      "75/75 [==============================] - 63s 831ms/step - loss: 0.0228 - accuracy: 0.9966 - val_loss: 0.3822 - val_accuracy: 0.9060\n",
      "Epoch 6/10\n",
      "75/75 [==============================] - 62s 833ms/step - loss: 0.0208 - accuracy: 0.9950 - val_loss: 0.4746 - val_accuracy: 0.8523\n",
      "Epoch 7/10\n",
      "75/75 [==============================] - 61s 815ms/step - loss: 0.0042 - accuracy: 1.0000 - val_loss: 0.4441 - val_accuracy: 0.8826\n",
      "Epoch 8/10\n",
      "75/75 [==============================] - 59s 791ms/step - loss: 0.0037 - accuracy: 0.9992 - val_loss: 0.4388 - val_accuracy: 0.8826\n"
     ]
    }
   ],
   "source": [
    "history = model_GRU.fit(X_train, Y_train, validation_data=(X_test, Y_test),epochs=10, batch_size=16,validation_split=0.1,callbacks=[es])"
   ]
  },
  {
   "cell_type": "code",
   "execution_count": 145,
   "metadata": {},
   "outputs": [
    {
     "name": "stdout",
     "output_type": "stream",
     "text": [
      "Test loss: 0.4388255774974823\n",
      "Test accuracy: 0.8825503587722778\n"
     ]
    }
   ],
   "source": [
    "score = model_GRU.evaluate(X_test, Y_test, verbose = 0)\n",
    "print('Test loss:',score[0])\n",
    "print('Test accuracy:',score[1])"
   ]
  },
  {
   "cell_type": "code",
   "execution_count": 146,
   "metadata": {},
   "outputs": [
    {
     "name": "stdout",
     "output_type": "stream",
     "text": [
      "10/10 [==============================] - 6s 457ms/step\n"
     ]
    }
   ],
   "source": [
    "Y_predicted_GRU = (model_GRU.predict(X_test) >= 0.5).astype(\"int\")"
   ]
  },
  {
   "cell_type": "code",
   "execution_count": 147,
   "metadata": {},
   "outputs": [
    {
     "data": {
      "text/plain": [
       "<matplotlib.legend.Legend at 0x24d12e39780>"
      ]
     },
     "execution_count": 147,
     "metadata": {},
     "output_type": "execute_result"
    },
    {
     "data": {
      "image/png": "[encoded data removed]",
      "text/plain": [
       "<Figure size 1000x500 with 1 Axes>"
      ]
     },
     "metadata": {},
     "output_type": "display_data"
    }
   ],
   "source": [
    "import matplotlib.pyplot as plt\n",
    "fig= plt.figure(figsize=(10,5))\n",
    "plt.plot(history.history['val_accuracy'], label='val_accuracy')\n",
    "plt.plot(history.history['accuracy'], label='accuracy')\n",
    "plt.xlabel(\"epoch\")\n",
    "plt.ylabel(\"Loss\")\n",
    "plt.legend()"
   ]
  },
  {
   "cell_type": "code",
   "execution_count": 148,
   "metadata": {},
   "outputs": [
    {
     "data": {
      "text/plain": [
       "<matplotlib.legend.Legend at 0x24d144c8dc0>"
      ]
     },
     "execution_count": 148,
     "metadata": {},
     "output_type": "execute_result"
    },
    {
     "data": {
      "image/png": "[encoded data removed]",
      "text/plain": [
       "<Figure size 1000x500 with 1 Axes>"
      ]
     },
     "metadata": {},
     "output_type": "display_data"
    }
   ],
   "source": [
    "import matplotlib.pyplot as plt\n",
    "fig= plt.figure(figsize=(10,5))\n",
    "plt.plot(history.history['loss'], label='loss')\n",
    "plt.plot(history.history['val_loss'], label='val_loss')\n",
    "plt.xlabel(\"epoch\")\n",
    "plt.ylabel(\"Loss\")\n",
    "plt.legend()"
   ]
  },
  {
   "cell_type": "code",
   "execution_count": 149,
   "metadata": {},
   "outputs": [
    {
     "data": {
      "text/plain": [
       "{'Accuracy': 87.58389261744966,\n",
       " 'Precision': 87.58389261744966,\n",
       " 'Recall': 0.8758389261744967,\n",
       " 'F1 Score': 0.8859076055320173}"
      ]
     },
     "execution_count": 149,
     "metadata": {},
     "output_type": "execute_result"
    }
   ],
   "source": [
    "GRU_results = model_evaluation(Y_test, Y_predicted_GRU)\n",
    "GRU_results"
   ]
  },
  {
   "cell_type": "code",
   "execution_count": 150,
   "metadata": {},
   "outputs": [
    {
     "name": "stdout",
     "output_type": "stream",
     "text": [
      "10/10 [==============================] - 5s 478ms/step - loss: 0.4388 - accuracy: 0.8826\n"
     ]
    }
   ],
   "source": [
    "model_GRU.evaluate(X_test,Y_test)\n",
    "model_GRU_accuracy  = accuracy_score(Y_test, Y_predicted_GRU)"
   ]
  },
  {
   "cell_type": "code",
   "execution_count": 151,
   "metadata": {},
   "outputs": [
    {
     "name": "stdout",
     "output_type": "stream",
     "text": [
      "              precision    recall  f1-score   support\n",
      "\n",
      "           0       0.90      0.92      0.91        75\n",
      "           1       0.82      0.89      0.85        46\n",
      "           2       0.85      0.82      0.84        56\n",
      "           3       0.97      1.00      0.98        63\n",
      "           4       0.95      0.72      0.82        58\n",
      "\n",
      "   micro avg       0.90      0.88      0.89       298\n",
      "   macro avg       0.90      0.87      0.88       298\n",
      "weighted avg       0.90      0.88      0.89       298\n",
      " samples avg       0.88      0.88      0.88       298\n",
      "\n"
     ]
    },
    {
     "name": "stderr",
     "output_type": "stream",
     "text": [
      "C:\\Users\\hp\\AppData\\Roaming\\Python\\Python310\\site-packages\\sklearn\\metrics\\_classification.py:1318: UndefinedMetricWarning: Precision and F-score are ill-defined and being set to 0.0 in samples with no predicted labels. Use `zero_division` parameter to control this behavior.\n",
      "  _warn_prf(average, modifier, msg_start, len(result))\n"
     ]
    }
   ],
   "source": [
    "print(classification_report(Y_test, Y_predicted_GRU))"
   ]
  },
  {
   "cell_type": "code",
   "execution_count": 152,
   "metadata": {},
   "outputs": [
    {
     "name": "stdout",
     "output_type": "stream",
     "text": [
      "              precision    recall  f1-score   support\n",
      "\n",
      "           0       0.90      0.92      0.91        75\n",
      "           1       0.82      0.89      0.85        46\n",
      "           2       0.85      0.82      0.84        56\n",
      "           3       0.97      1.00      0.98        63\n",
      "           4       0.95      0.72      0.82        58\n",
      "\n",
      "   micro avg       0.90      0.88      0.89       298\n",
      "   macro avg       0.90      0.87      0.88       298\n",
      "weighted avg       0.90      0.88      0.89       298\n",
      " samples avg       0.88      0.88      0.88       298\n",
      "\n"
     ]
    },
    {
     "name": "stderr",
     "output_type": "stream",
     "text": [
      "C:\\Users\\hp\\AppData\\Roaming\\Python\\Python310\\site-packages\\sklearn\\metrics\\_classification.py:1318: UndefinedMetricWarning: Precision and F-score are ill-defined and being set to 0.0 in samples with no predicted labels. Use `zero_division` parameter to control this behavior.\n",
      "  _warn_prf(average, modifier, msg_start, len(result))\n"
     ]
    }
   ],
   "source": [
    "print(classification_report(Y_test, Y_predicted_GRU))"
   ]
  },
  {
   "cell_type": "code",
   "execution_count": 153,
   "metadata": {},
   "outputs": [
    {
     "data": {
      "text/plain": [
       "Text(95.72222222222221, 0.5, 'Actual')"
      ]
     },
     "execution_count": 153,
     "metadata": {},
     "output_type": "execute_result"
    },
    {
     "data": {
      "image/png": "[encoded data removed]",
      "text/plain": [
       "<Figure size 1000x700 with 2 Axes>"
      ]
     },
     "metadata": {},
     "output_type": "display_data"
    }
   ],
   "source": [
    "cm_GRU = confusion_matrix(Y_test.argmax(axis=1), Y_predicted_GRU.argmax(axis=1))\n",
    "plt.figure(figsize=(10,7))\n",
    "sns.heatmap(cm_GRU, annot=True)\n",
    "plt.xlabel('Predicted')\n",
    "plt.ylabel('Actual')"
   ]
  },
  {
   "cell_type": "code",
   "execution_count": 158,
   "metadata": {},
   "outputs": [
    {
     "name": "stdout",
     "output_type": "stream",
     "text": [
      "10/10 [==============================] - 6s 554ms/step\n"
     ]
    },
    {
     "data": {
      "text/plain": [
       "array([[1.30517185e-02, 7.50148952e-01, 5.26567176e-03, 9.43248272e-02,\n",
       "        1.37208834e-01],\n",
       "       [4.71820036e-04, 2.48474418e-03, 9.97028649e-01, 1.20024270e-05,\n",
       "        2.70308783e-06],\n",
       "       [1.88102698e-04, 1.94460008e-04, 9.99611199e-01, 5.93447157e-06,\n",
       "        2.92739088e-07],\n",
       "       [4.24562814e-03, 5.88472068e-01, 7.43182376e-02, 3.26789427e-03,\n",
       "        3.29696208e-01],\n",
       "       [2.02004856e-04, 7.15257883e-01, 4.97306173e-04, 1.20653957e-03,\n",
       "        2.82836288e-01]], dtype=float32)"
      ]
     },
     "execution_count": 158,
     "metadata": {},
     "output_type": "execute_result"
    }
   ],
   "source": [
    "model_GRU_probabilities = model_GRU.predict(X_test)\n",
    "model_GRU_probabilities[:5]"
   ]
  },
  {
   "cell_type": "code",
   "execution_count": 159,
   "metadata": {},
   "outputs": [
    {
     "data": {
      "text/plain": [
       "<tf.Tensor: shape=(298,), dtype=int64, numpy=\n",
       "array([1, 2, 2, 1, 1, 0, 4, 1, 0, 4, 2, 1, 0, 3, 4, 0, 0, 3, 2, 2, 4, 1,\n",
       "       3, 0, 3, 4, 0, 3, 4, 0, 3, 0, 0, 2, 3, 4, 1, 0, 1, 0, 3, 2, 2, 0,\n",
       "       3, 0, 2, 4, 2, 0, 3, 3, 0, 3, 2, 1, 1, 2, 0, 1, 4, 0, 1, 4, 4, 4,\n",
       "       0, 4, 2, 2, 2, 3, 3, 3, 1, 1, 0, 2, 0, 2, 0, 3, 3, 3, 0, 1, 3, 0,\n",
       "       0, 4, 1, 2, 0, 4, 0, 0, 4, 4, 1, 2, 1, 2, 1, 3, 4, 3, 0, 3, 0, 4,\n",
       "       3, 0, 0, 1, 2, 2, 0, 0, 1, 0, 1, 3, 0, 2, 0, 0, 4, 3, 2, 0, 0, 3,\n",
       "       1, 3, 0, 2, 0, 1, 0, 1, 0, 1, 4, 3, 4, 2, 2, 4, 2, 2, 3, 0, 1, 3,\n",
       "       1, 4, 1, 3, 4, 3, 3, 2, 0, 4, 2, 2, 4, 3, 3, 4, 2, 4, 4, 1, 0, 1,\n",
       "       1, 3, 0, 0, 3, 3, 4, 1, 1, 0, 4, 2, 1, 2, 3, 3, 2, 4, 3, 3, 2, 3,\n",
       "       3, 0, 1, 2, 3, 1, 0, 3, 4, 4, 0, 0, 3, 2, 0, 1, 3, 0, 2, 3, 4, 2,\n",
       "       3, 1, 0, 0, 1, 4, 0, 2, 2, 2, 2, 3, 3, 0, 0, 4, 0, 3, 3, 1, 2, 1,\n",
       "       1, 1, 0, 0, 1, 1, 3, 4, 1, 2, 0, 3, 2, 4, 1, 3, 0, 0, 0, 2, 4, 4,\n",
       "       4, 3, 3, 0, 2, 1, 3, 3, 3, 3, 3, 0, 3, 3, 0, 2, 2, 0, 0, 2, 0, 0,\n",
       "       0, 4, 2, 1, 0, 0, 0, 0, 2, 1, 4, 1], dtype=int64)>"
      ]
     },
     "execution_count": 159,
     "metadata": {},
     "output_type": "execute_result"
    }
   ],
   "source": [
    "model_GRU_predict_labels = tensorflow.argmax(model_GRU_probabilities, axis=1)\n",
    "model_GRU_predict_labels"
   ]
  },
  {
   "cell_type": "code",
   "execution_count": 174,
   "metadata": {},
   "outputs": [],
   "source": [
    "all_model_results = pd.DataFrame({\"LSTM\": LSTM_results,\"Bidirectional\": Bi_LSTM_results,\"GRU\": GRU_results})"
   ]
  },
  {
   "cell_type": "code",
   "execution_count": 175,
   "metadata": {},
   "outputs": [
    {
     "data": {
      "text/html": [
       "<div>\n",
       "<style scoped>\n",
       "    .dataframe tbody tr th:only-of-type {\n",
       "        vertical-align: middle;\n",
       "    }\n",
       "\n",
       "    .dataframe tbody tr th {\n",
       "        vertical-align: top;\n",
       "    }\n",
       "\n",
       "    .dataframe thead th {\n",
       "        text-align: right;\n",
       "    }\n",
       "</style>\n",
       "<table border=\"1\" class=\"dataframe\">\n",
       "  <thead>\n",
       "    <tr style=\"text-align: right;\">\n",
       "      <th></th>\n",
       "      <th>Accuracy</th>\n",
       "      <th>Precision</th>\n",
       "      <th>Recall</th>\n",
       "      <th>F1 Score</th>\n",
       "    </tr>\n",
       "  </thead>\n",
       "  <tbody>\n",
       "    <tr>\n",
       "      <th>LSTM</th>\n",
       "      <td>83.221477</td>\n",
       "      <td>83.221477</td>\n",
       "      <td>0.832215</td>\n",
       "      <td>0.836256</td>\n",
       "    </tr>\n",
       "    <tr>\n",
       "      <th>Bidirectional</th>\n",
       "      <td>87.248322</td>\n",
       "      <td>87.248322</td>\n",
       "      <td>0.872483</td>\n",
       "      <td>0.874631</td>\n",
       "    </tr>\n",
       "    <tr>\n",
       "      <th>GRU</th>\n",
       "      <td>87.583893</td>\n",
       "      <td>87.583893</td>\n",
       "      <td>0.875839</td>\n",
       "      <td>0.885908</td>\n",
       "    </tr>\n",
       "  </tbody>\n",
       "</table>\n",
       "</div>"
      ],
      "text/plain": [
       "                Accuracy  Precision    Recall  F1 Score\n",
       "LSTM           83.221477  83.221477  0.832215  0.836256\n",
       "Bidirectional  87.248322  87.248322  0.872483  0.874631\n",
       "GRU            87.583893  87.583893  0.875839  0.885908"
      ]
     },
     "execution_count": 175,
     "metadata": {},
     "output_type": "execute_result"
    }
   ],
   "source": [
    "all_model_results = all_model_results.transpose()\n",
    "all_model_results"
   ]
  },
  {
   "cell_type": "code",
   "execution_count": 176,
   "metadata": {},
   "outputs": [
    {
     "data": {
      "text/plain": [
       "<matplotlib.legend.Legend at 0x24d148577f0>"
      ]
     },
     "execution_count": 176,
     "metadata": {},
     "output_type": "execute_result"
    },
    {
     "data": {
      "image/png": "[encoded data removed]",
      "text/plain": [
       "<Figure size 1000x700 with 1 Axes>"
      ]
     },
     "metadata": {},
     "output_type": "display_data"
    }
   ],
   "source": [
    "all_model_results.plot(kind=\"bar\", figsize=(10, 7)).legend(bbox_to_anchor=(1.0, 1.0))"
   ]
  },
  {
   "attachments": {},
   "cell_type": "markdown",
   "metadata": {},
   "source": [
    "## Save and load DL models"
   ]
  },
  {
   "cell_type": "code",
   "execution_count": 177,
   "metadata": {},
   "outputs": [],
   "source": [
    "model_LSTM.save('models/model_LSTM.h5')\n",
    "model_LSTM.save_weights('models/model_LSTM_weights.h5')"
   ]
  },
  {
   "cell_type": "code",
   "execution_count": 203,
   "metadata": {},
   "outputs": [],
   "source": [
    "model_GRU.save('models/model_GRU.h5')\n",
    "model_GRU.save_weights('models/model_GRU_weights.h5')"
   ]
  },
  {
   "cell_type": "code",
   "execution_count": 202,
   "metadata": {},
   "outputs": [],
   "source": [
    "model_Bi_LSTM.save('models/model_Bi_LSTM.h5')\n",
    "model_Bi_LSTM.save_weights('models/model_Bi_LSTM_weights.h5')"
   ]
  },
  {
   "cell_type": "code",
   "execution_count": 180,
   "metadata": {},
   "outputs": [
    {
     "name": "stdout",
     "output_type": "stream",
     "text": [
      "Model: \"sequential\"\n",
      "_________________________________________________________________\n",
      " Layer (type)                Output Shape              Param #   \n",
      "=================================================================\n",
      " embedding (Embedding)       (None, 1000, 100)         1000000   \n",
      "                                                                 \n",
      " spatial_dropout1d (SpatialD  (None, 1000, 100)        0         \n",
      " ropout1D)                                                       \n",
      "                                                                 \n",
      " lstm (LSTM)                 (None, 128)               117248    \n",
      "                                                                 \n",
      " dropout (Dropout)           (None, 128)               0         \n",
      "                                                                 \n",
      " dense (Dense)               (None, 5)                 645       \n",
      "                                                                 \n",
      "=================================================================\n",
      "Total params: 1,117,893\n",
      "Trainable params: 1,117,893\n",
      "Non-trainable params: 0\n",
      "_________________________________________________________________\n"
     ]
    }
   ],
   "source": [
    "# load model\n",
    "load_model_LSTM =tensorflow.keras.models.load_model('models/model_LSTM.h5')\n",
    "# Summary\n",
    "load_model_LSTM.summary()"
   ]
  },
  {
   "cell_type": "code",
   "execution_count": 212,
   "metadata": {},
   "outputs": [
    {
     "name": "stdout",
     "output_type": "stream",
     "text": [
      "1/1 [==============================] - 0s 273ms/step\n",
      "Error raised!!: 'Sequential' object has no attribute 'predict_proba'\n"
     ]
    }
   ],
   "source": [
    "import random\n",
    "try:\n",
    "  test_sentences = data_frame_test['Text'].to_list()\n",
    "  test_samples = random.sample(test_sentences, 5)\n",
    "  for test_sample in test_samples:\n",
    "    message = preprocessing(str(test_sample))\n",
    "    input = [message]\n",
    "    input_sequences = tokenizer.texts_to_sequences(input)\n",
    "    input_pad = pad_sequences(input_sequences, padding='pre', maxlen=MAX_LENGTH,truncating=TRUNCATE_TYPE)\n",
    "    pred_probs = load_model_LSTM.predict(input_pad)\n",
    "    score = load_model_LSTM.predict_proba(pred_probs)\n",
    "    preds = tensorflow.argmax(pred_probs, axis=1)\n",
    "\n",
    "    print(f\"Pred: {preds}, label: {class_names[preds]}\")\n",
    "    print(f\"Text:\\n{test_sample}\\n\")\n",
    "    \n",
    "    print(\"---------------------------------------------------------\\n\")\n",
    "except Exception as e:\n",
    "  print(f'Error raised!!: {e}') \n",
    "\n",
    "\n",
    "\n",
    "    # p_tfidf = vector.transform(input)\n",
    "    # predict_index = model_MNB.predict(p_tfidf)[0]\n",
    "    # predict_category = label_fit.inverse_transform(model_MNB.predict(p_tfidf))[0]\n",
    "    # #score = model_MNB.predict_proba(vector.transform(input))[predict_index]"
   ]
  },
  {
   "cell_type": "code",
   "execution_count": null,
   "metadata": {},
   "outputs": [],
   "source": []
  }
 ],
 "metadata": {
  "kernelspec": {
   "display_name": "Python 3",
   "language": "python",
   "name": "python3"
  },
  "language_info": {
   "codemirror_mode": {
    "name": "ipython",
    "version": 3
   },
   "file_extension": ".py",
   "mimetype": "text/x-python",
   "name": "python",
   "nbconvert_exporter": "python",
   "pygments_lexer": "ipython3",
   "version": "3.10.8"
  },
  "orig_nbformat": 4,
  "vscode": {
   "interpreter": {
    "hash": "c99022cbb3e3bd66f91470bf3095b041608adc9f8754fdc9b83db47291408431"
   }
  }
 },
 "nbformat": 4,
 "nbformat_minor": 2
}
